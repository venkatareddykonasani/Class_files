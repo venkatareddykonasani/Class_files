{
  "nbformat": 4,
  "nbformat_minor": 0,
  "metadata": {
    "colab": {
      "name": "Day1_code_version1.ipynb",
      "provenance": [],
      "collapsed_sections": [
        "16VllpE64o-9",
        "RjQZjLk8JcBb",
        "pfaemOrjJpUF",
        "GjnYaTOPY6ll"
      ],
      "toc_visible": true,
      "include_colab_link": true
    },
    "kernelspec": {
      "name": "python3",
      "display_name": "Python 3"
    }
  },
  "cells": [
    {
      "cell_type": "markdown",
      "metadata": {
        "id": "view-in-github",
        "colab_type": "text"
      },
      "source": [
        "<a href=\"https://colab.research.google.com/github/venkatareddykonasani/Class_files/blob/master/Day1_code_version1.ipynb\" target=\"_parent\"><img src=\"https://colab.research.google.com/assets/colab-badge.svg\" alt=\"Open In Colab\"/></a>"
      ]
    },
    {
      "cell_type": "markdown",
      "metadata": {
        "id": "8yj53Qjx0FKc"
      },
      "source": [
        "**Welcome to Python Bootcamp**\n",
        "\n",
        "\n",
        "\n",
        "\n"
      ]
    },
    {
      "cell_type": "markdown",
      "metadata": {
        "id": "16VllpE64o-9"
      },
      "source": [
        "# Section 1: Basic Commands"
      ]
    },
    {
      "cell_type": "markdown",
      "metadata": {
        "id": "q7lpGLTb7v0T"
      },
      "source": [
        "## 1.1 - Simple Operations"
      ]
    },
    {
      "cell_type": "code",
      "metadata": {
        "id": "GtXnxnoCymDU",
        "outputId": "ba399e8d-208a-43f7-da73-22ec65351173",
        "colab": {
          "base_uri": "https://localhost:8080/",
          "height": 34
        }
      },
      "source": [
        "# Simple addition in Python using '+' operator\n",
        "571+95"
      ],
      "execution_count": null,
      "outputs": [
        {
          "output_type": "execute_result",
          "data": {
            "text/plain": [
              "666"
            ]
          },
          "metadata": {
            "tags": []
          },
          "execution_count": 42
        }
      ]
    },
    {
      "cell_type": "code",
      "metadata": {
        "id": "hcdqz1V5-e5B",
        "outputId": "50870472-b802-470b-a356-938e0cf20bb5",
        "colab": {
          "base_uri": "https://localhost:8080/",
          "height": 34
        }
      },
      "source": [
        "# printing the result using 'print' statement\n",
        "print(571+95)"
      ],
      "execution_count": null,
      "outputs": [
        {
          "output_type": "stream",
          "text": [
            "666\n"
          ],
          "name": "stdout"
        }
      ]
    },
    {
      "cell_type": "code",
      "metadata": {
        "id": "R2eyxhcOyxMS",
        "outputId": "f3dd878f-033f-4e2e-ae76-28f54f755eea",
        "colab": {
          "base_uri": "https://localhost:8080/",
          "height": 34
        }
      },
      "source": [
        "# Simple subtraction in Python using '-' operator\n",
        "459-67"
      ],
      "execution_count": null,
      "outputs": [
        {
          "output_type": "execute_result",
          "data": {
            "text/plain": [
              "392"
            ]
          },
          "metadata": {
            "tags": []
          },
          "execution_count": 44
        }
      ]
    },
    {
      "cell_type": "code",
      "metadata": {
        "id": "WGq9Yjo3yxA5",
        "outputId": "c116f5bb-0df8-4fac-ac05-7ef550d88350",
        "colab": {
          "base_uri": "https://localhost:8080/",
          "height": 34
        }
      },
      "source": [
        "# Simple multiplication in Python using '*' operator\n",
        "78*91"
      ],
      "execution_count": null,
      "outputs": [
        {
          "output_type": "execute_result",
          "data": {
            "text/plain": [
              "7098"
            ]
          },
          "metadata": {
            "tags": []
          },
          "execution_count": 45
        }
      ]
    },
    {
      "cell_type": "code",
      "metadata": {
        "id": "9cUJlVVPyxUH",
        "outputId": "e00d57b1-2e25-47fb-f29f-8dbdab0c4ccd",
        "colab": {
          "base_uri": "https://localhost:8080/",
          "height": 34
        }
      },
      "source": [
        "# Simple division in Python using '/' operator\n",
        "100/5"
      ],
      "execution_count": null,
      "outputs": [
        {
          "output_type": "execute_result",
          "data": {
            "text/plain": [
              "20.0"
            ]
          },
          "metadata": {
            "tags": []
          },
          "execution_count": 46
        }
      ]
    },
    {
      "cell_type": "markdown",
      "metadata": {
        "id": "wp3z8CX6-4Qa"
      },
      "source": [
        "## 1.2 - Commenting a line"
      ]
    },
    {
      "cell_type": "code",
      "metadata": {
        "id": "2N3GCIzg-0mo",
        "outputId": "3910e126-186e-4d30-83f5-b2366c3c3e7c",
        "colab": {
          "base_uri": "https://localhost:8080/",
          "height": 34
        }
      },
      "source": [
        "# Type '#' at the start of the line to mark it as comment\n",
        "print(568+23)"
      ],
      "execution_count": null,
      "outputs": [
        {
          "output_type": "stream",
          "text": [
            "591\n"
          ],
          "name": "stdout"
        }
      ]
    },
    {
      "cell_type": "markdown",
      "metadata": {
        "id": "P2n2cGPl-oEb"
      },
      "source": [
        "## 1.3 - Errors\n"
      ]
    },
    {
      "cell_type": "code",
      "metadata": {
        "id": "AopK2D9n-lWE",
        "outputId": "8a9bf093-b58a-47de-8d60-93430dabcd77",
        "colab": {
          "base_uri": "https://localhost:8080/",
          "height": 195
        }
      },
      "source": [
        "# A variable need to be defined before using in a syntax, else it would lead to 'NameError'. \n",
        "# In below example, variable 'p' is not yet defined and statement will lead to an error.\n",
        "574*p"
      ],
      "execution_count": null,
      "outputs": [
        {
          "output_type": "error",
          "ename": "NameError",
          "evalue": "ignored",
          "traceback": [
            "\u001b[0;31m---------------------------------------------------------------------------\u001b[0m",
            "\u001b[0;31mNameError\u001b[0m                                 Traceback (most recent call last)",
            "\u001b[0;32m<ipython-input-48-f95dc4dfbf0c>\u001b[0m in \u001b[0;36m<module>\u001b[0;34m()\u001b[0m\n\u001b[1;32m      1\u001b[0m \u001b[0;31m# A variable need to be defined before using in a syntax, else it would lead to 'NameError'.\u001b[0m\u001b[0;34m\u001b[0m\u001b[0;34m\u001b[0m\u001b[0;34m\u001b[0m\u001b[0m\n\u001b[1;32m      2\u001b[0m \u001b[0;31m# In below example, variable 'p' is not yet defined and statement will lead to an error.\u001b[0m\u001b[0;34m\u001b[0m\u001b[0;34m\u001b[0m\u001b[0;34m\u001b[0m\u001b[0m\n\u001b[0;32m----> 3\u001b[0;31m \u001b[0;36m574\u001b[0m\u001b[0;34m*\u001b[0m\u001b[0mp\u001b[0m\u001b[0;34m\u001b[0m\u001b[0;34m\u001b[0m\u001b[0m\n\u001b[0m",
            "\u001b[0;31mNameError\u001b[0m: name 'p' is not defined"
          ]
        }
      ]
    },
    {
      "cell_type": "code",
      "metadata": {
        "id": "dqwJhBtJM8AW"
      },
      "source": [
        ""
      ],
      "execution_count": null,
      "outputs": []
    },
    {
      "cell_type": "code",
      "metadata": {
        "id": "2A_FQ5TL-sJS"
      },
      "source": [
        "# An operator need to be applied to the right type of values (operands) else it will lead to error.\n",
        "# In below example, '+' operator is applied on a number (576) and a string (p) which is incorrect leading to TypeError.\n",
        "576+'p'"
      ],
      "execution_count": null,
      "outputs": []
    },
    {
      "cell_type": "markdown",
      "metadata": {
        "id": "THgyy2_wNH79"
      },
      "source": [
        "## 1.4 - Variable Assignment "
      ]
    },
    {
      "cell_type": "code",
      "metadata": {
        "id": "_KBl1_ilNJxV"
      },
      "source": [
        "# A variable can be assigned a value using '=' operator\n",
        "# In below example, variable 'income' has been assigned a value of '12000'\n",
        "\n",
        "income = 12000\n",
        "print(income)"
      ],
      "execution_count": null,
      "outputs": []
    },
    {
      "cell_type": "code",
      "metadata": {
        "id": "DHcDNnxbNM9l"
      },
      "source": [
        "# variable x is assigned number '20'\n",
        "x=20\n",
        "print(x)"
      ],
      "execution_count": null,
      "outputs": []
    },
    {
      "cell_type": "code",
      "metadata": {
        "id": "VxJzOLgVNTFd"
      },
      "source": [
        "# variable x is assigned a string value\n",
        "x=\"march\"\n",
        "print(x)"
      ],
      "execution_count": null,
      "outputs": []
    },
    {
      "cell_type": "code",
      "metadata": {
        "id": "VZ5byQIiNWOg"
      },
      "source": [
        "# delete statement removes/deletes a variable from memory\n",
        "# In below example, variable x is deleted\n",
        "del(x)"
      ],
      "execution_count": null,
      "outputs": []
    },
    {
      "cell_type": "code",
      "metadata": {
        "id": "gmWCU4-3szaZ"
      },
      "source": [
        ""
      ],
      "execution_count": null,
      "outputs": []
    },
    {
      "cell_type": "code",
      "metadata": {
        "id": "4z_wKobONaAy"
      },
      "source": [
        "# Below statement will throw an error\n",
        "# variable 'x' is deleted in above line of code thus its no longer available for python interpreter leading to error\n",
        "print(x)"
      ],
      "execution_count": null,
      "outputs": []
    },
    {
      "cell_type": "code",
      "metadata": {
        "id": "h4E2P61fNa-z"
      },
      "source": [
        "# Defining variable x again and initializing with value 20\n",
        "x=20"
      ],
      "execution_count": null,
      "outputs": []
    },
    {
      "cell_type": "code",
      "metadata": {
        "id": "WNHtk9kbNdlc"
      },
      "source": [
        "# Initializaing variable y with value 30\n",
        "y=30"
      ],
      "execution_count": null,
      "outputs": []
    },
    {
      "cell_type": "code",
      "metadata": {
        "id": "fgMpqd4VNeio"
      },
      "source": [
        "# variable z is assigned a derieved value (from the multiplication of variable x and variable y\n",
        "z=x*y"
      ],
      "execution_count": null,
      "outputs": []
    },
    {
      "cell_type": "code",
      "metadata": {
        "id": "8srMbT-CNhNJ"
      },
      "source": [
        "# printing variable z\n",
        "print(z)"
      ],
      "execution_count": null,
      "outputs": []
    },
    {
      "cell_type": "code",
      "metadata": {
        "id": "400Z0MkuNhVv"
      },
      "source": [
        "# Initializing a new variable k and assigning value 50\n",
        "k=50"
      ],
      "execution_count": null,
      "outputs": []
    },
    {
      "cell_type": "code",
      "metadata": {
        "id": "g2D4jEXfNhak"
      },
      "source": [
        "# Reassigning variable z, as multiplication of variable x and variable k\n",
        "z=x*k"
      ],
      "execution_count": null,
      "outputs": []
    },
    {
      "cell_type": "markdown",
      "metadata": {
        "id": "s8C41jzR28Ot"
      },
      "source": [
        "## 1.5 - Naming Convention\n",
        "Python follows certain rules for naming a variable"
      ]
    },
    {
      "cell_type": "code",
      "metadata": {
        "id": "F8DpKNTHNoSQ"
      },
      "source": [
        "# Rule 1: variable name must start with a letter or an underscore else it will lead to Error\n",
        "# In below statement, variable name is getting started with a number ('1') thus leading to SyntaxError\n",
        "1x=20"
      ],
      "execution_count": null,
      "outputs": []
    },
    {
      "cell_type": "code",
      "metadata": {
        "id": "hL2E6_tv3FEd"
      },
      "source": [
        "# In the below statement, digit '1' is swapped with 'x' at the begining position thus resolving the error\n",
        "x1=20"
      ],
      "execution_count": null,
      "outputs": []
    },
    {
      "cell_type": "code",
      "metadata": {
        "id": "BqtxUSbI3Gbv"
      },
      "source": [
        "# Rule 2: A variable name can only contain alpha-numeric characters and underscores\n",
        "# In below statement, variable name contains a decimal thus leading to SyntaxError\n",
        "x.1=30"
      ],
      "execution_count": null,
      "outputs": []
    },
    {
      "cell_type": "code",
      "metadata": {
        "id": "mx3Q7wpd3HuB"
      },
      "source": [
        "# In the below statement, decimal '.' is replaced with underscore '_' thus resolving the error\n",
        "x_1=20"
      ],
      "execution_count": null,
      "outputs": []
    },
    {
      "cell_type": "code",
      "metadata": {
        "id": "c4CLzDmE3JXl"
      },
      "source": [
        "# Space (' ') is not supported in a variable name\n",
        "# In the below statement, variable name contains a space ' ' (between x and 1) thus leading to error\n",
        "x 1=20"
      ],
      "execution_count": null,
      "outputs": []
    },
    {
      "cell_type": "code",
      "metadata": {
        "id": "HhowmR7n3LOs"
      },
      "source": [
        "# Below statement also contains unsupported character '$' in the variable name thus leading to the error\n",
        "x$20"
      ],
      "execution_count": null,
      "outputs": []
    },
    {
      "cell_type": "markdown",
      "metadata": {
        "id": "n8zjbzRXgX7M"
      },
      "source": [
        "## Reference - video link (section 1)"
      ]
    },
    {
      "cell_type": "code",
      "metadata": {
        "id": "g9_AfNW5eKsp",
        "outputId": "de86ed73-4439-4315-817c-882154ef39dd",
        "colab": {
          "base_uri": "https://localhost:8080/",
          "height": 321
        }
      },
      "source": [
        "# Quick link for the video covering section 1\n",
        "from IPython.display import YouTubeVideo\n",
        "YouTubeVideo('xzeMSXSEwC4')"
      ],
      "execution_count": null,
      "outputs": [
        {
          "output_type": "execute_result",
          "data": {
            "text/html": [
              "\n",
              "        <iframe\n",
              "            width=\"400\"\n",
              "            height=\"300\"\n",
              "            src=\"https://www.youtube.com/embed/xzeMSXSEwC4\"\n",
              "            frameborder=\"0\"\n",
              "            allowfullscreen\n",
              "        ></iframe>\n",
              "        "
            ],
            "text/plain": [
              "<IPython.lib.display.YouTubeVideo at 0x7f9564e26c50>"
            ],
            "image/jpeg": "[encoded data removed]"
          },
          "metadata": {
            "tags": []
          },
          "execution_count": 54
        }
      ]
    },
    {
      "cell_type": "markdown",
      "metadata": {
        "id": "RjQZjLk8JcBb"
      },
      "source": [
        "# Section 2: Type of Objects"
      ]
    },
    {
      "cell_type": "markdown",
      "metadata": {
        "id": "pfaemOrjJpUF"
      },
      "source": [
        "## 2.1 - Numbers"
      ]
    },
    {
      "cell_type": "code",
      "metadata": {
        "id": "Eezz-tHuJNz4"
      },
      "source": [
        "age=30\n",
        "income=1250.567"
      ],
      "execution_count": null,
      "outputs": []
    },
    {
      "cell_type": "code",
      "metadata": {
        "id": "tge0tB6ZJu_e",
        "outputId": "2e117b4d-69cc-4fb4-9d38-d3816afdee2d",
        "colab": {
          "base_uri": "https://localhost:8080/",
          "height": 50
        }
      },
      "source": [
        "print(type(age))\n",
        "print(type(income))"
      ],
      "execution_count": null,
      "outputs": [
        {
          "output_type": "stream",
          "text": [
            "<class 'int'>\n",
            "<class 'float'>\n"
          ],
          "name": "stdout"
        }
      ]
    },
    {
      "cell_type": "code",
      "metadata": {
        "id": "PIQShcUhJ1ag",
        "outputId": "1a50eaf8-3a5b-4aea-c2a1-d32a31b0c386",
        "colab": {
          "base_uri": "https://localhost:8080/",
          "height": 50
        }
      },
      "source": [
        "print(\"Age - datatype\", type(age))\n",
        "print(\"Income - datatype\", type(income))"
      ],
      "execution_count": null,
      "outputs": [
        {
          "output_type": "stream",
          "text": [
            "Age - datatype <class 'int'>\n",
            "Income - datatype <class 'float'>\n"
          ],
          "name": "stdout"
        }
      ]
    },
    {
      "cell_type": "markdown",
      "metadata": {
        "id": "Mma5wCg26aqt"
      },
      "source": [
        "## 2.2 - Strings"
      ]
    },
    {
      "cell_type": "code",
      "metadata": {
        "id": "LQSJ-CQQ6LyL",
        "outputId": "e0b54391-b848-4ed4-8687-d98bd94d9a93",
        "colab": {
          "base_uri": "https://localhost:8080/",
          "height": 34
        }
      },
      "source": [
        "name=\"Sheldon\"\n",
        "print(name)"
      ],
      "execution_count": null,
      "outputs": [
        {
          "output_type": "stream",
          "text": [
            "Sheldon\n"
          ],
          "name": "stdout"
        }
      ]
    },
    {
      "cell_type": "code",
      "metadata": {
        "id": "6PyzqU3S6f69",
        "outputId": "5fbda8dc-74c1-4903-f130-62b3bd33acbe",
        "colab": {
          "base_uri": "https://localhost:8080/",
          "height": 34
        }
      },
      "source": [
        "print(name[0])"
      ],
      "execution_count": null,
      "outputs": [
        {
          "output_type": "stream",
          "text": [
            "S\n"
          ],
          "name": "stdout"
        }
      ]
    },
    {
      "cell_type": "code",
      "metadata": {
        "id": "X40MuiTb6jXg",
        "outputId": "814e3f22-ec38-4d92-c3c4-092445f9984c",
        "colab": {
          "base_uri": "https://localhost:8080/",
          "height": 34
        }
      },
      "source": [
        "print(name[1])"
      ],
      "execution_count": null,
      "outputs": [
        {
          "output_type": "stream",
          "text": [
            "h\n"
          ],
          "name": "stdout"
        }
      ]
    },
    {
      "cell_type": "code",
      "metadata": {
        "id": "BsYFdg7P6lp0",
        "outputId": "f57c31ee-6671-493e-febd-60336883b38a",
        "colab": {
          "base_uri": "https://localhost:8080/",
          "height": 34
        }
      },
      "source": [
        "print(name[0:3])"
      ],
      "execution_count": null,
      "outputs": [
        {
          "output_type": "stream",
          "text": [
            "She\n"
          ],
          "name": "stdout"
        }
      ]
    },
    {
      "cell_type": "code",
      "metadata": {
        "id": "Mr5Sk_1W6oxj",
        "outputId": "ff37ae69-85d3-41da-c640-acd4d96d8d29",
        "colab": {
          "base_uri": "https://localhost:8080/",
          "height": 34
        }
      },
      "source": [
        "print(name[3:6])"
      ],
      "execution_count": null,
      "outputs": [
        {
          "output_type": "stream",
          "text": [
            "ldo\n"
          ],
          "name": "stdout"
        }
      ]
    },
    {
      "cell_type": "code",
      "metadata": {
        "id": "eLv5LJjy6taV",
        "outputId": "41651c82-3a8e-4391-f840-6173c0e47dca",
        "colab": {
          "base_uri": "https://localhost:8080/",
          "height": 34
        }
      },
      "source": [
        "print(name[3:4])"
      ],
      "execution_count": null,
      "outputs": [
        {
          "output_type": "stream",
          "text": [
            "l\n"
          ],
          "name": "stdout"
        }
      ]
    },
    {
      "cell_type": "code",
      "metadata": {
        "id": "q-x_IthG69e7",
        "outputId": "51c296e2-dee7-415f-f81f-96c91851e375",
        "colab": {
          "base_uri": "https://localhost:8080/",
          "height": 34
        }
      },
      "source": [
        "message=\"Python 5 day course - Statinfer\"\n",
        "print(message)"
      ],
      "execution_count": null,
      "outputs": [
        {
          "output_type": "stream",
          "text": [
            "Python 5 day course - Statinfer\n"
          ],
          "name": "stdout"
        }
      ]
    },
    {
      "cell_type": "code",
      "metadata": {
        "id": "XiLZ8K1E7Hcl",
        "outputId": "2effbefd-881e-4caa-aada-3a95e1089af6",
        "colab": {
          "base_uri": "https://localhost:8080/",
          "height": 34
        }
      },
      "source": [
        "print(message[0:4])"
      ],
      "execution_count": null,
      "outputs": [
        {
          "output_type": "stream",
          "text": [
            "Pyth\n"
          ],
          "name": "stdout"
        }
      ]
    },
    {
      "cell_type": "code",
      "metadata": {
        "id": "HxYD5J3h7K_j",
        "outputId": "3f30f748-b44c-4db3-e8b4-bbd401d73f7d",
        "colab": {
          "base_uri": "https://localhost:8080/",
          "height": 34
        }
      },
      "source": [
        "print(len(message))"
      ],
      "execution_count": null,
      "outputs": [
        {
          "output_type": "stream",
          "text": [
            "31\n"
          ],
          "name": "stdout"
        }
      ]
    },
    {
      "cell_type": "code",
      "metadata": {
        "id": "nqzv3t7Y7O3_",
        "outputId": "1be61607-aced-450e-901e-86eeed87cea3",
        "colab": {
          "base_uri": "https://localhost:8080/",
          "height": 34
        }
      },
      "source": [
        "print(message[24:31])"
      ],
      "execution_count": null,
      "outputs": [
        {
          "output_type": "stream",
          "text": [
            "atinfer\n"
          ],
          "name": "stdout"
        }
      ]
    },
    {
      "cell_type": "code",
      "metadata": {
        "id": "U0ERvEzo7Sx5",
        "outputId": "248f190c-4653-4809-8944-f5528032133c",
        "colab": {
          "base_uri": "https://localhost:8080/",
          "height": 34
        }
      },
      "source": [
        "print(message[20:31])"
      ],
      "execution_count": null,
      "outputs": [
        {
          "output_type": "stream",
          "text": [
            "- Statinfer\n"
          ],
          "name": "stdout"
        }
      ]
    },
    {
      "cell_type": "code",
      "metadata": {
        "id": "zLLzOuvr7YJf"
      },
      "source": [
        "First_name=\"Sheldon\"\n",
        "Last_name=\"Cooper\"\n",
        "Name= First_name + Last_name"
      ],
      "execution_count": null,
      "outputs": []
    },
    {
      "cell_type": "code",
      "metadata": {
        "id": "RfbnAUzvBqXC",
        "outputId": "05d6242a-ee37-4a16-927c-b6b6fab8ec5c",
        "colab": {
          "base_uri": "https://localhost:8080/",
          "height": 34
        }
      },
      "source": [
        "print(Name) #10 Times??"
      ],
      "execution_count": null,
      "outputs": [
        {
          "output_type": "stream",
          "text": [
            "SheldonCooper\n"
          ],
          "name": "stdout"
        }
      ]
    },
    {
      "cell_type": "code",
      "metadata": {
        "id": "BTye0fTiBxMu",
        "outputId": "00e1ff62-e765-4df6-ee9b-891b04acc7e0",
        "colab": {
          "base_uri": "https://localhost:8080/",
          "height": 34
        }
      },
      "source": [
        "print(Name)"
      ],
      "execution_count": null,
      "outputs": [
        {
          "output_type": "stream",
          "text": [
            "SheldonCooper\n"
          ],
          "name": "stdout"
        }
      ]
    },
    {
      "cell_type": "code",
      "metadata": {
        "id": "3ienIfEXBxTO",
        "outputId": "d3cd19db-3546-4a01-b229-00e90ffb43b2",
        "colab": {
          "base_uri": "https://localhost:8080/",
          "height": 34
        }
      },
      "source": [
        "Name= First_name +\" \"+ Last_name \n",
        "print(Name)"
      ],
      "execution_count": null,
      "outputs": [
        {
          "output_type": "stream",
          "text": [
            "Sheldon Cooper\n"
          ],
          "name": "stdout"
        }
      ]
    },
    {
      "cell_type": "code",
      "metadata": {
        "id": "stYPfjFoFAfb",
        "outputId": "73922129-93c0-4dfc-b053-8ade2efddad5",
        "colab": {
          "base_uri": "https://localhost:8080/",
          "height": 34
        }
      },
      "source": [
        "print(Name*10)"
      ],
      "execution_count": null,
      "outputs": [
        {
          "output_type": "stream",
          "text": [
            "Sheldon CooperSheldon CooperSheldon CooperSheldon CooperSheldon CooperSheldon CooperSheldon CooperSheldon CooperSheldon CooperSheldon Cooper\n"
          ],
          "name": "stdout"
        }
      ]
    },
    {
      "cell_type": "markdown",
      "metadata": {
        "id": "iK6Xt2cCfhDp"
      },
      "source": [
        "### Reference - video link (section 2.1 & 2.2)"
      ]
    },
    {
      "cell_type": "code",
      "metadata": {
        "id": "qkue3Ml5gr5r",
        "outputId": "de86ed73-4439-4315-817c-882154ef39dd",
        "colab": {
          "base_uri": "https://localhost:8080/",
          "height": 321
        }
      },
      "source": [
        "# Quick link for the video covering above section (2.1-2.2)\n",
        "from IPython.display import YouTubeVideo\n",
        "YouTubeVideo('xzeMSXSEwC4')"
      ],
      "execution_count": null,
      "outputs": [
        {
          "output_type": "execute_result",
          "data": {
            "text/html": [
              "\n",
              "        <iframe\n",
              "            width=\"400\"\n",
              "            height=\"300\"\n",
              "            src=\"https://www.youtube.com/embed/xzeMSXSEwC4\"\n",
              "            frameborder=\"0\"\n",
              "            allowfullscreen\n",
              "        ></iframe>\n",
              "        "
            ],
            "text/plain": [
              "<IPython.lib.display.YouTubeVideo at 0x7f9564e26c50>"
            ],
            "image/jpeg": "[encoded data removed]"
          },
          "metadata": {
            "tags": []
          },
          "execution_count": 54
        }
      ]
    },
    {
      "cell_type": "markdown",
      "metadata": {
        "id": "YLG_Ob4VWAl7"
      },
      "source": [
        "## 2.3 - List"
      ]
    },
    {
      "cell_type": "code",
      "metadata": {
        "id": "yPsf0Y7yWB-w"
      },
      "source": [
        "cust=[\"Sheldon\",\"leonard\", \"penny\"]\n",
        "Age=[30, 31, 27]"
      ],
      "execution_count": null,
      "outputs": []
    },
    {
      "cell_type": "code",
      "metadata": {
        "id": "JgOAb-hZWMUm",
        "outputId": "5c855c71-05ee-44b5-8100-44794e52f3dd",
        "colab": {
          "base_uri": "https://localhost:8080/",
          "height": 34
        }
      },
      "source": [
        "print(cust)"
      ],
      "execution_count": null,
      "outputs": [
        {
          "output_type": "stream",
          "text": [
            "['Sheldon', 'leonard', 'penny']\n"
          ],
          "name": "stdout"
        }
      ]
    },
    {
      "cell_type": "code",
      "metadata": {
        "id": "oWoKxX1lWO9Z",
        "outputId": "6e3ca60e-410f-4960-e61f-c1a1ff84ae09",
        "colab": {
          "base_uri": "https://localhost:8080/",
          "height": 34
        }
      },
      "source": [
        "print(Age)"
      ],
      "execution_count": null,
      "outputs": [
        {
          "output_type": "stream",
          "text": [
            "[30, 31, 27]\n"
          ],
          "name": "stdout"
        }
      ]
    },
    {
      "cell_type": "code",
      "metadata": {
        "id": "JTodf_3OWQyZ",
        "outputId": "abf846ea-7a2d-486f-f3c9-cebd3f75f677",
        "colab": {
          "base_uri": "https://localhost:8080/",
          "height": 34
        }
      },
      "source": [
        "print(cust[0])"
      ],
      "execution_count": null,
      "outputs": [
        {
          "output_type": "stream",
          "text": [
            "Sheldon\n"
          ],
          "name": "stdout"
        }
      ]
    },
    {
      "cell_type": "code",
      "metadata": {
        "id": "h60PjULfWWdZ",
        "outputId": "853010f5-6a8c-4fe3-9f02-7ccaf5e04915",
        "colab": {
          "base_uri": "https://localhost:8080/",
          "height": 34
        }
      },
      "source": [
        "print(Age[1])"
      ],
      "execution_count": null,
      "outputs": [
        {
          "output_type": "stream",
          "text": [
            "31\n"
          ],
          "name": "stdout"
        }
      ]
    },
    {
      "cell_type": "code",
      "metadata": {
        "id": "COLGKRLQX34p"
      },
      "source": [
        "cust_1=[\"Amy\", \"Raj\"]"
      ],
      "execution_count": null,
      "outputs": []
    },
    {
      "cell_type": "code",
      "metadata": {
        "id": "8WgD1h9SYXi0"
      },
      "source": [
        "Final_cust=cust + cust_1"
      ],
      "execution_count": null,
      "outputs": []
    },
    {
      "cell_type": "code",
      "metadata": {
        "id": "QLIjq58oYbAv",
        "outputId": "be74147f-0226-4e18-e2e1-74bac8ced0d1",
        "colab": {
          "base_uri": "https://localhost:8080/",
          "height": 34
        }
      },
      "source": [
        "print(Final_cust)"
      ],
      "execution_count": null,
      "outputs": [
        {
          "output_type": "stream",
          "text": [
            "['Sheldon', 'leonard', 'penny', 'Amy', 'Raj']\n"
          ],
          "name": "stdout"
        }
      ]
    },
    {
      "cell_type": "code",
      "metadata": {
        "id": "NIX3xmJWYdCV",
        "outputId": "407fd182-9b6e-4a21-82f9-17964f1359a1",
        "colab": {
          "base_uri": "https://localhost:8080/",
          "height": 34
        }
      },
      "source": [
        "print(len(Final_cust))"
      ],
      "execution_count": null,
      "outputs": [
        {
          "output_type": "stream",
          "text": [
            "5\n"
          ],
          "name": "stdout"
        }
      ]
    },
    {
      "cell_type": "code",
      "metadata": {
        "id": "cvI1YEGhfYHN"
      },
      "source": [
        "Final_cust.append(\"Howard\")"
      ],
      "execution_count": null,
      "outputs": []
    },
    {
      "cell_type": "code",
      "metadata": {
        "id": "PJLvZDQbggYe",
        "outputId": "1d18c4b8-f5bf-400e-e219-295252993862",
        "colab": {
          "base_uri": "https://localhost:8080/",
          "height": 34
        }
      },
      "source": [
        "print(Final_cust)"
      ],
      "execution_count": null,
      "outputs": [
        {
          "output_type": "stream",
          "text": [
            "['Sheldon', 'leonard', 'penny', 'Amy', 'Raj', 'Howard']\n"
          ],
          "name": "stdout"
        }
      ]
    },
    {
      "cell_type": "code",
      "metadata": {
        "id": "QrPmyuSTgj13"
      },
      "source": [
        "Final_cust.remove(\"penny\")"
      ],
      "execution_count": null,
      "outputs": []
    },
    {
      "cell_type": "code",
      "metadata": {
        "id": "7FWe2ds4gq3N",
        "outputId": "0e00b19c-2b7a-4260-e464-cd19bbf36a39",
        "colab": {
          "base_uri": "https://localhost:8080/",
          "height": 34
        }
      },
      "source": [
        "print(Final_cust)"
      ],
      "execution_count": null,
      "outputs": [
        {
          "output_type": "stream",
          "text": [
            "['Sheldon', 'leonard', 'Amy', 'Raj', 'Howard']\n"
          ],
          "name": "stdout"
        }
      ]
    },
    {
      "cell_type": "code",
      "metadata": {
        "id": "2MLIdrPmgsqr"
      },
      "source": [
        "Final_cust[3]=\"john\""
      ],
      "execution_count": null,
      "outputs": []
    },
    {
      "cell_type": "code",
      "metadata": {
        "id": "vdoD_JwEgzo0",
        "outputId": "1a416245-2855-41c6-c22a-a12b00b0837c",
        "colab": {
          "base_uri": "https://localhost:8080/",
          "height": 34
        }
      },
      "source": [
        "print(Final_cust)"
      ],
      "execution_count": null,
      "outputs": [
        {
          "output_type": "stream",
          "text": [
            "['Sheldon', 'leonard', 'Amy', 'john', 'Howard']\n"
          ],
          "name": "stdout"
        }
      ]
    },
    {
      "cell_type": "code",
      "metadata": {
        "id": "70yHBVpZg1HI"
      },
      "source": [
        "Final_cust.sort()"
      ],
      "execution_count": null,
      "outputs": []
    },
    {
      "cell_type": "code",
      "metadata": {
        "id": "8KLsHLsFg62L",
        "outputId": "6784a4e1-125d-4082-a9db-7bed82fb193b",
        "colab": {
          "base_uri": "https://localhost:8080/",
          "height": 34
        }
      },
      "source": [
        "print(Final_cust)"
      ],
      "execution_count": null,
      "outputs": [
        {
          "output_type": "stream",
          "text": [
            "['Amy', 'Howard', 'Sheldon', 'john', 'leonard']\n"
          ],
          "name": "stdout"
        }
      ]
    },
    {
      "cell_type": "code",
      "metadata": {
        "id": "fle8gbbjg8Ar",
        "outputId": "3809e574-8a04-486d-88f1-9d31e3037435",
        "colab": {
          "base_uri": "https://localhost:8080/",
          "height": 34
        }
      },
      "source": [
        "Final_cust.index(\"john\")"
      ],
      "execution_count": null,
      "outputs": [
        {
          "output_type": "execute_result",
          "data": {
            "text/plain": [
              "3"
            ]
          },
          "metadata": {
            "tags": []
          },
          "execution_count": 37
        }
      ]
    },
    {
      "cell_type": "markdown",
      "metadata": {
        "id": "6HIz92blf5Wa"
      },
      "source": [
        "### Reference - video link (section 2.3)"
      ]
    },
    {
      "cell_type": "code",
      "metadata": {
        "id": "2AReoBGygykd"
      },
      "source": [
        "# Quick link for the video covering above section (2.3)\n",
        "from IPython.display import YouTubeVideo\n",
        "YouTubeVideo('xzeMSXSEwC4')"
      ],
      "execution_count": null,
      "outputs": []
    },
    {
      "cell_type": "markdown",
      "metadata": {
        "id": "8vcWz7Z85vuu"
      },
      "source": [
        "## 2.4 - Dictionaries"
      ]
    },
    {
      "cell_type": "code",
      "metadata": {
        "id": "OjDNffd1hCTB"
      },
      "source": [
        "#Key - value pairs\n",
        "\n",
        "city={0:\"L.A\", 9:\"P.A\", 7:\"FL\"}"
      ],
      "execution_count": null,
      "outputs": []
    },
    {
      "cell_type": "code",
      "metadata": {
        "id": "T7H2hXEf5-Xz",
        "outputId": "6d7aeead-da6d-4816-eba7-ce1aefe19939",
        "colab": {
          "base_uri": "https://localhost:8080/",
          "height": 34
        }
      },
      "source": [
        "type(city)"
      ],
      "execution_count": null,
      "outputs": [
        {
          "output_type": "execute_result",
          "data": {
            "text/plain": [
              "dict"
            ]
          },
          "metadata": {
            "tags": []
          },
          "execution_count": 39
        }
      ]
    },
    {
      "cell_type": "code",
      "metadata": {
        "id": "f03fCD2I6DWJ",
        "outputId": "91072b6b-c984-4cd2-fb0a-88a233b3dbee",
        "colab": {
          "base_uri": "https://localhost:8080/",
          "height": 34
        }
      },
      "source": [
        "print(city)"
      ],
      "execution_count": null,
      "outputs": [
        {
          "output_type": "stream",
          "text": [
            "{0: 'L.A', 9: 'P.A', 7: 'FL'}\n"
          ],
          "name": "stdout"
        }
      ]
    },
    {
      "cell_type": "code",
      "metadata": {
        "id": "vDhS1V9D6Fw7",
        "outputId": "6fcc7b91-109f-4993-a51f-47e2ff08cf12",
        "colab": {
          "base_uri": "https://localhost:8080/",
          "height": 162
        }
      },
      "source": [
        "city[1] "
      ],
      "execution_count": null,
      "outputs": [
        {
          "output_type": "error",
          "ename": "KeyError",
          "evalue": "ignored",
          "traceback": [
            "\u001b[0;31m---------------------------------------------------------------------------\u001b[0m",
            "\u001b[0;31mKeyError\u001b[0m                                  Traceback (most recent call last)",
            "\u001b[0;32m<ipython-input-41-837b8125361f>\u001b[0m in \u001b[0;36m<module>\u001b[0;34m()\u001b[0m\n\u001b[0;32m----> 1\u001b[0;31m \u001b[0mcity\u001b[0m\u001b[0;34m[\u001b[0m\u001b[0;36m1\u001b[0m\u001b[0;34m]\u001b[0m\u001b[0;34m\u001b[0m\u001b[0;34m\u001b[0m\u001b[0m\n\u001b[0m",
            "\u001b[0;31mKeyError\u001b[0m: 1"
          ]
        }
      ]
    },
    {
      "cell_type": "code",
      "metadata": {
        "id": "Z01q-U7t6LO3"
      },
      "source": [
        "city[0]"
      ],
      "execution_count": null,
      "outputs": []
    },
    {
      "cell_type": "code",
      "metadata": {
        "id": "CuKsDc536O2k"
      },
      "source": [
        "city[9]"
      ],
      "execution_count": null,
      "outputs": []
    },
    {
      "cell_type": "code",
      "metadata": {
        "id": "YSb_ZFZC6QQH"
      },
      "source": [
        "city[7]"
      ],
      "execution_count": null,
      "outputs": []
    },
    {
      "cell_type": "code",
      "metadata": {
        "id": "JGenepDm6SBq"
      },
      "source": [
        "city.keys()"
      ],
      "execution_count": null,
      "outputs": []
    },
    {
      "cell_type": "code",
      "metadata": {
        "id": "7fLy6rxz6VI3"
      },
      "source": [
        "city.values()"
      ],
      "execution_count": null,
      "outputs": []
    },
    {
      "cell_type": "code",
      "metadata": {
        "id": "cC3ARbnK6XeH"
      },
      "source": [
        "cust_profile={\"C001\":\"David\", \"C002\":\"Bill\", \"C003\":\"Jim\"}"
      ],
      "execution_count": null,
      "outputs": []
    },
    {
      "cell_type": "code",
      "metadata": {
        "id": "lRXChD0G7wFf"
      },
      "source": [
        "cust_profile[0]"
      ],
      "execution_count": null,
      "outputs": []
    },
    {
      "cell_type": "code",
      "metadata": {
        "id": "njCSo2u87ynr"
      },
      "source": [
        "cust_profile[C001]"
      ],
      "execution_count": null,
      "outputs": []
    },
    {
      "cell_type": "code",
      "metadata": {
        "id": "lfyOQC1073J7"
      },
      "source": [
        "cust_profile[\"C001\"]"
      ],
      "execution_count": null,
      "outputs": []
    },
    {
      "cell_type": "code",
      "metadata": {
        "id": "apCmzpC57-mq"
      },
      "source": [
        "cust_profile[\"C002\"]"
      ],
      "execution_count": null,
      "outputs": []
    },
    {
      "cell_type": "code",
      "metadata": {
        "id": "T-KxIZeo8CHv"
      },
      "source": [
        "#Updating values\n",
        "cust_profile[\"C002\"]=\"Tom\""
      ],
      "execution_count": null,
      "outputs": []
    },
    {
      "cell_type": "code",
      "metadata": {
        "id": "I5OqDPQl99L-"
      },
      "source": [
        "print(cust_profile)"
      ],
      "execution_count": null,
      "outputs": []
    },
    {
      "cell_type": "code",
      "metadata": {
        "id": "MFaejchx9-9t"
      },
      "source": [
        "#Updating Keys\n",
        "#C001 ---> C009\n",
        "\n",
        "#Delete + Add\n",
        "\n",
        "del(cust_profile[\"C001\"])"
      ],
      "execution_count": null,
      "outputs": []
    },
    {
      "cell_type": "code",
      "metadata": {
        "id": "J6hsXdKM-Pg_"
      },
      "source": [
        "print(cust_profile)"
      ],
      "execution_count": null,
      "outputs": []
    },
    {
      "cell_type": "code",
      "metadata": {
        "id": "TLpemAYU-RrP"
      },
      "source": [
        "cust_profile[\"C009\"]=\"David\""
      ],
      "execution_count": null,
      "outputs": []
    },
    {
      "cell_type": "code",
      "metadata": {
        "id": "bSHnY0fY-Xp9"
      },
      "source": [
        "print(cust_profile)"
      ],
      "execution_count": null,
      "outputs": []
    },
    {
      "cell_type": "code",
      "metadata": {
        "id": "M_9P9XyM-ZKm"
      },
      "source": [
        "# \"C008\" ==> ??\n",
        "\"C008\" in cust_profile"
      ],
      "execution_count": null,
      "outputs": []
    },
    {
      "cell_type": "code",
      "metadata": {
        "id": "mcPUYEo3_UWq"
      },
      "source": [
        "\"C002\" in cust_profile"
      ],
      "execution_count": null,
      "outputs": []
    },
    {
      "cell_type": "code",
      "metadata": {
        "id": "h-5MuAZ6ep-1"
      },
      "source": [
        ""
      ],
      "execution_count": null,
      "outputs": []
    },
    {
      "cell_type": "code",
      "metadata": {
        "id": "0LLfwgyyfFOX"
      },
      "source": [
        ""
      ],
      "execution_count": null,
      "outputs": []
    },
    {
      "cell_type": "code",
      "metadata": {
        "id": "UOBnjcLjfLFE"
      },
      "source": [
        ""
      ],
      "execution_count": null,
      "outputs": []
    },
    {
      "cell_type": "markdown",
      "metadata": {
        "id": "i9RKToYvgOLH"
      },
      "source": [
        ""
      ]
    },
    {
      "cell_type": "markdown",
      "metadata": {
        "id": "Qaru2kMvgOfb"
      },
      "source": [
        "### Reference - video link (section 2.4)"
      ]
    },
    {
      "cell_type": "code",
      "metadata": {
        "id": "k4EDlTbmfPCj",
        "outputId": "de86ed73-4439-4315-817c-882154ef39dd",
        "colab": {
          "base_uri": "https://localhost:8080/",
          "height": 321
        }
      },
      "source": [
        "# Quick link for the video covering above section (2.4)\n",
        "from IPython.display import YouTubeVideo\n",
        "YouTubeVideo('xzeMSXSEwC4')"
      ],
      "execution_count": null,
      "outputs": [
        {
          "output_type": "execute_result",
          "data": {
            "text/html": [
              "\n",
              "        <iframe\n",
              "            width=\"400\"\n",
              "            height=\"300\"\n",
              "            src=\"https://www.youtube.com/embed/xzeMSXSEwC4\"\n",
              "            frameborder=\"0\"\n",
              "            allowfullscreen\n",
              "        ></iframe>\n",
              "        "
            ],
            "text/plain": [
              "<IPython.lib.display.YouTubeVideo at 0x7f9564e26c50>"
            ],
            "image/jpeg": "[encoded data removed]"
          },
          "metadata": {
            "tags": []
          },
          "execution_count": 54
        }
      ]
    },
    {
      "cell_type": "markdown",
      "metadata": {
        "id": "GjnYaTOPY6ll"
      },
      "source": [
        "# Section 3: Important packages"
      ]
    },
    {
      "cell_type": "code",
      "metadata": {
        "id": "CgLby2Ro_XYY",
        "outputId": "c2c1050e-150a-48ca-ada9-9260a23b86cf",
        "colab": {
          "base_uri": "https://localhost:8080/",
          "height": 167
        }
      },
      "source": [
        "log(10)"
      ],
      "execution_count": null,
      "outputs": [
        {
          "output_type": "error",
          "ename": "NameError",
          "evalue": "ignored",
          "traceback": [
            "\u001b[0;31m---------------------------------------------------------------------------\u001b[0m",
            "\u001b[0;31mNameError\u001b[0m                                 Traceback (most recent call last)",
            "\u001b[0;32m<ipython-input-23-0a816b14e1a2>\u001b[0m in \u001b[0;36m<module>\u001b[0;34m()\u001b[0m\n\u001b[0;32m----> 1\u001b[0;31m \u001b[0mlog\u001b[0m\u001b[0;34m(\u001b[0m\u001b[0;36m10\u001b[0m\u001b[0;34m)\u001b[0m\u001b[0;34m\u001b[0m\u001b[0;34m\u001b[0m\u001b[0m\n\u001b[0m",
            "\u001b[0;31mNameError\u001b[0m: name 'log' is not defined"
          ]
        }
      ]
    },
    {
      "cell_type": "code",
      "metadata": {
        "id": "9xvDpZCqZfgv",
        "outputId": "06270e4c-ba6c-442a-9b78-07fe892e21e8",
        "colab": {
          "base_uri": "https://localhost:8080/",
          "height": 34
        }
      },
      "source": [
        "import math\n",
        "math.log(10)"
      ],
      "execution_count": null,
      "outputs": [
        {
          "output_type": "execute_result",
          "data": {
            "text/plain": [
              "2.302585092994046"
            ]
          },
          "metadata": {
            "tags": []
          },
          "execution_count": 24
        }
      ]
    },
    {
      "cell_type": "code",
      "metadata": {
        "id": "1I9CB5KoZj6T",
        "outputId": "631952f8-5bf4-4175-9d10-02ee5b86e90a",
        "colab": {
          "base_uri": "https://localhost:8080/",
          "height": 167
        }
      },
      "source": [
        "exp(5)"
      ],
      "execution_count": null,
      "outputs": [
        {
          "output_type": "error",
          "ename": "NameError",
          "evalue": "ignored",
          "traceback": [
            "\u001b[0;31m---------------------------------------------------------------------------\u001b[0m",
            "\u001b[0;31mNameError\u001b[0m                                 Traceback (most recent call last)",
            "\u001b[0;32m<ipython-input-25-91edae433e0e>\u001b[0m in \u001b[0;36m<module>\u001b[0;34m()\u001b[0m\n\u001b[0;32m----> 1\u001b[0;31m \u001b[0mexp\u001b[0m\u001b[0;34m(\u001b[0m\u001b[0;36m5\u001b[0m\u001b[0;34m)\u001b[0m\u001b[0;34m\u001b[0m\u001b[0;34m\u001b[0m\u001b[0m\n\u001b[0m",
            "\u001b[0;31mNameError\u001b[0m: name 'exp' is not defined"
          ]
        }
      ]
    },
    {
      "cell_type": "code",
      "metadata": {
        "id": "tfeVY9SHZmMn",
        "outputId": "3b65670c-95f5-4db7-a90a-a71e8008b7cb",
        "colab": {
          "base_uri": "https://localhost:8080/",
          "height": 34
        }
      },
      "source": [
        "math.exp(5)"
      ],
      "execution_count": null,
      "outputs": [
        {
          "output_type": "execute_result",
          "data": {
            "text/plain": [
              "148.4131591025766"
            ]
          },
          "metadata": {
            "tags": []
          },
          "execution_count": 26
        }
      ]
    },
    {
      "cell_type": "code",
      "metadata": {
        "id": "ul4-JT3pZo9c",
        "outputId": "945790af-1597-4b24-fb4c-38eb4cec02fb",
        "colab": {
          "base_uri": "https://localhost:8080/",
          "height": 167
        }
      },
      "source": [
        "sqrt(256)"
      ],
      "execution_count": null,
      "outputs": [
        {
          "output_type": "error",
          "ename": "NameError",
          "evalue": "ignored",
          "traceback": [
            "\u001b[0;31m---------------------------------------------------------------------------\u001b[0m",
            "\u001b[0;31mNameError\u001b[0m                                 Traceback (most recent call last)",
            "\u001b[0;32m<ipython-input-27-21aa9105c7af>\u001b[0m in \u001b[0;36m<module>\u001b[0;34m()\u001b[0m\n\u001b[0;32m----> 1\u001b[0;31m \u001b[0msqrt\u001b[0m\u001b[0;34m(\u001b[0m\u001b[0;36m256\u001b[0m\u001b[0;34m)\u001b[0m\u001b[0;34m\u001b[0m\u001b[0;34m\u001b[0m\u001b[0m\n\u001b[0m",
            "\u001b[0;31mNameError\u001b[0m: name 'sqrt' is not defined"
          ]
        }
      ]
    },
    {
      "cell_type": "code",
      "metadata": {
        "id": "4ZD7rJqdZrsg",
        "outputId": "6d87dc33-20fb-49b2-ab21-6e87c452a88d",
        "colab": {
          "base_uri": "https://localhost:8080/",
          "height": 34
        }
      },
      "source": [
        "math.sqrt(256)"
      ],
      "execution_count": null,
      "outputs": [
        {
          "output_type": "execute_result",
          "data": {
            "text/plain": [
              "16.0"
            ]
          },
          "metadata": {
            "tags": []
          },
          "execution_count": 28
        }
      ]
    },
    {
      "cell_type": "markdown",
      "metadata": {
        "id": "J2Og0umsZ7Wd"
      },
      "source": [
        "## 3.1 - numpy"
      ]
    },
    {
      "cell_type": "code",
      "metadata": {
        "id": "Jtg3bUvNZuBY",
        "outputId": "b9571a2a-8e8a-4cc9-ba8a-efcecd35115f",
        "colab": {
          "base_uri": "https://localhost:8080/",
          "height": 34
        }
      },
      "source": [
        "import numpy as np\n",
        "\n",
        "income=np.array([9000, 8756, 10000, 12450, 10200, 8000])\n",
        "print(income)"
      ],
      "execution_count": null,
      "outputs": [
        {
          "output_type": "stream",
          "text": [
            "[ 9000  8756 10000 12450 10200  8000]\n"
          ],
          "name": "stdout"
        }
      ]
    },
    {
      "cell_type": "code",
      "metadata": {
        "id": "EYnscWaNaQMl",
        "outputId": "8ddeaa6d-3c2c-4a7b-c96c-91c9b8a72185",
        "colab": {
          "base_uri": "https://localhost:8080/",
          "height": 34
        }
      },
      "source": [
        "type(income)"
      ],
      "execution_count": null,
      "outputs": [
        {
          "output_type": "execute_result",
          "data": {
            "text/plain": [
              "numpy.ndarray"
            ]
          },
          "metadata": {
            "tags": []
          },
          "execution_count": 30
        }
      ]
    },
    {
      "cell_type": "code",
      "metadata": {
        "id": "cykDbMLqaSsi",
        "outputId": "a8805317-4741-480d-ac4c-0907db369190",
        "colab": {
          "base_uri": "https://localhost:8080/",
          "height": 34
        }
      },
      "source": [
        "len(income)"
      ],
      "execution_count": null,
      "outputs": [
        {
          "output_type": "execute_result",
          "data": {
            "text/plain": [
              "6"
            ]
          },
          "metadata": {
            "tags": []
          },
          "execution_count": 31
        }
      ]
    },
    {
      "cell_type": "code",
      "metadata": {
        "id": "TV9P0_WcaV5R",
        "outputId": "e2c3f89a-79d6-43d2-a09f-0ca625417e21",
        "colab": {
          "base_uri": "https://localhost:8080/",
          "height": 34
        }
      },
      "source": [
        "income[0]"
      ],
      "execution_count": null,
      "outputs": [
        {
          "output_type": "execute_result",
          "data": {
            "text/plain": [
              "9000"
            ]
          },
          "metadata": {
            "tags": []
          },
          "execution_count": 32
        }
      ]
    },
    {
      "cell_type": "code",
      "metadata": {
        "id": "sz5ZxUYnaYMv",
        "outputId": "f831b3c7-1129-4413-9597-0da1e7369abe",
        "colab": {
          "base_uri": "https://localhost:8080/",
          "height": 34
        }
      },
      "source": [
        "income[0:4]"
      ],
      "execution_count": null,
      "outputs": [
        {
          "output_type": "execute_result",
          "data": {
            "text/plain": [
              "array([ 9000,  8756, 10000, 12450])"
            ]
          },
          "metadata": {
            "tags": []
          },
          "execution_count": 33
        }
      ]
    },
    {
      "cell_type": "code",
      "metadata": {
        "id": "ptsnKhk5abJz"
      },
      "source": [
        "expenses=income*0.7"
      ],
      "execution_count": null,
      "outputs": []
    },
    {
      "cell_type": "code",
      "metadata": {
        "id": "jTTJVgWtafli",
        "outputId": "279925d8-4148-4126-c764-a8d46ceeb031",
        "colab": {
          "base_uri": "https://localhost:8080/",
          "height": 34
        }
      },
      "source": [
        "print(expenses)"
      ],
      "execution_count": null,
      "outputs": [
        {
          "output_type": "stream",
          "text": [
            "[6300.  6129.2 7000.  8715.  7140.  5600. ]\n"
          ],
          "name": "stdout"
        }
      ]
    },
    {
      "cell_type": "code",
      "metadata": {
        "id": "HlJEj-sxahhi"
      },
      "source": [
        "savings=income-expenses"
      ],
      "execution_count": null,
      "outputs": []
    },
    {
      "cell_type": "code",
      "metadata": {
        "id": "MZNIWBaqanPR",
        "outputId": "ae7e461c-a649-4e53-c909-991d3a8807a4",
        "colab": {
          "base_uri": "https://localhost:8080/",
          "height": 34
        }
      },
      "source": [
        "print(savings)"
      ],
      "execution_count": null,
      "outputs": [
        {
          "output_type": "stream",
          "text": [
            "[2700.  2626.8 3000.  3735.  3060.  2400. ]\n"
          ],
          "name": "stdout"
        }
      ]
    },
    {
      "cell_type": "code",
      "metadata": {
        "id": "Qr0nYlrsezYN"
      },
      "source": [
        "my_list1=[3,8,12]\n",
        "my_list2=[1,5,6]\n",
        "\n",
        "my_array1=np.array([3,8,12])\n",
        "my_array2=np.array([1,5,6])"
      ],
      "execution_count": null,
      "outputs": []
    },
    {
      "cell_type": "code",
      "metadata": {
        "id": "OYyDEw4JgVkL",
        "outputId": "3ba6d0a4-37d8-41b4-a1c9-f4dd5363689f",
        "colab": {
          "base_uri": "https://localhost:8080/",
          "height": 34
        }
      },
      "source": [
        "print(my_list1)"
      ],
      "execution_count": null,
      "outputs": [
        {
          "output_type": "stream",
          "text": [
            "[3, 8, 12]\n"
          ],
          "name": "stdout"
        }
      ]
    },
    {
      "cell_type": "code",
      "metadata": {
        "id": "nDinSfvZgYq6",
        "outputId": "2ee03b34-6bb3-40dc-ff87-9ab4646f086b",
        "colab": {
          "base_uri": "https://localhost:8080/",
          "height": 34
        }
      },
      "source": [
        "print(my_array1)"
      ],
      "execution_count": null,
      "outputs": [
        {
          "output_type": "stream",
          "text": [
            "[ 3  8 12]\n"
          ],
          "name": "stdout"
        }
      ]
    },
    {
      "cell_type": "code",
      "metadata": {
        "id": "OcEz6ul-ezdE",
        "outputId": "b45d7b3d-656c-4a5c-c25f-3b9f83c506da",
        "colab": {
          "base_uri": "https://localhost:8080/",
          "height": 34
        }
      },
      "source": [
        "print(my_list1+my_list2)"
      ],
      "execution_count": null,
      "outputs": [
        {
          "output_type": "stream",
          "text": [
            "[3, 8, 12, 1, 5, 6]\n"
          ],
          "name": "stdout"
        }
      ]
    },
    {
      "cell_type": "code",
      "metadata": {
        "id": "oqx5g6LKezoO",
        "outputId": "610d611d-1060-4aa9-aa11-f6dc7fe86999",
        "colab": {
          "base_uri": "https://localhost:8080/",
          "height": 34
        }
      },
      "source": [
        "print(my_array1+my_array2)"
      ],
      "execution_count": null,
      "outputs": [
        {
          "output_type": "stream",
          "text": [
            "[ 4 13 18]\n"
          ],
          "name": "stdout"
        }
      ]
    },
    {
      "cell_type": "markdown",
      "metadata": {
        "id": "AVPvJ234em7L"
      },
      "source": [
        "## 3.2 - pandas"
      ]
    },
    {
      "cell_type": "code",
      "metadata": {
        "id": "mYwS942Gao24"
      },
      "source": [
        "import pandas as pd\n",
        "#bank_data=pd.read_csv(\"C:\\\\user\\\\datasets\\\\bank_market.csv\")\n",
        "bank_data=pd.read_csv(\"https://raw.githubusercontent.com/venkatareddykonasani/python_5days/master/Day1_Files/Datasets/bank_market.csv\")"
      ],
      "execution_count": null,
      "outputs": []
    },
    {
      "cell_type": "code",
      "metadata": {
        "id": "NSrtdCuQfFmu",
        "outputId": "dad399b4-2fc5-4d26-f3f0-c8d34b56c85d",
        "colab": {
          "base_uri": "https://localhost:8080/",
          "height": 263
        }
      },
      "source": [
        "print(bank_data)"
      ],
      "execution_count": null,
      "outputs": [
        {
          "output_type": "stream",
          "text": [
            "       Cust_num  age           job   marital  ... pdays previous  poutcome    y\n",
            "0             1   58    management   married  ...    -1        0   unknown   no\n",
            "1             2   44    technician    single  ...    -1        0   unknown   no\n",
            "2             3   33  entrepreneur   married  ...    -1        0   unknown   no\n",
            "3             4   47   blue-collar   married  ...    -1        0   unknown   no\n",
            "4             5   33       unknown    single  ...    -1        0   unknown   no\n",
            "...         ...  ...           ...       ...  ...   ...      ...       ...  ...\n",
            "45206     45207   51    technician   married  ...    -1        0   unknown  yes\n",
            "45207     45208   71       retired  divorced  ...    -1        0   unknown  yes\n",
            "45208     45209   72       retired   married  ...   184        3   success  yes\n",
            "45209     45210   57   blue-collar   married  ...    -1        0   unknown   no\n",
            "45210     45211   37  entrepreneur   married  ...   188       11     other   no\n",
            "\n",
            "[45211 rows x 18 columns]\n"
          ],
          "name": "stdout"
        }
      ]
    },
    {
      "cell_type": "markdown",
      "metadata": {
        "id": "BysqQLAOhKO9"
      },
      "source": [
        "### Reference - video link (section 3.1 & 3.2)"
      ]
    },
    {
      "cell_type": "code",
      "metadata": {
        "id": "qMVTFmvkhAQk",
        "outputId": "e8c8214b-5d7f-46ec-e789-eb49a4373bc0",
        "colab": {
          "base_uri": "https://localhost:8080/",
          "height": 321
        }
      },
      "source": [
        "# Quick link for the video covering above section (3.1 & 3.2)\n",
        "from IPython.display import YouTubeVideo\n",
        "YouTubeVideo('xzeMSXSEwC4')"
      ],
      "execution_count": null,
      "outputs": [
        {
          "output_type": "execute_result",
          "data": {
            "text/html": [
              "\n",
              "        <iframe\n",
              "            width=\"400\"\n",
              "            height=\"300\"\n",
              "            src=\"https://www.youtube.com/embed/xzeMSXSEwC4\"\n",
              "            frameborder=\"0\"\n",
              "            allowfullscreen\n",
              "        ></iframe>\n",
              "        "
            ],
            "text/plain": [
              "<IPython.lib.display.YouTubeVideo at 0x7f9564e26f28>"
            ],
            "image/jpeg": "[encoded data removed]"
          },
          "metadata": {
            "tags": []
          },
          "execution_count": 55
        }
      ]
    },
    {
      "cell_type": "markdown",
      "metadata": {
        "id": "duCW0X8GPd2O"
      },
      "source": [
        "## 3.3 - matplotlib"
      ]
    },
    {
      "cell_type": "code",
      "metadata": {
        "id": "nChXaGwbjgLc"
      },
      "source": [
        "import matplotlib as mp \n",
        "import numpy as np\n",
        "\n",
        "X= np.random.normal(size=1000)\n",
        "Y= np.random.normal(size=1000)"
      ],
      "execution_count": null,
      "outputs": []
    },
    {
      "cell_type": "code",
      "metadata": {
        "id": "w-ugTXtqQfYD",
        "outputId": "46306598-7c4e-4024-f886-d0d80f6537e9",
        "colab": {
          "base_uri": "https://localhost:8080/",
          "height": 1000
        }
      },
      "source": [
        "print(X)"
      ],
      "execution_count": null,
      "outputs": [
        {
          "output_type": "stream",
          "text": [
            "[ 7.59791449e-01 -4.64334945e-01  2.42501860e-01 -8.82503134e-01\n",
            " -1.26294064e+00  1.12890954e+00  8.74803205e-01  8.68497315e-01\n",
            "  4.30195717e-02 -5.72257672e-01  9.03402989e-01 -1.39468987e+00\n",
            "  3.61385596e-02  7.89350804e-01  2.00548858e-01 -6.61155517e-01\n",
            "  1.30883541e-01  2.55910538e+00 -9.92552494e-01 -1.68529376e-01\n",
            " -7.33437851e-01  9.89589744e-01  6.06478667e-02 -1.97236770e+00\n",
            " -5.33608055e-01  1.44684007e+00  1.11445227e-01  1.32728706e-02\n",
            " -6.54454804e-01  4.83543730e-02  3.77505394e-01  9.91934520e-01\n",
            "  1.11047889e+00 -2.76525661e-01 -1.52918719e+00 -7.67925615e-01\n",
            " -6.70114580e-01 -6.07027436e-01 -1.92790895e+00  4.83831198e-01\n",
            "  3.13899216e-01  1.39470804e+00  1.01962763e-01 -9.01919724e-02\n",
            " -1.90443601e-01  1.81934973e+00  7.84146018e-01  1.80520010e-02\n",
            " -7.76582048e-02 -1.54209730e+00 -2.81640521e-01 -6.33891791e-01\n",
            " -6.22704873e-01 -5.11379048e-01 -4.93208422e-01  3.84461502e-01\n",
            "  1.35478987e+00  1.75088411e+00  5.45318117e-02 -5.89613711e-01\n",
            "  1.08887618e+00  7.63841948e-01 -4.97253636e-01 -1.60559587e+00\n",
            " -1.43391871e+00 -1.37371431e+00 -3.66276722e-01 -1.07221660e+00\n",
            "  8.17266840e-01 -4.89210116e-01  4.37822176e-03  2.93621251e-01\n",
            " -1.31330557e+00 -9.02481075e-01  5.46016999e-01  1.99842819e+00\n",
            "  2.42822715e+00  1.27429594e+00  2.60139406e-01 -6.31867563e-01\n",
            " -5.11983318e-02 -4.76113067e-02 -1.63248474e+00 -8.42218942e-01\n",
            "  8.96778873e-01 -2.15919366e+00 -1.84989649e-01  1.16177370e+00\n",
            " -3.77643931e-01 -4.21598558e-02  1.07995968e+00  5.37034345e-01\n",
            "  1.63197948e-01 -1.28964961e-01  2.29753655e+00  2.70140255e-02\n",
            "  1.07252360e+00 -1.07053224e-01  7.28360157e-01 -1.16815010e+00\n",
            " -2.40702399e-01  3.49231214e-01 -1.02289060e+00  1.27858632e+00\n",
            " -9.60774280e-01  1.26053489e-01  1.22480511e+00  5.66602660e-01\n",
            "  9.61357722e-02  2.13856317e+00  3.19544297e+00 -2.34616755e-03\n",
            " -3.86548454e-01 -7.69649756e-01 -3.99466878e-01  9.25660284e-01\n",
            " -1.64555586e+00  6.10638798e-01 -5.03584343e-01  2.62862039e+00\n",
            " -1.04081619e+00 -1.22476785e+00  3.27698654e-01  2.54662196e+00\n",
            "  1.11673772e+00 -1.02288536e-01  5.78629353e-02 -7.29427834e-01\n",
            " -2.18004228e-01 -3.16138024e-01  1.01470667e+00 -9.25029013e-01\n",
            "  1.47052836e+00  2.14748939e-01 -1.92439696e+00 -2.85130685e-02\n",
            "  9.49632114e-01 -3.53825955e-02  7.09108177e-01  1.24337495e+00\n",
            "  1.15492206e+00 -7.76491174e-02  3.54997388e+00  3.14959715e-02\n",
            " -1.38990715e+00 -2.12222792e+00 -8.03487760e-01  1.17259597e+00\n",
            " -7.24723932e-02  1.95238588e+00  4.77955965e-01 -1.40016291e+00\n",
            "  3.56889443e-01 -1.64266623e+00 -9.18108001e-01 -2.97501334e-02\n",
            " -3.33944244e-01 -1.40192860e+00 -2.22869596e+00  2.58343824e-01\n",
            "  8.40988344e-02  1.65269604e-01 -1.93450378e-01  1.56541781e+00\n",
            "  1.08826516e-01  8.57998592e-01 -1.36718049e+00  1.44052544e+00\n",
            "  8.37035254e-01  1.35164375e-01 -3.73756076e-01 -2.01558659e-01\n",
            "  9.77124322e-01 -1.23829135e+00 -8.33228031e-02  5.63775368e-02\n",
            "  4.71960224e-01 -2.82968845e+00 -6.52860168e-02  6.19727190e-01\n",
            " -1.31740017e+00 -3.18269673e-01 -8.24863245e-02 -6.60231075e-01\n",
            "  2.86239412e-01 -3.50397950e-01  2.98600873e-01 -6.76232743e-01\n",
            " -1.05592198e-01  5.63855776e-01  1.89726280e+00 -2.45826943e-01\n",
            " -6.64535943e-01 -5.75835451e-01 -1.41473656e+00 -1.34272229e+00\n",
            "  1.41418202e-01 -3.36571907e-01 -2.60734986e+00 -1.61576563e+00\n",
            " -5.27594825e-01 -1.57922413e-01  8.90904609e-01 -2.25968833e+00\n",
            "  1.05234388e+00 -5.25792555e-01 -1.34919335e+00  1.10015439e+00\n",
            "  1.03517538e+00  2.68335134e-01  8.54570892e-01 -3.84849820e-01\n",
            " -1.07411280e+00 -3.38046417e-02  7.56090344e-01 -3.10911125e-02\n",
            " -1.83453397e+00 -1.21583024e+00 -8.97390712e-01 -1.88528100e+00\n",
            "  1.09160165e+00 -1.80137762e+00  1.73752905e+00  5.16227764e-01\n",
            "  9.83147332e-01 -5.78747083e-01  1.33420811e+00 -4.81542423e-01\n",
            " -1.14323456e+00 -6.59887048e-01 -8.61998871e-01  8.07287352e-01\n",
            " -1.63601043e+00 -6.54690944e-01  1.32013218e+00 -1.94071115e+00\n",
            "  1.02765071e+00 -1.21681536e+00 -1.08002827e+00  1.16601835e+00\n",
            " -3.96541892e-01 -5.71656601e-01 -4.86184115e-01 -9.09660995e-01\n",
            " -1.02534799e+00 -2.75173014e-01  1.26046241e+00 -6.76146813e-01\n",
            " -1.14508151e+00  2.04173256e-01  5.90888268e-01  7.47857337e-01\n",
            "  2.38765039e+00 -1.65868127e+00  9.57986280e-01 -2.76248990e-01\n",
            "  7.60705328e-01  6.99897565e-02  1.10151608e+00 -2.61166435e+00\n",
            "  1.69914135e+00 -1.46271790e+00 -1.11181775e+00 -2.20254313e+00\n",
            "  8.71019893e-01  1.08033484e+00  2.86228768e-01  6.35894531e-01\n",
            "  2.76207719e-01  4.11965179e-01  2.54025398e-02  4.05422071e-02\n",
            "  3.87138888e-01  3.81733823e-01 -1.17878239e+00  3.37154712e-01\n",
            "  1.18627843e+00 -1.01593446e+00 -2.36847494e+00  2.00341863e-01\n",
            "  1.06736134e+00  7.96889896e-01  9.86794339e-01  1.08887543e+00\n",
            " -1.38721873e+00  1.16579400e-01  9.91708681e-01 -1.90226301e-01\n",
            "  1.02956049e-01 -4.61129462e-01 -1.65732041e+00  3.10385229e-01\n",
            "  6.67807338e-01 -7.23642521e-01 -1.00257821e+00 -1.26151874e+00\n",
            " -8.98402830e-01 -1.36520135e+00  1.40215449e+00 -4.38500998e-02\n",
            "  7.11813405e-01 -1.52726043e+00  1.87016162e+00 -1.43259797e+00\n",
            "  7.32288715e-01 -5.34960644e-01 -7.57215161e-01  4.43338553e-01\n",
            "  7.76693170e-03  8.18103851e-01 -1.11578692e+00 -1.49659955e+00\n",
            "  2.82566772e-01  4.00963245e-01  1.96359186e-01 -1.27522194e+00\n",
            "  8.46358510e-03  6.20102993e-01 -5.36630331e-02  5.26440374e-01\n",
            "  1.96425006e+00  7.42021028e-01  1.75763481e+00 -6.22424557e-01\n",
            " -5.98831286e-01 -1.22482796e+00  1.78974356e+00 -1.20690113e+00\n",
            "  3.86722038e-01 -7.17636026e-01  1.12764532e+00 -4.42077036e-02\n",
            "  2.66330520e-01 -9.46407538e-01 -1.00871912e+00 -4.05930892e-01\n",
            " -1.88703652e+00  1.17067267e+00 -4.71707316e-01  9.86302511e-01\n",
            " -8.78049230e-01  1.05747337e-01  1.06842366e+00  6.32778175e-01\n",
            " -8.10383599e-01  1.73740054e+00  8.42986375e-01  6.11587670e-01\n",
            "  6.45199158e-01  1.52626278e-02  1.21609847e+00 -9.34575862e-01\n",
            "  1.64604118e+00 -1.38690564e+00 -7.29509684e-01 -6.17200568e-01\n",
            " -8.12287339e-02 -2.72972190e-01 -3.99566809e-01 -4.06820527e-01\n",
            " -6.00229712e-01 -8.31911757e-01  1.86149545e-01 -1.94199160e+00\n",
            "  6.69018577e-01 -1.65517539e-01  3.54926648e-01 -8.71746909e-01\n",
            " -2.14535343e+00  7.92989237e-01  1.36605392e+00  9.36757912e-01\n",
            "  8.19531602e-02  9.15185405e-01  1.74085159e+00 -1.21812240e+00\n",
            " -1.34219592e-01  1.54228567e-01  3.16898954e-01 -1.33096336e+00\n",
            "  9.08263331e-01 -9.43545615e-01 -4.07495170e-01  1.10543166e+00\n",
            " -3.38776174e-01 -1.19915263e+00 -7.22992652e-02  9.40313883e-01\n",
            " -9.18953415e-01 -1.66216240e-01  6.57622820e-01  3.94395322e-02\n",
            " -3.84567126e-01 -1.54488251e+00  6.44124744e-01  2.48848902e-01\n",
            " -6.38844265e-01  6.94644878e-01  9.56009191e-01  6.23645165e-01\n",
            "  7.40529474e-01  1.51650965e+00 -8.80211888e-01 -2.44994654e+00\n",
            " -1.71702927e+00 -3.75523555e-01 -3.49654360e-02 -6.85824902e-01\n",
            " -2.44949357e+00 -4.56914212e-02 -1.03668570e+00  6.04140140e-01\n",
            "  2.00882687e-02  1.24284323e+00  1.09811011e-01  1.38376548e+00\n",
            "  8.02701302e-01  1.13657530e+00  1.33573105e+00  6.84493401e-01\n",
            " -1.67128478e-01  1.25086614e+00 -5.87738565e-01 -1.24308093e+00\n",
            " -1.09481301e+00 -1.40069515e-02  7.33308300e-01 -5.14934972e-01\n",
            "  4.91750101e-01 -1.06312617e-01  4.99334072e-02  1.09689118e+00\n",
            "  1.22381665e+00  1.40262109e+00  4.72089404e-01 -2.19287504e-01\n",
            " -2.40634927e-01 -9.65360966e-02 -1.78859136e+00 -9.09226407e-01\n",
            " -8.33748403e-01  7.60499088e-01 -3.96027906e-01  4.55910514e-01\n",
            " -1.80650737e+00 -4.55983130e-01 -8.96141781e-01  6.86263213e-01\n",
            " -1.80711511e+00  7.56211129e-01 -1.14279506e-01 -2.10471360e-01\n",
            " -4.84474823e-01 -1.55191513e+00 -6.65910669e-01 -1.39105597e-01\n",
            " -3.87491780e-01  3.55926663e-01 -3.30988313e-01  8.45025894e-01\n",
            " -1.38039329e+00  5.24201675e-01 -1.36450586e-01 -1.13657816e+00\n",
            " -2.36864987e-01 -2.34675871e+00 -1.51107296e-01  6.75492650e-02\n",
            " -5.79187916e-01  9.06208412e-01 -1.71215876e+00  4.08980745e-01\n",
            "  4.67548283e-01 -1.30120686e+00 -4.20396570e-01 -1.37038699e+00\n",
            "  4.57062014e-01  1.34508067e+00 -8.53572006e-01  1.47129854e+00\n",
            "  9.10731708e-01 -1.24475433e+00 -1.29678352e+00  8.33205569e-01\n",
            " -3.23723658e-01 -2.41040448e-01  4.57322353e-01 -1.61720404e+00\n",
            "  1.62469499e-02 -9.91624916e-02  6.94199906e-01 -4.79151140e-01\n",
            "  1.18767971e+00 -1.96147045e+00 -1.57838671e+00 -1.72965817e+00\n",
            " -3.85773390e-02 -5.49104422e-01 -1.05528308e+00 -6.84647759e-01\n",
            "  1.44090148e-01 -8.86399068e-02  4.47654795e-01 -6.25053564e-01\n",
            " -1.63331809e+00  8.37505916e-01  1.99646127e+00  1.33281155e+00\n",
            " -1.41682234e+00 -1.51759069e+00 -1.85868979e-01  6.15416765e-01\n",
            "  9.09180441e-01 -9.30473216e-01 -3.49357907e-01 -1.51625069e+00\n",
            " -1.02599494e+00  1.85269267e-01 -1.09727907e-01 -1.12619476e+00\n",
            " -6.35180119e-01  1.36786746e-01 -4.48514356e-01 -1.15565837e+00\n",
            " -6.18054972e-01  9.58297814e-02  9.13488111e-02  7.99916303e-02\n",
            " -8.47015393e-01 -5.61822580e-01 -5.90974090e-01  1.28446207e+00\n",
            " -1.21567815e+00 -6.41464695e-01 -7.93133962e-01 -2.69147009e-01\n",
            "  1.20967361e+00  4.33879709e-01  5.42789394e-01 -1.04009215e-01\n",
            " -7.15029011e-01  9.32514534e-01  1.69055150e+00  7.85007684e-01\n",
            " -9.50663575e-01  2.47624313e-02  5.26259733e-01  2.34722647e+00\n",
            " -4.10746845e-01  8.06297656e-02  2.52131116e-01 -4.90945530e-01\n",
            " -6.43944428e-01 -6.57841122e-01 -1.39002126e+00  7.55835951e-02\n",
            "  8.07575785e-01 -1.06884310e-01 -5.40980089e-02 -1.05494564e+00\n",
            " -3.10957890e-01  4.65692134e-01  1.82541470e-01  4.92242843e-01\n",
            "  9.33721250e-01  4.10666028e-01  8.04303196e-01  3.47541253e-01\n",
            " -1.30736573e-02 -1.65446829e-02 -3.35799572e-01  1.23110700e+00\n",
            " -3.64381952e+00 -1.51945790e+00  9.83052944e-01 -1.61415988e-03\n",
            "  2.25748946e+00 -5.15160960e-01  1.23121385e+00 -6.46997780e-01\n",
            "  6.59739242e-01 -2.25860707e-01  2.24190022e+00  1.03526274e+00\n",
            "  1.13513818e-01  3.13107539e-01  1.42762407e+00 -1.07147385e+00\n",
            "  4.36140121e-02 -1.06894999e+00 -1.38487098e+00 -5.56151654e-01\n",
            " -8.73821984e-01  3.36994419e-01 -3.11705238e-01 -5.87458483e-01\n",
            " -3.63379117e-01 -3.82079753e-01 -4.16526753e-01 -4.43023755e-01\n",
            " -1.03973336e+00  1.59174990e+00  4.57681592e-01 -9.52322062e-01\n",
            "  2.28282817e-01 -4.19613278e-01  8.18634035e-01 -1.39432859e+00\n",
            "  7.44670815e-01 -9.56186072e-01 -1.50555569e+00 -1.84051300e+00\n",
            " -1.57681235e+00 -8.05340398e-01 -7.73747426e-01  3.72631178e-02\n",
            "  4.46722910e-01  1.82632173e-01  2.10541593e+00 -4.36865106e-01\n",
            " -2.64774138e-02 -7.22974889e-03 -1.39806020e+00 -3.91032476e-01\n",
            " -1.02864797e+00 -1.48347744e+00  5.29367254e-01  6.53568220e-01\n",
            " -2.67264729e-01  2.66362224e-01 -9.78839417e-01  1.05920441e+00\n",
            " -1.15868214e+00  1.85267780e-01  3.49255591e+00 -5.59965996e-01\n",
            "  4.00859408e-01  1.37659354e+00 -6.70666431e-02  1.00786577e+00\n",
            "  1.93932013e+00 -1.38713221e-01  1.12271302e+00  8.91944758e-02\n",
            " -4.34920814e-01  3.51589149e-01 -4.69919945e-01 -8.67481353e-01\n",
            "  1.84857863e-01 -1.16125304e+00  6.14447161e-01 -1.13789776e+00\n",
            "  2.50170366e-01  3.97009749e-01  5.15091318e-01 -2.31710265e-01\n",
            "  5.92638516e-01 -1.04761608e-01 -1.85472230e+00  2.61038294e-01\n",
            "  1.88234487e-01 -8.05088821e-01  1.33166153e+00  6.25697251e-01\n",
            " -1.42417776e+00 -1.72687935e-02 -1.81735864e+00 -8.73044749e-01\n",
            "  6.60211267e-01  3.58543397e-01  7.72679861e-01  6.75068543e-01\n",
            " -4.39462719e-01  6.81356332e-01  1.07192928e+00  2.16389125e-01\n",
            " -1.50624110e+00  1.13651760e+00 -7.82106326e-01  9.52110308e-01\n",
            "  8.64740875e-01  5.36835305e-01 -3.54571464e-01 -1.21416387e+00\n",
            " -9.67397842e-01  1.14207697e+00  9.98590896e-02 -7.01318496e-01\n",
            "  1.61205134e+00  8.50821866e-02 -4.68326843e-01  2.54683710e-01\n",
            " -2.22320520e-01  1.68464237e+00 -8.56936171e-01  1.06991857e-01\n",
            "  7.04066596e-01 -7.97211656e-01  2.11552688e-01  4.41601145e-01\n",
            "  3.19330433e+00  2.16158075e+00  7.69738824e-01  1.18892288e-01\n",
            " -5.65237503e-01 -1.63505993e+00  1.07149703e+00  5.22314934e-01\n",
            "  1.11371111e+00  3.71468718e-01  4.09568995e-01 -1.17822519e+00\n",
            "  5.96682693e-01 -6.11613261e-01  3.11522420e+00  1.17616180e+00\n",
            " -8.36809519e-01 -8.97977457e-01  1.09373044e+00 -7.82584360e-01\n",
            "  3.44144573e-01  1.57713287e-01 -9.84771797e-02  5.03140044e-01\n",
            " -1.07638405e+00  3.54320677e-01  6.31140825e-01  1.96505167e-02\n",
            "  1.14212295e+00  6.66095665e-01  8.50081158e-01 -7.11947749e-01\n",
            " -5.90171046e-01  1.45875225e-01 -7.76551794e-01  7.99767454e-01\n",
            " -2.16234437e+00 -2.73061873e-01  3.71457042e-01  2.11381497e-02\n",
            "  9.98349946e-01 -1.43625407e+00 -1.18217723e+00 -3.84973658e-01\n",
            "  8.41321436e-01  2.43525714e-01 -1.13476374e+00  9.93174278e-01\n",
            "  2.72417535e+00 -1.53392119e+00  1.43075799e+00  8.79349325e-01\n",
            "  1.02350504e+00 -6.54268099e-01  1.53092558e+00  1.27276528e+00\n",
            "  1.33702328e+00  2.54051405e-01 -7.95001386e-01 -2.02080750e-01\n",
            "  6.41029115e-01  8.92595918e-01 -2.06247842e+00 -3.52249875e-01\n",
            " -6.89597421e-01  4.06614869e-01 -9.50288670e-01 -2.48417585e+00\n",
            " -1.15851940e+00  1.00188834e-01  7.03198326e-02 -7.48935870e-03\n",
            " -1.47846806e+00 -1.56402775e+00  6.53056855e-01 -1.07575784e+00\n",
            "  3.13742082e-01  2.09916965e-01  7.26033149e-01 -9.10459361e-01\n",
            "  2.55333687e-01  2.01378619e+00 -8.03176464e-01  3.11289113e-01\n",
            "  4.47294221e-01 -2.06609654e+00 -8.73191333e-02 -5.31237008e-01\n",
            "  1.20423272e+00  8.41768702e-01 -1.19894283e+00 -9.51976780e-01\n",
            "  2.21811132e-01 -2.15281320e-01 -3.68780669e-01 -2.42832649e-01\n",
            "  6.08121871e-01  1.29913764e+00  1.61093725e-01  3.73705010e-01\n",
            " -1.88810213e-01 -1.79104235e-01  2.97041837e-02 -1.13290713e+00\n",
            "  1.01797002e+00 -8.39875327e-01  2.66024581e-01 -2.04509120e+00\n",
            " -7.61948070e-01 -1.84446102e+00 -7.55621794e-01 -6.58015510e-01\n",
            " -1.43256638e+00 -3.22702774e-01  3.74682723e-01  3.67220416e-02\n",
            " -9.98402695e-01  1.17855448e+00 -4.05838651e-01 -5.51564967e-01\n",
            " -5.61936520e-01 -3.56863037e-01 -3.91428482e-01  6.24632392e-01\n",
            "  3.17961587e-01 -1.06435151e+00 -2.31885425e-01  1.07725327e+00\n",
            " -2.91011655e+00 -5.36733666e-01 -1.76868168e+00 -4.92764905e-02\n",
            "  1.62669265e+00  5.41333702e-02  2.21432236e-01 -9.43244386e-01\n",
            " -1.28989811e+00 -6.57410932e-01  3.86569903e-01 -1.39906710e+00\n",
            " -7.39057663e-01 -3.69267045e-02  7.60733096e-02  1.07634021e+00\n",
            "  1.00138336e+00  5.30181699e-01 -5.59874104e-01 -7.24749559e-01\n",
            "  8.27768773e-01 -3.23459116e-01  7.38201357e-01 -5.17815356e-01\n",
            " -2.33564976e-01 -7.78323861e-01 -5.61804921e-01 -7.12873998e-02\n",
            "  5.86591742e-01  2.87240781e-01  2.49510074e-02  7.31574007e-01\n",
            "  9.17931806e-01  9.62061236e-01  4.04894087e-01 -6.49492776e-01\n",
            " -5.02098019e-01  7.20556988e-01 -2.31561009e+00  1.49729297e+00\n",
            "  5.59191017e-01  1.33973340e+00 -8.46441937e-01  9.90072926e-01\n",
            "  1.40682287e+00  1.65661687e-01  9.53626191e-01 -7.46680300e-01\n",
            " -1.05100460e+00 -7.57500989e-01 -7.57659423e-02  6.55191634e-02\n",
            "  1.74127010e+00  1.17397208e+00 -1.69570009e+00 -5.91413874e-01\n",
            "  4.74536044e-01  6.40372147e-02 -2.63132002e-01 -6.49723055e-01\n",
            "  8.27356532e-01 -1.08310869e+00 -1.76698259e+00 -1.67901576e+00\n",
            " -1.16307036e+00 -8.21574309e-02 -4.26879752e-01  6.68391879e-01\n",
            " -1.28628611e+00  9.31117237e-02  1.67930736e+00  3.29668508e-01\n",
            "  2.75306236e-01 -7.85322728e-01 -5.59697951e-01 -5.04997076e-01\n",
            "  7.06242845e-01  8.50621176e-02 -5.29459341e-01  1.06342219e+00\n",
            "  1.20790248e+00  3.48092653e-01 -2.08835829e+00  1.48645657e+00\n",
            "  4.27797605e-01 -7.51242241e-01  1.37825585e+00 -1.66704394e+00\n",
            " -3.64400862e-01  9.99018992e-02  1.79895479e+00 -1.25081087e+00\n",
            " -1.04064671e+00  3.26273020e-01  3.89979028e-01 -3.19712494e-01\n",
            " -1.92165624e+00 -1.02304334e+00  6.04413222e-01 -1.79377324e+00\n",
            " -2.00553067e+00 -2.00245731e+00 -1.02290459e+00 -8.26260591e-01\n",
            "  1.78825417e+00 -1.39129938e+00  8.71087388e-01  6.10885739e-01\n",
            "  6.69567720e-01 -3.02216789e-01 -4.82764554e-01  7.06490222e-01\n",
            "  1.33124878e-01  1.35522531e+00 -1.80026324e+00 -8.58644743e-01\n",
            " -3.06130067e-01 -7.46019369e-01  7.59841641e-01 -4.46020123e-01\n",
            "  1.33179921e-01  2.62411283e-01 -6.73985610e-01 -1.30416408e+00\n",
            " -9.66340737e-01  9.16101625e-01  3.78597771e-01 -2.39838147e-01\n",
            "  1.99847926e-01 -1.00137511e+00 -5.00599334e-01  2.76135038e-01\n",
            " -2.68262893e-01 -6.75762975e-01 -9.58881659e-01 -9.39638440e-01\n",
            " -3.79054485e-01 -2.18648929e+00 -1.00981846e+00 -5.91813698e-03\n",
            "  1.68575018e+00  1.75314697e+00 -4.00026691e-01  7.84772237e-01\n",
            " -1.28416313e+00  3.51140997e-01 -1.00370513e+00  4.27486351e-01\n",
            "  1.81460355e+00 -7.16199604e-01  1.04569243e+00  4.29598901e-01\n",
            "  3.68330083e-01 -8.26552551e-01 -5.02790449e-01 -4.48737661e-02\n",
            " -4.47719657e-01 -1.91961410e+00 -1.42526060e+00 -1.67675706e+00\n",
            " -8.35780819e-02  1.27873588e+00 -1.34068081e+00 -1.23682966e-01\n",
            " -3.43314452e-01 -1.41913639e+00 -1.14922639e+00  7.90262500e-02\n",
            " -8.03181784e-01 -1.17752046e+00 -5.25742516e-01 -9.21553037e-01]\n"
          ],
          "name": "stdout"
        }
      ]
    },
    {
      "cell_type": "code",
      "metadata": {
        "id": "Q0wr-hZiQjtc",
        "outputId": "5e704072-9e26-44bf-9543-225c7e17e0e0",
        "colab": {
          "base_uri": "https://localhost:8080/",
          "height": 282
        }
      },
      "source": [
        "mp.pyplot.scatter(X,Y)"
      ],
      "execution_count": null,
      "outputs": [
        {
          "output_type": "execute_result",
          "data": {
            "text/plain": [
              "<matplotlib.collections.PathCollection at 0x7f12d0fec048>"
            ]
          },
          "metadata": {
            "tags": []
          },
          "execution_count": 17
        },
        {
          "output_type": "display_data",
          "data": {
            "image/png": "[encoded data removed]",
            "text/plain": [
              "<Figure size 432x288 with 1 Axes>"
            ]
          },
          "metadata": {
            "tags": [],
            "needs_background": "light"
          }
        }
      ]
    },
    {
      "cell_type": "markdown",
      "metadata": {
        "id": "ANTwg6z8WTMX"
      },
      "source": [
        "## 3.4 - scikit-learn"
      ]
    },
    {
      "cell_type": "code",
      "metadata": {
        "id": "kunU_gYhUmuS"
      },
      "source": [
        "import sklearn\n",
        "from sklearn.linear_model import LogisticRegression"
      ],
      "execution_count": null,
      "outputs": []
    },
    {
      "cell_type": "code",
      "metadata": {
        "id": "myxvmDW4VKUj",
        "outputId": "1a7cfec7-7369-408d-d8d6-5c055edad476",
        "colab": {
          "base_uri": "https://localhost:8080/",
          "height": 105
        }
      },
      "source": [
        "Logistic_model=LogisticRegression()\n",
        "Logistic_model.fit(bank_data[[\"age\",\"balance\"]], bank_data[\"y\"])"
      ],
      "execution_count": null,
      "outputs": [
        {
          "output_type": "execute_result",
          "data": {
            "text/plain": [
              "LogisticRegression(C=1.0, class_weight=None, dual=False, fit_intercept=True,\n",
              "                   intercept_scaling=1, l1_ratio=None, max_iter=100,\n",
              "                   multi_class='auto', n_jobs=None, penalty='l2',\n",
              "                   random_state=None, solver='lbfgs', tol=0.0001, verbose=0,\n",
              "                   warm_start=False)"
            ]
          },
          "metadata": {
            "tags": []
          },
          "execution_count": 31
        }
      ]
    },
    {
      "cell_type": "code",
      "metadata": {
        "id": "cA6yvpoxXCo9",
        "outputId": "20646f7f-a905-4dd1-e405-9de302fa259d",
        "colab": {
          "base_uri": "https://localhost:8080/",
          "height": 34
        }
      },
      "source": [
        "print(Logistic_model.coef_)"
      ],
      "execution_count": null,
      "outputs": [
        {
          "output_type": "stream",
          "text": [
            "[[5.93803647e-03 3.78303747e-05]]\n"
          ],
          "name": "stdout"
        }
      ]
    },
    {
      "cell_type": "code",
      "metadata": {
        "id": "zb-gupatXJNC",
        "outputId": "1891dc36-fc6d-4edf-df92-a27790dddc15",
        "colab": {
          "base_uri": "https://localhost:8080/",
          "height": 34
        }
      },
      "source": [
        "print(Logistic_model.intercept_)"
      ],
      "execution_count": null,
      "outputs": [
        {
          "output_type": "stream",
          "text": [
            "[-2.32325476]\n"
          ],
          "name": "stdout"
        }
      ]
    },
    {
      "cell_type": "markdown",
      "metadata": {
        "id": "raLfo-LIhi-5"
      },
      "source": [
        ""
      ]
    },
    {
      "cell_type": "markdown",
      "metadata": {
        "id": "Qn0F7AZghjfx"
      },
      "source": [
        "### Reference - video link (section 3.3 & 3.4)"
      ]
    },
    {
      "cell_type": "code",
      "metadata": {
        "id": "ZitJOQf6hjfy",
        "outputId": "e8c8214b-5d7f-46ec-e789-eb49a4373bc0",
        "colab": {
          "base_uri": "https://localhost:8080/",
          "height": 321
        }
      },
      "source": [
        "# Quick link for the video covering above section (3.3 & 3.4)\n",
        "from IPython.display import YouTubeVideo\n",
        "YouTubeVideo('xzeMSXSEwC4')"
      ],
      "execution_count": null,
      "outputs": [
        {
          "output_type": "execute_result",
          "data": {
            "text/html": [
              "\n",
              "        <iframe\n",
              "            width=\"400\"\n",
              "            height=\"300\"\n",
              "            src=\"https://www.youtube.com/embed/xzeMSXSEwC4\"\n",
              "            frameborder=\"0\"\n",
              "            allowfullscreen\n",
              "        ></iframe>\n",
              "        "
            ],
            "text/plain": [
              "<IPython.lib.display.YouTubeVideo at 0x7f9564e26f28>"
            ],
            "image/jpeg": "[encoded data removed]"
          },
          "metadata": {
            "tags": []
          },
          "execution_count": 55
        }
      ]
    },
    {
      "cell_type": "markdown",
      "metadata": {
        "id": "wJi2kXkeQmez"
      },
      "source": [
        "# Section 4: Conditions and Loops"
      ]
    },
    {
      "cell_type": "markdown",
      "metadata": {
        "id": "6h3vWNDmTmu-"
      },
      "source": [
        "## 4.1 - Conditional statements"
      ]
    },
    {
      "cell_type": "code",
      "metadata": {
        "id": "RmRO4Z3wXM9_",
        "outputId": "dea33af0-a5fe-480f-8ab0-a9bd043c8cb6",
        "colab": {
          "base_uri": "https://localhost:8080/",
          "height": 34
        }
      },
      "source": [
        "# Writing a simple 'if' condition to check if variable 'age' is less than 50\n",
        "# In below code, if condition is FALSE since variable 'age' is greater than 50 thus print statement inside if block will not be executed.\n",
        "age=60\n",
        "\n",
        "if age<50:\n",
        "  print(\"Age is less than 50\") # This print statement is inside if block, notice the indentation.\n",
        "\n",
        "print(\"Done with if\") # This print statement is outside if block."
      ],
      "execution_count": null,
      "outputs": [
        {
          "output_type": "stream",
          "text": [
            "Done with if\n"
          ],
          "name": "stdout"
        }
      ]
    },
    {
      "cell_type": "code",
      "metadata": {
        "id": "P5Dqi6q_T6qX",
        "outputId": "11a7decf-082f-454a-f91b-4ff5b7f37461",
        "colab": {
          "base_uri": "https://localhost:8080/",
          "height": 50
        }
      },
      "source": [
        "# In below lines of code, variable age is reassigned value 40.\n",
        "# Since age is now less than 50, if condition is TRUE this time and the inner print statement will get executed.\n",
        "age=40\n",
        "\n",
        "if age<50:\n",
        "  print(\"Age is less than 50\") # This print statement is inside if block, notice the indentation.\n",
        "\n",
        "print(\"Done with if\") # This print statement is outside if block."
      ],
      "execution_count": null,
      "outputs": [
        {
          "output_type": "stream",
          "text": [
            "Age is less than 50\n",
            "Done with if\n"
          ],
          "name": "stdout"
        }
      ]
    },
    {
      "cell_type": "code",
      "metadata": {
        "id": "tH--2SIiVNcW",
        "outputId": "d7e247ca-df93-4ecd-a2e8-d360139cebed",
        "colab": {
          "base_uri": "https://localhost:8080/",
          "height": 50
        }
      },
      "source": [
        "# This time we are  including 'else' block in addition to 'if' condition, 'else' block gets executed when 'if' condition is FALSE\n",
        "# Note: Between 'if' and 'else' blocks, only one of the blocks get executed. \n",
        "# In below lines of code, else statement will get executed as 'if' condition will be FALSE \n",
        "age=60\n",
        "\n",
        "if age<50:\n",
        "  print(\"Age is less than 50\")\n",
        "else:\n",
        "  print(\"Age is NOT less than 50\")\n",
        "\n",
        "print(\"Done with if\")"
      ],
      "execution_count": null,
      "outputs": [
        {
          "output_type": "stream",
          "text": [
            "Age is NOT less than 50\n",
            "Done with if\n"
          ],
          "name": "stdout"
        }
      ]
    },
    {
      "cell_type": "code",
      "metadata": {
        "id": "ZMawKG0nVeV5",
        "outputId": "7cb457e4-a53c-4c09-d564-b9d935f50e34",
        "colab": {
          "base_uri": "https://localhost:8080/",
          "height": 34
        }
      },
      "source": [
        "# This time, variable age is set to 40 and it meets the 'if' condition (age<50).\n",
        "#Thus, if block will get executed and 'Age is less than 50' will be printed. \n",
        "age=40\n",
        "\n",
        "if age<50:\n",
        "  print(\"Age is less than 50\") # This print statement is part of 'if' condition\n",
        "else:\n",
        "  print(\"Age is NOT less than 50\") # This print statement is part of 'else' condition\n",
        "  \n",
        "  print(\"Done with if\")"
      ],
      "execution_count": null,
      "outputs": [
        {
          "output_type": "stream",
          "text": [
            "Group1\n"
          ],
          "name": "stdout"
        }
      ]
    },
    {
      "cell_type": "code",
      "metadata": {
        "id": "5EZrlVUbVlzU",
        "outputId": "45e06450-b741-4f01-b9a0-d2d534bb2f9d",
        "colab": {
          "base_uri": "https://localhost:8080/",
          "height": 34
        }
      },
      "source": [
        "# In below lines of code, we are including 'elif' statements in addition to 'if' and 'else' statements\n",
        "# Note: Only of the 'if', 'elif' and 'else' statements gets to execute.\n",
        "\n",
        "# Here, marks is assigned value 86 whic is satisfied in Fourth conditional statement below\n",
        "marks=86\n",
        "\n",
        "if(marks<30): # First conditional statement of the example- if\n",
        "  print(\"fail\")\n",
        "elif(marks<60): # Second conditional statement of the example- elif\n",
        "  print(\"Second Class\") \n",
        "elif(marks<80): # Third conditional statement of the example- elif\n",
        "  print(\"First Class\") \n",
        "elif(marks<100): # Fourth conditional statement of the example- elif\n",
        "  print(\"Distinction\") \n",
        "else: # Fifth conditional statement of the example- if\n",
        "  print(\"Error in marks\")"
      ],
      "execution_count": null,
      "outputs": [
        {
          "output_type": "stream",
          "text": [
            "Distinction\n"
          ],
          "name": "stdout"
        }
      ]
    },
    {
      "cell_type": "markdown",
      "metadata": {
        "id": "_ty6s2b8XBWY"
      },
      "source": [
        "## 4.2 - For loop"
      ]
    },
    {
      "cell_type": "code",
      "metadata": {
        "id": "CWNpsZrbWLeu",
        "outputId": "d0363beb-20a5-451a-bea9-81193879eeda",
        "colab": {
          "base_uri": "https://localhost:8080/",
          "height": 351
        }
      },
      "source": [
        "# \n",
        "for i in range(1,20):\n",
        "  print(\"Number is\", i)"
      ],
      "execution_count": null,
      "outputs": [
        {
          "output_type": "stream",
          "text": [
            "Number is 1\n",
            "Number is 2\n",
            "Number is 3\n",
            "Number is 4\n",
            "Number is 5\n",
            "Number is 6\n",
            "Number is 7\n",
            "Number is 8\n",
            "Number is 9\n",
            "Number is 10\n",
            "Number is 11\n",
            "Number is 12\n",
            "Number is 13\n",
            "Number is 14\n",
            "Number is 15\n",
            "Number is 16\n",
            "Number is 17\n",
            "Number is 18\n",
            "Number is 19\n"
          ],
          "name": "stdout"
        }
      ]
    },
    {
      "cell_type": "code",
      "metadata": {
        "id": "tKuLRBRwXZwV",
        "outputId": "1df6ae60-49a5-401c-84ae-a069f48c7f8b",
        "colab": {
          "base_uri": "https://localhost:8080/",
          "height": 175
        }
      },
      "source": [
        "sumx=0\n",
        "\n",
        "for i in range(1,10):\n",
        "  sumx=sumx+i\n",
        "  print(\"Cumulative sum is\", sumx)\n"
      ],
      "execution_count": null,
      "outputs": [
        {
          "output_type": "stream",
          "text": [
            "Cumulative sum is 1\n",
            "Cumulative sum is 3\n",
            "Cumulative sum is 6\n",
            "Cumulative sum is 10\n",
            "Cumulative sum is 15\n",
            "Cumulative sum is 21\n",
            "Cumulative sum is 28\n",
            "Cumulative sum is 36\n",
            "Cumulative sum is 45\n"
          ],
          "name": "stdout"
        }
      ]
    },
    {
      "cell_type": "code",
      "metadata": {
        "id": "SubVppaqXqiC",
        "outputId": "b498762a-4c89-4ce8-cc28-f2e952412aaa",
        "colab": {
          "base_uri": "https://localhost:8080/",
          "height": 246
        }
      },
      "source": [
        "sumx=0\n",
        "\n",
        "for i in range(1,200):\n",
        "  sumx=sumx+i\n",
        "  if(sumx>100):\n",
        "    break\n",
        "  print(\"Cumulative sum is\", sumx)\n"
      ],
      "execution_count": null,
      "outputs": [
        {
          "output_type": "stream",
          "text": [
            "Cumulative sum is 1\n",
            "Cumulative sum is 3\n",
            "Cumulative sum is 6\n",
            "Cumulative sum is 10\n",
            "Cumulative sum is 15\n",
            "Cumulative sum is 21\n",
            "Cumulative sum is 28\n",
            "Cumulative sum is 36\n",
            "Cumulative sum is 45\n",
            "Cumulative sum is 55\n",
            "Cumulative sum is 66\n",
            "Cumulative sum is 78\n",
            "Cumulative sum is 91\n"
          ],
          "name": "stdout"
        }
      ]
    },
    {
      "cell_type": "markdown",
      "metadata": {
        "id": "Al08J2D0Yeeo"
      },
      "source": [
        "## 4.3 - List Comprehension "
      ]
    },
    {
      "cell_type": "code",
      "metadata": {
        "id": "v7nCSgncjT-U",
        "outputId": "afd5284d-cd0c-4a47-a900-72320c485e15",
        "colab": {
          "base_uri": "https://localhost:8080/",
          "height": 34
        }
      },
      "source": [
        "#for i in range(1,20):\n",
        "#  print(\"Number is\", i)\n",
        "\n",
        "[i for i in range(1,20)]"
      ],
      "execution_count": null,
      "outputs": [
        {
          "output_type": "execute_result",
          "data": {
            "text/plain": [
              "[1, 2, 3, 4, 5, 6, 7, 8, 9, 10, 11, 12, 13, 14, 15, 16, 17, 18, 19]"
            ]
          },
          "metadata": {
            "tags": []
          },
          "execution_count": 45
        }
      ]
    },
    {
      "cell_type": "code",
      "metadata": {
        "id": "Dl-qo1WMjrmX",
        "outputId": "533d61b8-fc33-4b0a-9bcb-2a7e51df95ae",
        "colab": {
          "base_uri": "https://localhost:8080/",
          "height": 34
        }
      },
      "source": [
        "result=[i for i in range(1,20)]\n",
        "print(result)"
      ],
      "execution_count": null,
      "outputs": [
        {
          "output_type": "stream",
          "text": [
            "[1, 2, 3, 4, 5, 6, 7, 8, 9, 10, 11, 12, 13, 14, 15, 16, 17, 18, 19]\n"
          ],
          "name": "stdout"
        }
      ]
    },
    {
      "cell_type": "code",
      "metadata": {
        "id": "EpI8O6Mijw7C",
        "outputId": "698fc40c-6d8e-4df6-8843-509f3f4cec0f",
        "colab": {
          "base_uri": "https://localhost:8080/",
          "height": 34
        }
      },
      "source": [
        "result=[i for i in range(1,20) if i<15]\n",
        "print(result)"
      ],
      "execution_count": null,
      "outputs": [
        {
          "output_type": "stream",
          "text": [
            "[1, 2, 3, 4, 5, 6, 7, 8, 9, 10, 11, 12, 13, 14]\n"
          ],
          "name": "stdout"
        }
      ]
    },
    {
      "cell_type": "code",
      "metadata": {
        "id": "6Aoy3cp0j99c",
        "outputId": "cfa2a5dd-7465-4cda-abf6-8c31b87daa2e",
        "colab": {
          "base_uri": "https://localhost:8080/",
          "height": 34
        }
      },
      "source": [
        "result=[i for i in range(1,20) if i<15 if i%2 == 1 ]\n",
        "print(result)"
      ],
      "execution_count": null,
      "outputs": [
        {
          "output_type": "stream",
          "text": [
            "[1, 3, 5, 7, 9, 11, 13]\n"
          ],
          "name": "stdout"
        }
      ]
    },
    {
      "cell_type": "code",
      "metadata": {
        "id": "7m4_gBf9kOpn"
      },
      "source": [
        ""
      ],
      "execution_count": null,
      "outputs": []
    },
    {
      "cell_type": "code",
      "metadata": {
        "id": "m4GfxDb3kOtz"
      },
      "source": [
        ""
      ],
      "execution_count": null,
      "outputs": []
    },
    {
      "cell_type": "markdown",
      "metadata": {
        "id": "guNNFzd-h1sI"
      },
      "source": [
        "### Reference - video link (section 4)"
      ]
    },
    {
      "cell_type": "code",
      "metadata": {
        "id": "CH8B3GdRh1sJ",
        "outputId": "e8c8214b-5d7f-46ec-e789-eb49a4373bc0",
        "colab": {
          "base_uri": "https://localhost:8080/",
          "height": 321
        }
      },
      "source": [
        "# Quick link for the video covering section 4\n",
        "from IPython.display import YouTubeVideo\n",
        "YouTubeVideo('xzeMSXSEwC4')"
      ],
      "execution_count": null,
      "outputs": [
        {
          "output_type": "execute_result",
          "data": {
            "text/html": [
              "\n",
              "        <iframe\n",
              "            width=\"400\"\n",
              "            height=\"300\"\n",
              "            src=\"https://www.youtube.com/embed/xzeMSXSEwC4\"\n",
              "            frameborder=\"0\"\n",
              "            allowfullscreen\n",
              "        ></iframe>\n",
              "        "
            ],
            "text/plain": [
              "<IPython.lib.display.YouTubeVideo at 0x7f9564e26f28>"
            ],
            "image/jpeg": "[encoded data removed]"
          },
          "metadata": {
            "tags": []
          },
          "execution_count": 55
        }
      ]
    }
  ]
}