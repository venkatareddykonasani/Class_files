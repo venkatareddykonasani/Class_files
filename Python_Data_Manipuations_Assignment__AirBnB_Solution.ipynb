{
  "nbformat": 4,
  "nbformat_minor": 0,
  "metadata": {
    "colab": {
      "name": "Python_Data_Manipuations_Assignment__AirBnB_Solution.ipynb",
      "provenance": [],
      "collapsed_sections": [],
      "toc_visible": true,
      "authorship_tag": "ABX9TyPvkx8Tjh4NCYZPWUj3Vieb",
      "include_colab_link": true
    },
    "kernelspec": {
      "name": "python3",
      "display_name": "Python 3"
    }
  },
  "cells": [
    {
      "cell_type": "markdown",
      "metadata": {
        "id": "view-in-github",
        "colab_type": "text"
      },
      "source": [
        "<a href=\"https://colab.research.google.com/github/venkatareddykonasani/Class_files/blob/master/Python_Data_Manipuations_Assignment__AirBnB_Solution.ipynb\" target=\"_parent\"><img src=\"https://colab.research.google.com/assets/colab-badge.svg\" alt=\"Open In Colab\"/></a>"
      ]
    },
    {
      "cell_type": "markdown",
      "metadata": {
        "id": "DRqYg-WjiSvu"
      },
      "source": [
        "# Python Data Manipulatiosn Assignment \n",
        "Instructor- Venkata Reddy Konasani\n",
        "https://statinfer.com/"
      ]
    },
    {
      "cell_type": "markdown",
      "metadata": {
        "id": "UFVkXRrJOopX"
      },
      "source": [
        "### 1.Import the dataset – Airbab New York data AB_NYC_2019.csv.\n",
        "\n",
        "Dataset location \"https://raw.githubusercontent.com/venkatareddykonasani/python_5days/master/Day2_Files/Datasets/AB_NYC_2019.xlsx\"\n"
      ]
    },
    {
      "cell_type": "code",
      "metadata": {
        "id": "zXJwltFjPfMs"
      },
      "source": [
        "import pandas as pd\n",
        "AB_NYC_data=pd.read_excel(\"https://raw.githubusercontent.com/venkatareddykonasani/python_5days/master/Day2_Files/Datasets/AB_NYC_2019.xlsx\", sheet_name=\"AB_NYC_2019\")"
      ],
      "execution_count": null,
      "outputs": []
    },
    {
      "cell_type": "code",
      "metadata": {
        "id": "15U2zi7_eZQm",
        "outputId": "34a334c1-c34b-45e7-e9a5-0b12b546b66f",
        "colab": {
          "base_uri": "https://localhost:8080/",
          "height": 808
        }
      },
      "source": [
        "AB_NYC_data"
      ],
      "execution_count": null,
      "outputs": [
        {
          "output_type": "execute_result",
          "data": {
            "text/html": [
              "<div>\n",
              "<style scoped>\n",
              "    .dataframe tbody tr th:only-of-type {\n",
              "        vertical-align: middle;\n",
              "    }\n",
              "\n",
              "    .dataframe tbody tr th {\n",
              "        vertical-align: top;\n",
              "    }\n",
              "\n",
              "    .dataframe thead th {\n",
              "        text-align: right;\n",
              "    }\n",
              "</style>\n",
              "<table border=\"1\" class=\"dataframe\">\n",
              "  <thead>\n",
              "    <tr style=\"text-align: right;\">\n",
              "      <th></th>\n",
              "      <th>id</th>\n",
              "      <th>name</th>\n",
              "      <th>host_id</th>\n",
              "      <th>host_name</th>\n",
              "      <th>neighbourhood_group</th>\n",
              "      <th>neighbourhood</th>\n",
              "      <th>latitude</th>\n",
              "      <th>longitude</th>\n",
              "      <th>room_type</th>\n",
              "      <th>price</th>\n",
              "      <th>minimum_nights</th>\n",
              "      <th>number_of_reviews</th>\n",
              "      <th>last_review</th>\n",
              "      <th>reviews_per_month</th>\n",
              "      <th>calculated_host_listings_count</th>\n",
              "      <th>availability_365</th>\n",
              "    </tr>\n",
              "  </thead>\n",
              "  <tbody>\n",
              "    <tr>\n",
              "      <th>0</th>\n",
              "      <td>2539</td>\n",
              "      <td>Clean &amp; quiet apt home by the park</td>\n",
              "      <td>2787</td>\n",
              "      <td>John</td>\n",
              "      <td>Brooklyn</td>\n",
              "      <td>Kensington</td>\n",
              "      <td>40.64749</td>\n",
              "      <td>-73.97237</td>\n",
              "      <td>Private room</td>\n",
              "      <td>149</td>\n",
              "      <td>1</td>\n",
              "      <td>9</td>\n",
              "      <td>2018-10-19</td>\n",
              "      <td>0.21</td>\n",
              "      <td>6</td>\n",
              "      <td>365</td>\n",
              "    </tr>\n",
              "    <tr>\n",
              "      <th>1</th>\n",
              "      <td>2595</td>\n",
              "      <td>Skylit Midtown Castle</td>\n",
              "      <td>2845</td>\n",
              "      <td>Jennifer</td>\n",
              "      <td>Manhattan</td>\n",
              "      <td>Midtown</td>\n",
              "      <td>40.75362</td>\n",
              "      <td>-73.98377</td>\n",
              "      <td>Entire home/apt</td>\n",
              "      <td>225</td>\n",
              "      <td>1</td>\n",
              "      <td>45</td>\n",
              "      <td>2019-05-21</td>\n",
              "      <td>0.38</td>\n",
              "      <td>2</td>\n",
              "      <td>355</td>\n",
              "    </tr>\n",
              "    <tr>\n",
              "      <th>2</th>\n",
              "      <td>3647</td>\n",
              "      <td>THE VILLAGE OF HARLEM....NEW YORK !</td>\n",
              "      <td>4632</td>\n",
              "      <td>Elisabeth</td>\n",
              "      <td>Manhattan</td>\n",
              "      <td>Harlem</td>\n",
              "      <td>40.80902</td>\n",
              "      <td>-73.94190</td>\n",
              "      <td>Private room</td>\n",
              "      <td>150</td>\n",
              "      <td>3</td>\n",
              "      <td>0</td>\n",
              "      <td>NaT</td>\n",
              "      <td>NaN</td>\n",
              "      <td>1</td>\n",
              "      <td>365</td>\n",
              "    </tr>\n",
              "    <tr>\n",
              "      <th>3</th>\n",
              "      <td>3831</td>\n",
              "      <td>Cozy Entire Floor of Brownstone</td>\n",
              "      <td>4869</td>\n",
              "      <td>LisaRoxanne</td>\n",
              "      <td>Brooklyn</td>\n",
              "      <td>Clinton Hill</td>\n",
              "      <td>40.68514</td>\n",
              "      <td>-73.95976</td>\n",
              "      <td>Entire home/apt</td>\n",
              "      <td>89</td>\n",
              "      <td>1</td>\n",
              "      <td>270</td>\n",
              "      <td>2019-07-05</td>\n",
              "      <td>4.64</td>\n",
              "      <td>1</td>\n",
              "      <td>194</td>\n",
              "    </tr>\n",
              "    <tr>\n",
              "      <th>4</th>\n",
              "      <td>5022</td>\n",
              "      <td>Entire Apt: Spacious Studio/Loft by central park</td>\n",
              "      <td>7192</td>\n",
              "      <td>Laura</td>\n",
              "      <td>Manhattan</td>\n",
              "      <td>East Harlem</td>\n",
              "      <td>40.79851</td>\n",
              "      <td>-73.94399</td>\n",
              "      <td>Entire home/apt</td>\n",
              "      <td>80</td>\n",
              "      <td>10</td>\n",
              "      <td>9</td>\n",
              "      <td>2018-11-19</td>\n",
              "      <td>0.10</td>\n",
              "      <td>1</td>\n",
              "      <td>0</td>\n",
              "    </tr>\n",
              "    <tr>\n",
              "      <th>...</th>\n",
              "      <td>...</td>\n",
              "      <td>...</td>\n",
              "      <td>...</td>\n",
              "      <td>...</td>\n",
              "      <td>...</td>\n",
              "      <td>...</td>\n",
              "      <td>...</td>\n",
              "      <td>...</td>\n",
              "      <td>...</td>\n",
              "      <td>...</td>\n",
              "      <td>...</td>\n",
              "      <td>...</td>\n",
              "      <td>...</td>\n",
              "      <td>...</td>\n",
              "      <td>...</td>\n",
              "      <td>...</td>\n",
              "    </tr>\n",
              "    <tr>\n",
              "      <th>48890</th>\n",
              "      <td>36484665</td>\n",
              "      <td>Charming one bedroom - newly renovated rowhouse</td>\n",
              "      <td>8232441</td>\n",
              "      <td>Sabrina</td>\n",
              "      <td>Brooklyn</td>\n",
              "      <td>Bedford-Stuyvesant</td>\n",
              "      <td>40.67853</td>\n",
              "      <td>-73.94995</td>\n",
              "      <td>Private room</td>\n",
              "      <td>70</td>\n",
              "      <td>2</td>\n",
              "      <td>0</td>\n",
              "      <td>NaT</td>\n",
              "      <td>NaN</td>\n",
              "      <td>2</td>\n",
              "      <td>9</td>\n",
              "    </tr>\n",
              "    <tr>\n",
              "      <th>48891</th>\n",
              "      <td>36485057</td>\n",
              "      <td>Affordable room in Bushwick/East Williamsburg</td>\n",
              "      <td>6570630</td>\n",
              "      <td>Marisol</td>\n",
              "      <td>Brooklyn</td>\n",
              "      <td>Bushwick</td>\n",
              "      <td>40.70184</td>\n",
              "      <td>-73.93317</td>\n",
              "      <td>Private room</td>\n",
              "      <td>40</td>\n",
              "      <td>4</td>\n",
              "      <td>0</td>\n",
              "      <td>NaT</td>\n",
              "      <td>NaN</td>\n",
              "      <td>2</td>\n",
              "      <td>36</td>\n",
              "    </tr>\n",
              "    <tr>\n",
              "      <th>48892</th>\n",
              "      <td>36485431</td>\n",
              "      <td>Sunny Studio at Historical Neighborhood</td>\n",
              "      <td>23492952</td>\n",
              "      <td>Ilgar &amp; Aysel</td>\n",
              "      <td>Manhattan</td>\n",
              "      <td>Harlem</td>\n",
              "      <td>40.81475</td>\n",
              "      <td>-73.94867</td>\n",
              "      <td>Entire home/apt</td>\n",
              "      <td>115</td>\n",
              "      <td>10</td>\n",
              "      <td>0</td>\n",
              "      <td>NaT</td>\n",
              "      <td>NaN</td>\n",
              "      <td>1</td>\n",
              "      <td>27</td>\n",
              "    </tr>\n",
              "    <tr>\n",
              "      <th>48893</th>\n",
              "      <td>36485609</td>\n",
              "      <td>43rd St. Time Square-cozy single bed</td>\n",
              "      <td>30985759</td>\n",
              "      <td>Taz</td>\n",
              "      <td>Manhattan</td>\n",
              "      <td>Hell's Kitchen</td>\n",
              "      <td>40.75751</td>\n",
              "      <td>-73.99112</td>\n",
              "      <td>Shared room</td>\n",
              "      <td>55</td>\n",
              "      <td>1</td>\n",
              "      <td>0</td>\n",
              "      <td>NaT</td>\n",
              "      <td>NaN</td>\n",
              "      <td>6</td>\n",
              "      <td>2</td>\n",
              "    </tr>\n",
              "    <tr>\n",
              "      <th>48894</th>\n",
              "      <td>36487245</td>\n",
              "      <td>Trendy duplex in the very heart of Hell's Kitchen</td>\n",
              "      <td>68119814</td>\n",
              "      <td>Christophe</td>\n",
              "      <td>Manhattan</td>\n",
              "      <td>Hell's Kitchen</td>\n",
              "      <td>40.76404</td>\n",
              "      <td>-73.98933</td>\n",
              "      <td>Private room</td>\n",
              "      <td>90</td>\n",
              "      <td>7</td>\n",
              "      <td>0</td>\n",
              "      <td>NaT</td>\n",
              "      <td>NaN</td>\n",
              "      <td>1</td>\n",
              "      <td>23</td>\n",
              "    </tr>\n",
              "  </tbody>\n",
              "</table>\n",
              "<p>48895 rows × 16 columns</p>\n",
              "</div>"
            ],
            "text/plain": [
              "             id  ... availability_365\n",
              "0          2539  ...              365\n",
              "1          2595  ...              355\n",
              "2          3647  ...              365\n",
              "3          3831  ...              194\n",
              "4          5022  ...                0\n",
              "...         ...  ...              ...\n",
              "48890  36484665  ...                9\n",
              "48891  36485057  ...               36\n",
              "48892  36485431  ...               27\n",
              "48893  36485609  ...                2\n",
              "48894  36487245  ...               23\n",
              "\n",
              "[48895 rows x 16 columns]"
            ]
          },
          "metadata": {
            "tags": []
          },
          "execution_count": 2
        }
      ]
    },
    {
      "cell_type": "code",
      "metadata": {
        "id": "XFagf7q7PfUs"
      },
      "source": [
        "#important Notes\n",
        "#We need to metion the sheet name\n",
        "#Give discriptive names"
      ],
      "execution_count": null,
      "outputs": []
    },
    {
      "cell_type": "markdown",
      "metadata": {
        "id": "XGZtNdrePaq-"
      },
      "source": [
        "## 2.How many rows and columns are there in the dataset?"
      ]
    },
    {
      "cell_type": "code",
      "metadata": {
        "id": "IEoSqNI-O4Xp",
        "outputId": "eef3118c-5767-4427-8b04-6623dbe38419",
        "colab": {
          "base_uri": "https://localhost:8080/",
          "height": 34
        }
      },
      "source": [
        "#How many rows and columns are there in the dataset?\n",
        "AB_NYC_data.shape"
      ],
      "execution_count": null,
      "outputs": [
        {
          "output_type": "execute_result",
          "data": {
            "text/plain": [
              "(48895, 16)"
            ]
          },
          "metadata": {
            "tags": []
          },
          "execution_count": 4
        }
      ]
    },
    {
      "cell_type": "markdown",
      "metadata": {
        "id": "fbKDBRa0PkJT"
      },
      "source": [
        "## 3.Print the column names"
      ]
    },
    {
      "cell_type": "code",
      "metadata": {
        "id": "NGNNDjSVeCz4",
        "outputId": "bc09d42b-d751-4564-9fce-61880adb9b9f",
        "colab": {
          "base_uri": "https://localhost:8080/",
          "height": 121
        }
      },
      "source": [
        "AB_NYC_data.columns"
      ],
      "execution_count": null,
      "outputs": [
        {
          "output_type": "execute_result",
          "data": {
            "text/plain": [
              "Index(['id', 'name', 'host_id', 'host_name', 'neighbourhood_group',\n",
              "       'neighbourhood', 'latitude', 'longitude', 'room_type', 'price',\n",
              "       'minimum_nights', 'number_of_reviews', 'last_review',\n",
              "       'reviews_per_month', 'calculated_host_listings_count',\n",
              "       'availability_365'],\n",
              "      dtype='object')"
            ]
          },
          "metadata": {
            "tags": []
          },
          "execution_count": 5
        }
      ]
    },
    {
      "cell_type": "code",
      "metadata": {
        "id": "Y5rjp_HEeEiw",
        "outputId": "5679f091-a0ac-44c8-815c-f57082c9d789",
        "colab": {
          "base_uri": "https://localhost:8080/",
          "height": 415
        }
      },
      "source": [
        "AB_NYC_data.info()"
      ],
      "execution_count": null,
      "outputs": [
        {
          "output_type": "stream",
          "text": [
            "<class 'pandas.core.frame.DataFrame'>\n",
            "RangeIndex: 48895 entries, 0 to 48894\n",
            "Data columns (total 16 columns):\n",
            " #   Column                          Non-Null Count  Dtype         \n",
            "---  ------                          --------------  -----         \n",
            " 0   id                              48895 non-null  int64         \n",
            " 1   name                            48869 non-null  object        \n",
            " 2   host_id                         48895 non-null  int64         \n",
            " 3   host_name                       48873 non-null  object        \n",
            " 4   neighbourhood_group             48895 non-null  object        \n",
            " 5   neighbourhood                   48895 non-null  object        \n",
            " 6   latitude                        48895 non-null  float64       \n",
            " 7   longitude                       48895 non-null  float64       \n",
            " 8   room_type                       48895 non-null  object        \n",
            " 9   price                           48895 non-null  int64         \n",
            " 10  minimum_nights                  48895 non-null  int64         \n",
            " 11  number_of_reviews               48895 non-null  int64         \n",
            " 12  last_review                     38843 non-null  datetime64[ns]\n",
            " 13  reviews_per_month               38843 non-null  float64       \n",
            " 14  calculated_host_listings_count  48895 non-null  int64         \n",
            " 15  availability_365                48895 non-null  int64         \n",
            "dtypes: datetime64[ns](1), float64(3), int64(7), object(5)\n",
            "memory usage: 6.0+ MB\n"
          ],
          "name": "stdout"
        }
      ]
    },
    {
      "cell_type": "markdown",
      "metadata": {
        "id": "m8XtzhIGPoSk"
      },
      "source": [
        "## 4.Print some sample rows from the data"
      ]
    },
    {
      "cell_type": "code",
      "metadata": {
        "id": "fzJUOU4mPtZv",
        "outputId": "7590d54f-6851-4915-af51-07e1eb5f3507",
        "colab": {
          "base_uri": "https://localhost:8080/",
          "height": 939
        }
      },
      "source": [
        "AB_NYC_data.sample(10)"
      ],
      "execution_count": null,
      "outputs": [
        {
          "output_type": "execute_result",
          "data": {
            "text/html": [
              "<div>\n",
              "<style scoped>\n",
              "    .dataframe tbody tr th:only-of-type {\n",
              "        vertical-align: middle;\n",
              "    }\n",
              "\n",
              "    .dataframe tbody tr th {\n",
              "        vertical-align: top;\n",
              "    }\n",
              "\n",
              "    .dataframe thead th {\n",
              "        text-align: right;\n",
              "    }\n",
              "</style>\n",
              "<table border=\"1\" class=\"dataframe\">\n",
              "  <thead>\n",
              "    <tr style=\"text-align: right;\">\n",
              "      <th></th>\n",
              "      <th>id</th>\n",
              "      <th>name</th>\n",
              "      <th>host_id</th>\n",
              "      <th>host_name</th>\n",
              "      <th>neighbourhood_group</th>\n",
              "      <th>neighbourhood</th>\n",
              "      <th>latitude</th>\n",
              "      <th>longitude</th>\n",
              "      <th>room_type</th>\n",
              "      <th>price</th>\n",
              "      <th>minimum_nights</th>\n",
              "      <th>number_of_reviews</th>\n",
              "      <th>last_review</th>\n",
              "      <th>reviews_per_month</th>\n",
              "      <th>calculated_host_listings_count</th>\n",
              "      <th>availability_365</th>\n",
              "    </tr>\n",
              "  </thead>\n",
              "  <tbody>\n",
              "    <tr>\n",
              "      <th>38270</th>\n",
              "      <td>30161866</td>\n",
              "      <td>Time Square - Comfy Standard Queen</td>\n",
              "      <td>224414117</td>\n",
              "      <td>Gabriel</td>\n",
              "      <td>Manhattan</td>\n",
              "      <td>Hell's Kitchen</td>\n",
              "      <td>40.75652</td>\n",
              "      <td>-73.99826</td>\n",
              "      <td>Private room</td>\n",
              "      <td>179</td>\n",
              "      <td>1</td>\n",
              "      <td>24</td>\n",
              "      <td>2019-06-09</td>\n",
              "      <td>3.23</td>\n",
              "      <td>30</td>\n",
              "      <td>165</td>\n",
              "    </tr>\n",
              "    <tr>\n",
              "      <th>3532</th>\n",
              "      <td>2107939</td>\n",
              "      <td>Private Single Room Steps to Subway</td>\n",
              "      <td>1318137</td>\n",
              "      <td>Adriano</td>\n",
              "      <td>Brooklyn</td>\n",
              "      <td>Bedford-Stuyvesant</td>\n",
              "      <td>40.69193</td>\n",
              "      <td>-73.92740</td>\n",
              "      <td>Private room</td>\n",
              "      <td>55</td>\n",
              "      <td>3</td>\n",
              "      <td>70</td>\n",
              "      <td>2019-05-27</td>\n",
              "      <td>1.11</td>\n",
              "      <td>2</td>\n",
              "      <td>285</td>\n",
              "    </tr>\n",
              "    <tr>\n",
              "      <th>13791</th>\n",
              "      <td>10390252</td>\n",
              "      <td>NEW listing! Large Prospect Park 1 Bed</td>\n",
              "      <td>2581816</td>\n",
              "      <td>Lindsay</td>\n",
              "      <td>Brooklyn</td>\n",
              "      <td>Flatbush</td>\n",
              "      <td>40.65003</td>\n",
              "      <td>-73.96000</td>\n",
              "      <td>Entire home/apt</td>\n",
              "      <td>80</td>\n",
              "      <td>7</td>\n",
              "      <td>0</td>\n",
              "      <td>NaT</td>\n",
              "      <td>NaN</td>\n",
              "      <td>1</td>\n",
              "      <td>0</td>\n",
              "    </tr>\n",
              "    <tr>\n",
              "      <th>23766</th>\n",
              "      <td>19193758</td>\n",
              "      <td>Large bedroom 20 minutes away from Manhattan</td>\n",
              "      <td>89861903</td>\n",
              "      <td>Colin</td>\n",
              "      <td>Queens</td>\n",
              "      <td>Astoria</td>\n",
              "      <td>40.76731</td>\n",
              "      <td>-73.92634</td>\n",
              "      <td>Private room</td>\n",
              "      <td>55</td>\n",
              "      <td>2</td>\n",
              "      <td>5</td>\n",
              "      <td>2017-07-30</td>\n",
              "      <td>0.21</td>\n",
              "      <td>1</td>\n",
              "      <td>0</td>\n",
              "    </tr>\n",
              "    <tr>\n",
              "      <th>45810</th>\n",
              "      <td>34964342</td>\n",
              "      <td>Clean, Modern, Rustic LIC APT</td>\n",
              "      <td>8616787</td>\n",
              "      <td>Iris</td>\n",
              "      <td>Queens</td>\n",
              "      <td>Long Island City</td>\n",
              "      <td>40.75181</td>\n",
              "      <td>-73.93702</td>\n",
              "      <td>Entire home/apt</td>\n",
              "      <td>200</td>\n",
              "      <td>2</td>\n",
              "      <td>1</td>\n",
              "      <td>2019-06-18</td>\n",
              "      <td>1.00</td>\n",
              "      <td>1</td>\n",
              "      <td>9</td>\n",
              "    </tr>\n",
              "    <tr>\n",
              "      <th>22011</th>\n",
              "      <td>17707963</td>\n",
              "      <td>5mins from JFK, one cozy bedroom for one</td>\n",
              "      <td>119592255</td>\n",
              "      <td>Kevin</td>\n",
              "      <td>Queens</td>\n",
              "      <td>Jamaica</td>\n",
              "      <td>40.68090</td>\n",
              "      <td>-73.78196</td>\n",
              "      <td>Private room</td>\n",
              "      <td>50</td>\n",
              "      <td>1</td>\n",
              "      <td>173</td>\n",
              "      <td>2019-07-07</td>\n",
              "      <td>6.15</td>\n",
              "      <td>2</td>\n",
              "      <td>365</td>\n",
              "    </tr>\n",
              "    <tr>\n",
              "      <th>27633</th>\n",
              "      <td>21725963</td>\n",
              "      <td>Sexy Williamsburg Loft Getaway of a Lifetime</td>\n",
              "      <td>158198197</td>\n",
              "      <td>Nicolas</td>\n",
              "      <td>Brooklyn</td>\n",
              "      <td>Williamsburg</td>\n",
              "      <td>40.71273</td>\n",
              "      <td>-73.95026</td>\n",
              "      <td>Private room</td>\n",
              "      <td>130</td>\n",
              "      <td>1</td>\n",
              "      <td>8</td>\n",
              "      <td>2018-07-22</td>\n",
              "      <td>0.52</td>\n",
              "      <td>1</td>\n",
              "      <td>0</td>\n",
              "    </tr>\n",
              "    <tr>\n",
              "      <th>15313</th>\n",
              "      <td>12268056</td>\n",
              "      <td>BRIGHT, MODERN, PRIVATE BEDROOM BK</td>\n",
              "      <td>7119612</td>\n",
              "      <td>Becky</td>\n",
              "      <td>Brooklyn</td>\n",
              "      <td>Bushwick</td>\n",
              "      <td>40.69897</td>\n",
              "      <td>-73.92705</td>\n",
              "      <td>Private room</td>\n",
              "      <td>62</td>\n",
              "      <td>1</td>\n",
              "      <td>1</td>\n",
              "      <td>2016-04-20</td>\n",
              "      <td>0.03</td>\n",
              "      <td>1</td>\n",
              "      <td>0</td>\n",
              "    </tr>\n",
              "    <tr>\n",
              "      <th>14821</th>\n",
              "      <td>11738951</td>\n",
              "      <td>Financial District Luxury building</td>\n",
              "      <td>61303786</td>\n",
              "      <td>å­™æµ©</td>\n",
              "      <td>Manhattan</td>\n",
              "      <td>Financial District</td>\n",
              "      <td>40.70666</td>\n",
              "      <td>-74.00597</td>\n",
              "      <td>Private room</td>\n",
              "      <td>60</td>\n",
              "      <td>15</td>\n",
              "      <td>1</td>\n",
              "      <td>2016-05-02</td>\n",
              "      <td>0.03</td>\n",
              "      <td>1</td>\n",
              "      <td>0</td>\n",
              "    </tr>\n",
              "    <tr>\n",
              "      <th>4360</th>\n",
              "      <td>2933772</td>\n",
              "      <td>Large, Bright Apt Near Central Park</td>\n",
              "      <td>11774630</td>\n",
              "      <td>Jane</td>\n",
              "      <td>Manhattan</td>\n",
              "      <td>East Harlem</td>\n",
              "      <td>40.78880</td>\n",
              "      <td>-73.94844</td>\n",
              "      <td>Entire home/apt</td>\n",
              "      <td>240</td>\n",
              "      <td>4</td>\n",
              "      <td>229</td>\n",
              "      <td>2019-07-01</td>\n",
              "      <td>3.67</td>\n",
              "      <td>2</td>\n",
              "      <td>52</td>\n",
              "    </tr>\n",
              "  </tbody>\n",
              "</table>\n",
              "</div>"
            ],
            "text/plain": [
              "             id  ... availability_365\n",
              "38270  30161866  ...              165\n",
              "3532    2107939  ...              285\n",
              "13791  10390252  ...                0\n",
              "23766  19193758  ...                0\n",
              "45810  34964342  ...                9\n",
              "22011  17707963  ...              365\n",
              "27633  21725963  ...                0\n",
              "15313  12268056  ...                0\n",
              "14821  11738951  ...                0\n",
              "4360    2933772  ...               52\n",
              "\n",
              "[10 rows x 16 columns]"
            ]
          },
          "metadata": {
            "tags": []
          },
          "execution_count": 7
        }
      ]
    },
    {
      "cell_type": "code",
      "metadata": {
        "id": "xb9l1aEQeOqO",
        "outputId": "a94e3d0f-6035-4b9e-c138-115dc827bb9f",
        "colab": {
          "base_uri": "https://localhost:8080/",
          "height": 714
        }
      },
      "source": [
        "AB_NYC_data.head(10)"
      ],
      "execution_count": null,
      "outputs": [
        {
          "output_type": "execute_result",
          "data": {
            "text/html": [
              "<div>\n",
              "<style scoped>\n",
              "    .dataframe tbody tr th:only-of-type {\n",
              "        vertical-align: middle;\n",
              "    }\n",
              "\n",
              "    .dataframe tbody tr th {\n",
              "        vertical-align: top;\n",
              "    }\n",
              "\n",
              "    .dataframe thead th {\n",
              "        text-align: right;\n",
              "    }\n",
              "</style>\n",
              "<table border=\"1\" class=\"dataframe\">\n",
              "  <thead>\n",
              "    <tr style=\"text-align: right;\">\n",
              "      <th></th>\n",
              "      <th>id</th>\n",
              "      <th>name</th>\n",
              "      <th>host_id</th>\n",
              "      <th>host_name</th>\n",
              "      <th>neighbourhood_group</th>\n",
              "      <th>neighbourhood</th>\n",
              "      <th>latitude</th>\n",
              "      <th>longitude</th>\n",
              "      <th>room_type</th>\n",
              "      <th>price</th>\n",
              "      <th>minimum_nights</th>\n",
              "      <th>number_of_reviews</th>\n",
              "      <th>last_review</th>\n",
              "      <th>reviews_per_month</th>\n",
              "      <th>calculated_host_listings_count</th>\n",
              "      <th>availability_365</th>\n",
              "    </tr>\n",
              "  </thead>\n",
              "  <tbody>\n",
              "    <tr>\n",
              "      <th>0</th>\n",
              "      <td>2539</td>\n",
              "      <td>Clean &amp; quiet apt home by the park</td>\n",
              "      <td>2787</td>\n",
              "      <td>John</td>\n",
              "      <td>Brooklyn</td>\n",
              "      <td>Kensington</td>\n",
              "      <td>40.64749</td>\n",
              "      <td>-73.97237</td>\n",
              "      <td>Private room</td>\n",
              "      <td>149</td>\n",
              "      <td>1</td>\n",
              "      <td>9</td>\n",
              "      <td>2018-10-19</td>\n",
              "      <td>0.21</td>\n",
              "      <td>6</td>\n",
              "      <td>365</td>\n",
              "    </tr>\n",
              "    <tr>\n",
              "      <th>1</th>\n",
              "      <td>2595</td>\n",
              "      <td>Skylit Midtown Castle</td>\n",
              "      <td>2845</td>\n",
              "      <td>Jennifer</td>\n",
              "      <td>Manhattan</td>\n",
              "      <td>Midtown</td>\n",
              "      <td>40.75362</td>\n",
              "      <td>-73.98377</td>\n",
              "      <td>Entire home/apt</td>\n",
              "      <td>225</td>\n",
              "      <td>1</td>\n",
              "      <td>45</td>\n",
              "      <td>2019-05-21</td>\n",
              "      <td>0.38</td>\n",
              "      <td>2</td>\n",
              "      <td>355</td>\n",
              "    </tr>\n",
              "    <tr>\n",
              "      <th>2</th>\n",
              "      <td>3647</td>\n",
              "      <td>THE VILLAGE OF HARLEM....NEW YORK !</td>\n",
              "      <td>4632</td>\n",
              "      <td>Elisabeth</td>\n",
              "      <td>Manhattan</td>\n",
              "      <td>Harlem</td>\n",
              "      <td>40.80902</td>\n",
              "      <td>-73.94190</td>\n",
              "      <td>Private room</td>\n",
              "      <td>150</td>\n",
              "      <td>3</td>\n",
              "      <td>0</td>\n",
              "      <td>NaT</td>\n",
              "      <td>NaN</td>\n",
              "      <td>1</td>\n",
              "      <td>365</td>\n",
              "    </tr>\n",
              "    <tr>\n",
              "      <th>3</th>\n",
              "      <td>3831</td>\n",
              "      <td>Cozy Entire Floor of Brownstone</td>\n",
              "      <td>4869</td>\n",
              "      <td>LisaRoxanne</td>\n",
              "      <td>Brooklyn</td>\n",
              "      <td>Clinton Hill</td>\n",
              "      <td>40.68514</td>\n",
              "      <td>-73.95976</td>\n",
              "      <td>Entire home/apt</td>\n",
              "      <td>89</td>\n",
              "      <td>1</td>\n",
              "      <td>270</td>\n",
              "      <td>2019-07-05</td>\n",
              "      <td>4.64</td>\n",
              "      <td>1</td>\n",
              "      <td>194</td>\n",
              "    </tr>\n",
              "    <tr>\n",
              "      <th>4</th>\n",
              "      <td>5022</td>\n",
              "      <td>Entire Apt: Spacious Studio/Loft by central park</td>\n",
              "      <td>7192</td>\n",
              "      <td>Laura</td>\n",
              "      <td>Manhattan</td>\n",
              "      <td>East Harlem</td>\n",
              "      <td>40.79851</td>\n",
              "      <td>-73.94399</td>\n",
              "      <td>Entire home/apt</td>\n",
              "      <td>80</td>\n",
              "      <td>10</td>\n",
              "      <td>9</td>\n",
              "      <td>2018-11-19</td>\n",
              "      <td>0.10</td>\n",
              "      <td>1</td>\n",
              "      <td>0</td>\n",
              "    </tr>\n",
              "    <tr>\n",
              "      <th>5</th>\n",
              "      <td>5099</td>\n",
              "      <td>Large Cozy 1 BR Apartment In Midtown East</td>\n",
              "      <td>7322</td>\n",
              "      <td>Chris</td>\n",
              "      <td>Manhattan</td>\n",
              "      <td>Murray Hill</td>\n",
              "      <td>40.74767</td>\n",
              "      <td>-73.97500</td>\n",
              "      <td>Entire home/apt</td>\n",
              "      <td>200</td>\n",
              "      <td>3</td>\n",
              "      <td>74</td>\n",
              "      <td>2019-06-22</td>\n",
              "      <td>0.59</td>\n",
              "      <td>1</td>\n",
              "      <td>129</td>\n",
              "    </tr>\n",
              "    <tr>\n",
              "      <th>6</th>\n",
              "      <td>5121</td>\n",
              "      <td>BlissArtsSpace!</td>\n",
              "      <td>7356</td>\n",
              "      <td>Garon</td>\n",
              "      <td>Brooklyn</td>\n",
              "      <td>Bedford-Stuyvesant</td>\n",
              "      <td>40.68688</td>\n",
              "      <td>-73.95596</td>\n",
              "      <td>Private room</td>\n",
              "      <td>60</td>\n",
              "      <td>45</td>\n",
              "      <td>49</td>\n",
              "      <td>2017-10-05</td>\n",
              "      <td>0.40</td>\n",
              "      <td>1</td>\n",
              "      <td>0</td>\n",
              "    </tr>\n",
              "    <tr>\n",
              "      <th>7</th>\n",
              "      <td>5178</td>\n",
              "      <td>Large Furnished Room Near B'way</td>\n",
              "      <td>8967</td>\n",
              "      <td>Shunichi</td>\n",
              "      <td>Manhattan</td>\n",
              "      <td>Hell's Kitchen</td>\n",
              "      <td>40.76489</td>\n",
              "      <td>-73.98493</td>\n",
              "      <td>Private room</td>\n",
              "      <td>79</td>\n",
              "      <td>2</td>\n",
              "      <td>430</td>\n",
              "      <td>2019-06-24</td>\n",
              "      <td>3.47</td>\n",
              "      <td>1</td>\n",
              "      <td>220</td>\n",
              "    </tr>\n",
              "    <tr>\n",
              "      <th>8</th>\n",
              "      <td>5203</td>\n",
              "      <td>Cozy Clean Guest Room - Family Apt</td>\n",
              "      <td>7490</td>\n",
              "      <td>MaryEllen</td>\n",
              "      <td>Manhattan</td>\n",
              "      <td>Upper West Side</td>\n",
              "      <td>40.80178</td>\n",
              "      <td>-73.96723</td>\n",
              "      <td>Private room</td>\n",
              "      <td>79</td>\n",
              "      <td>2</td>\n",
              "      <td>118</td>\n",
              "      <td>2017-07-21</td>\n",
              "      <td>0.99</td>\n",
              "      <td>1</td>\n",
              "      <td>0</td>\n",
              "    </tr>\n",
              "    <tr>\n",
              "      <th>9</th>\n",
              "      <td>5238</td>\n",
              "      <td>Cute &amp; Cozy Lower East Side 1 bdrm</td>\n",
              "      <td>7549</td>\n",
              "      <td>Ben</td>\n",
              "      <td>Manhattan</td>\n",
              "      <td>Chinatown</td>\n",
              "      <td>40.71344</td>\n",
              "      <td>-73.99037</td>\n",
              "      <td>Entire home/apt</td>\n",
              "      <td>150</td>\n",
              "      <td>1</td>\n",
              "      <td>160</td>\n",
              "      <td>2019-06-09</td>\n",
              "      <td>1.33</td>\n",
              "      <td>4</td>\n",
              "      <td>188</td>\n",
              "    </tr>\n",
              "  </tbody>\n",
              "</table>\n",
              "</div>"
            ],
            "text/plain": [
              "     id  ... availability_365\n",
              "0  2539  ...              365\n",
              "1  2595  ...              355\n",
              "2  3647  ...              365\n",
              "3  3831  ...              194\n",
              "4  5022  ...                0\n",
              "5  5099  ...              129\n",
              "6  5121  ...                0\n",
              "7  5178  ...              220\n",
              "8  5203  ...                0\n",
              "9  5238  ...              188\n",
              "\n",
              "[10 rows x 16 columns]"
            ]
          },
          "metadata": {
            "tags": []
          },
          "execution_count": 8
        }
      ]
    },
    {
      "cell_type": "code",
      "metadata": {
        "id": "knhVTXUlfMN9",
        "outputId": "7b74704e-0d73-4932-efd1-b7b646d7d005",
        "colab": {
          "base_uri": "https://localhost:8080/",
          "height": 484
        }
      },
      "source": [
        "pd.set_option(\"display.max_columns\", None)\n",
        "print(AB_NYC_data.head())"
      ],
      "execution_count": null,
      "outputs": [
        {
          "output_type": "stream",
          "text": [
            "     id                                              name  host_id  \\\n",
            "0  2539                Clean & quiet apt home by the park     2787   \n",
            "1  2595                             Skylit Midtown Castle     2845   \n",
            "2  3647               THE VILLAGE OF HARLEM....NEW YORK !     4632   \n",
            "3  3831                   Cozy Entire Floor of Brownstone     4869   \n",
            "4  5022  Entire Apt: Spacious Studio/Loft by central park     7192   \n",
            "\n",
            "     host_name neighbourhood_group neighbourhood  latitude  longitude  \\\n",
            "0         John            Brooklyn    Kensington  40.64749  -73.97237   \n",
            "1     Jennifer           Manhattan       Midtown  40.75362  -73.98377   \n",
            "2    Elisabeth           Manhattan        Harlem  40.80902  -73.94190   \n",
            "3  LisaRoxanne            Brooklyn  Clinton Hill  40.68514  -73.95976   \n",
            "4        Laura           Manhattan   East Harlem  40.79851  -73.94399   \n",
            "\n",
            "         room_type  price  minimum_nights  number_of_reviews last_review  \\\n",
            "0     Private room    149               1                  9  2018-10-19   \n",
            "1  Entire home/apt    225               1                 45  2019-05-21   \n",
            "2     Private room    150               3                  0         NaT   \n",
            "3  Entire home/apt     89               1                270  2019-07-05   \n",
            "4  Entire home/apt     80              10                  9  2018-11-19   \n",
            "\n",
            "   reviews_per_month  calculated_host_listings_count  availability_365  \n",
            "0               0.21                               6               365  \n",
            "1               0.38                               2               355  \n",
            "2                NaN                               1               365  \n",
            "3               4.64                               1               194  \n",
            "4               0.10                               1                 0  \n"
          ],
          "name": "stdout"
        }
      ]
    },
    {
      "cell_type": "markdown",
      "metadata": {
        "id": "1PYVQemdPydL"
      },
      "source": [
        "## 5.What are the column data types?"
      ]
    },
    {
      "cell_type": "code",
      "metadata": {
        "id": "EzUhwpbUP0-j",
        "outputId": "b0795a37-a514-412a-ac05-63d7512ceb4c",
        "colab": {
          "base_uri": "https://localhost:8080/",
          "height": 311
        }
      },
      "source": [
        "AB_NYC_data.dtypes"
      ],
      "execution_count": null,
      "outputs": [
        {
          "output_type": "execute_result",
          "data": {
            "text/plain": [
              "id                                         int64\n",
              "name                                      object\n",
              "host_id                                    int64\n",
              "host_name                                 object\n",
              "neighbourhood_group                       object\n",
              "neighbourhood                             object\n",
              "latitude                                 float64\n",
              "longitude                                float64\n",
              "room_type                                 object\n",
              "price                                      int64\n",
              "minimum_nights                             int64\n",
              "number_of_reviews                          int64\n",
              "last_review                       datetime64[ns]\n",
              "reviews_per_month                        float64\n",
              "calculated_host_listings_count             int64\n",
              "availability_365                           int64\n",
              "dtype: object"
            ]
          },
          "metadata": {
            "tags": []
          },
          "execution_count": 10
        }
      ]
    },
    {
      "cell_type": "code",
      "metadata": {
        "id": "W0VIapHifXKP",
        "outputId": "adfe4644-f2f2-4393-d3ef-3d0e6bfdbc1c",
        "colab": {
          "base_uri": "https://localhost:8080/",
          "height": 294
        }
      },
      "source": [
        "[[col, AB_NYC_data[col].dtypes]  for col in AB_NYC_data.columns]"
      ],
      "execution_count": null,
      "outputs": [
        {
          "output_type": "execute_result",
          "data": {
            "text/plain": [
              "[['id', dtype('int64')],\n",
              " ['name', dtype('O')],\n",
              " ['host_id', dtype('int64')],\n",
              " ['host_name', dtype('O')],\n",
              " ['neighbourhood_group', dtype('O')],\n",
              " ['neighbourhood', dtype('O')],\n",
              " ['latitude', dtype('float64')],\n",
              " ['longitude', dtype('float64')],\n",
              " ['room_type', dtype('O')],\n",
              " ['price', dtype('int64')],\n",
              " ['minimum_nights', dtype('int64')],\n",
              " ['number_of_reviews', dtype('int64')],\n",
              " ['last_review', dtype('<M8[ns]')],\n",
              " ['reviews_per_month', dtype('float64')],\n",
              " ['calculated_host_listings_count', dtype('int64')],\n",
              " ['availability_365', dtype('int64')]]"
            ]
          },
          "metadata": {
            "tags": []
          },
          "execution_count": 11
        }
      ]
    },
    {
      "cell_type": "code",
      "metadata": {
        "id": "yZzCPfzNfhAq",
        "outputId": "eb07550c-f1ee-471b-c307-fac0269cb2ce",
        "colab": {
          "base_uri": "https://localhost:8080/",
          "height": 415
        }
      },
      "source": [
        "AB_NYC_data.info()"
      ],
      "execution_count": null,
      "outputs": [
        {
          "output_type": "stream",
          "text": [
            "<class 'pandas.core.frame.DataFrame'>\n",
            "RangeIndex: 48895 entries, 0 to 48894\n",
            "Data columns (total 16 columns):\n",
            " #   Column                          Non-Null Count  Dtype         \n",
            "---  ------                          --------------  -----         \n",
            " 0   id                              48895 non-null  int64         \n",
            " 1   name                            48869 non-null  object        \n",
            " 2   host_id                         48895 non-null  int64         \n",
            " 3   host_name                       48873 non-null  object        \n",
            " 4   neighbourhood_group             48895 non-null  object        \n",
            " 5   neighbourhood                   48895 non-null  object        \n",
            " 6   latitude                        48895 non-null  float64       \n",
            " 7   longitude                       48895 non-null  float64       \n",
            " 8   room_type                       48895 non-null  object        \n",
            " 9   price                           48895 non-null  int64         \n",
            " 10  minimum_nights                  48895 non-null  int64         \n",
            " 11  number_of_reviews               48895 non-null  int64         \n",
            " 12  last_review                     38843 non-null  datetime64[ns]\n",
            " 13  reviews_per_month               38843 non-null  float64       \n",
            " 14  calculated_host_listings_count  48895 non-null  int64         \n",
            " 15  availability_365                48895 non-null  int64         \n",
            "dtypes: datetime64[ns](1), float64(3), int64(7), object(5)\n",
            "memory usage: 6.0+ MB\n"
          ],
          "name": "stdout"
        }
      ]
    },
    {
      "cell_type": "markdown",
      "metadata": {
        "id": "lkVEWZBVQPK_"
      },
      "source": [
        "## 6.Are there any missing values in the data?, if yes, then how many are there in each column?"
      ]
    },
    {
      "cell_type": "markdown",
      "metadata": {
        "id": "ru8vZc8-_sod"
      },
      "source": [
        "### Method1"
      ]
    },
    {
      "cell_type": "code",
      "metadata": {
        "id": "PdgS-dF5_wOb",
        "outputId": "eda788e4-2226-460e-815b-9f38edf8ab73",
        "colab": {
          "base_uri": "https://localhost:8080/",
          "height": 311
        }
      },
      "source": [
        "AB_NYC_data.isnull().sum()"
      ],
      "execution_count": null,
      "outputs": [
        {
          "output_type": "execute_result",
          "data": {
            "text/plain": [
              "id                                    0\n",
              "name                                 26\n",
              "host_id                               0\n",
              "host_name                            22\n",
              "neighbourhood_group                   0\n",
              "neighbourhood                         0\n",
              "latitude                              0\n",
              "longitude                             0\n",
              "room_type                             0\n",
              "price                                 0\n",
              "minimum_nights                        0\n",
              "number_of_reviews                     0\n",
              "last_review                       10052\n",
              "reviews_per_month                 10052\n",
              "calculated_host_listings_count        0\n",
              "availability_365                      0\n",
              "dtype: int64"
            ]
          },
          "metadata": {
            "tags": []
          },
          "execution_count": 13
        }
      ]
    },
    {
      "cell_type": "markdown",
      "metadata": {
        "id": "GgBWrJIT_qas"
      },
      "source": [
        "### Method2"
      ]
    },
    {
      "cell_type": "code",
      "metadata": {
        "id": "WaLn_L31QQGD",
        "outputId": "2c62f612-ff15-42bc-e207-92a20a87c1d4",
        "colab": {
          "base_uri": "https://localhost:8080/",
          "height": 294
        }
      },
      "source": [
        "[[col, sum(AB_NYC_data[col].isnull())] for col in AB_NYC_data.columns]"
      ],
      "execution_count": null,
      "outputs": [
        {
          "output_type": "execute_result",
          "data": {
            "text/plain": [
              "[['id', 0],\n",
              " ['name', 26],\n",
              " ['host_id', 0],\n",
              " ['host_name', 22],\n",
              " ['neighbourhood_group', 0],\n",
              " ['neighbourhood', 0],\n",
              " ['latitude', 0],\n",
              " ['longitude', 0],\n",
              " ['room_type', 0],\n",
              " ['price', 0],\n",
              " ['minimum_nights', 0],\n",
              " ['number_of_reviews', 0],\n",
              " ['last_review', 10052],\n",
              " ['reviews_per_month', 10052],\n",
              " ['calculated_host_listings_count', 0],\n",
              " ['availability_365', 0]]"
            ]
          },
          "metadata": {
            "tags": []
          },
          "execution_count": 14
        }
      ]
    },
    {
      "cell_type": "markdown",
      "metadata": {
        "id": "msejc3TOAQQ4"
      },
      "source": [
        "### Method3"
      ]
    },
    {
      "cell_type": "code",
      "metadata": {
        "id": "hR8jmLlbfxPH",
        "outputId": "f9d21df7-1f2e-46ad-ee8e-12f9e44af682",
        "colab": {
          "base_uri": "https://localhost:8080/",
          "height": 415
        }
      },
      "source": [
        "AB_NYC_data.info()"
      ],
      "execution_count": null,
      "outputs": [
        {
          "output_type": "stream",
          "text": [
            "<class 'pandas.core.frame.DataFrame'>\n",
            "RangeIndex: 48895 entries, 0 to 48894\n",
            "Data columns (total 16 columns):\n",
            " #   Column                          Non-Null Count  Dtype         \n",
            "---  ------                          --------------  -----         \n",
            " 0   id                              48895 non-null  int64         \n",
            " 1   name                            48869 non-null  object        \n",
            " 2   host_id                         48895 non-null  int64         \n",
            " 3   host_name                       48873 non-null  object        \n",
            " 4   neighbourhood_group             48895 non-null  object        \n",
            " 5   neighbourhood                   48895 non-null  object        \n",
            " 6   latitude                        48895 non-null  float64       \n",
            " 7   longitude                       48895 non-null  float64       \n",
            " 8   room_type                       48895 non-null  object        \n",
            " 9   price                           48895 non-null  int64         \n",
            " 10  minimum_nights                  48895 non-null  int64         \n",
            " 11  number_of_reviews               48895 non-null  int64         \n",
            " 12  last_review                     38843 non-null  datetime64[ns]\n",
            " 13  reviews_per_month               38843 non-null  float64       \n",
            " 14  calculated_host_listings_count  48895 non-null  int64         \n",
            " 15  availability_365                48895 non-null  int64         \n",
            "dtypes: datetime64[ns](1), float64(3), int64(7), object(5)\n",
            "memory usage: 6.0+ MB\n"
          ],
          "name": "stdout"
        }
      ]
    },
    {
      "cell_type": "markdown",
      "metadata": {
        "id": "TC_kxOHsQlbk"
      },
      "source": [
        "## 7.Create a new dataset by considering only numerical columns."
      ]
    },
    {
      "cell_type": "markdown",
      "metadata": {
        "id": "KIQ8UqmJapIQ"
      },
      "source": [
        "### Method1"
      ]
    },
    {
      "cell_type": "code",
      "metadata": {
        "id": "cTkXYuYvQnvM",
        "outputId": "f863a0e8-c0d0-48e9-8b3c-2568c64cf28c",
        "colab": {
          "base_uri": "https://localhost:8080/",
          "height": 328
        }
      },
      "source": [
        "numerics = ['int16', 'int32', 'int64', 'float16', 'float32', 'float64','datetime64[ns]']\n",
        "AB_NYC_data_numerics = AB_NYC_data.select_dtypes(include=numerics)\n",
        "AB_NYC_data_numerics.info()"
      ],
      "execution_count": null,
      "outputs": [
        {
          "output_type": "stream",
          "text": [
            "<class 'pandas.core.frame.DataFrame'>\n",
            "RangeIndex: 48895 entries, 0 to 48894\n",
            "Data columns (total 11 columns):\n",
            " #   Column                          Non-Null Count  Dtype         \n",
            "---  ------                          --------------  -----         \n",
            " 0   id                              48895 non-null  int64         \n",
            " 1   host_id                         48895 non-null  int64         \n",
            " 2   latitude                        48895 non-null  float64       \n",
            " 3   longitude                       48895 non-null  float64       \n",
            " 4   price                           48895 non-null  int64         \n",
            " 5   minimum_nights                  48895 non-null  int64         \n",
            " 6   number_of_reviews               48895 non-null  int64         \n",
            " 7   last_review                     38843 non-null  datetime64[ns]\n",
            " 8   reviews_per_month               38843 non-null  float64       \n",
            " 9   calculated_host_listings_count  48895 non-null  int64         \n",
            " 10  availability_365                48895 non-null  int64         \n",
            "dtypes: datetime64[ns](1), float64(3), int64(7)\n",
            "memory usage: 4.1 MB\n"
          ],
          "name": "stdout"
        }
      ]
    },
    {
      "cell_type": "markdown",
      "metadata": {
        "id": "BACF1a86gKCN"
      },
      "source": [
        "### Method2"
      ]
    },
    {
      "cell_type": "code",
      "metadata": {
        "id": "oPfxMLmxgKeX",
        "outputId": "63021f30-7ab5-427f-c5a9-6c9037981422",
        "colab": {
          "base_uri": "https://localhost:8080/",
          "height": 72
        }
      },
      "source": [
        "all_numeric_cols=[col for col in AB_NYC_data.columns if AB_NYC_data[col].dtypes in [\"int64\",\"float64\"]]\n",
        "print(all_numeric_cols)\n",
        "print(len(all_numeric_cols))"
      ],
      "execution_count": null,
      "outputs": [
        {
          "output_type": "stream",
          "text": [
            "['id', 'host_id', 'latitude', 'longitude', 'price', 'minimum_nights', 'number_of_reviews', 'reviews_per_month', 'calculated_host_listings_count', 'availability_365']\n",
            "10\n"
          ],
          "name": "stdout"
        }
      ]
    },
    {
      "cell_type": "code",
      "metadata": {
        "id": "Av9rDFbLgecH",
        "outputId": "61c25f95-11a3-483a-ce83-655fd2c4f4c7",
        "colab": {
          "base_uri": "https://localhost:8080/",
          "height": 311
        }
      },
      "source": [
        "AB_NYC_numeric_cols_data=AB_NYC_data[all_numeric_cols]\n",
        "AB_NYC_numeric_cols_data.info()"
      ],
      "execution_count": null,
      "outputs": [
        {
          "output_type": "stream",
          "text": [
            "<class 'pandas.core.frame.DataFrame'>\n",
            "RangeIndex: 48895 entries, 0 to 48894\n",
            "Data columns (total 10 columns):\n",
            " #   Column                          Non-Null Count  Dtype  \n",
            "---  ------                          --------------  -----  \n",
            " 0   id                              48895 non-null  int64  \n",
            " 1   host_id                         48895 non-null  int64  \n",
            " 2   latitude                        48895 non-null  float64\n",
            " 3   longitude                       48895 non-null  float64\n",
            " 4   price                           48895 non-null  int64  \n",
            " 5   minimum_nights                  48895 non-null  int64  \n",
            " 6   number_of_reviews               48895 non-null  int64  \n",
            " 7   reviews_per_month               38843 non-null  float64\n",
            " 8   calculated_host_listings_count  48895 non-null  int64  \n",
            " 9   availability_365                48895 non-null  int64  \n",
            "dtypes: float64(3), int64(7)\n",
            "memory usage: 3.7 MB\n"
          ],
          "name": "stdout"
        }
      ]
    },
    {
      "cell_type": "markdown",
      "metadata": {
        "id": "i5PVWOLyg0uh"
      },
      "source": [
        "### Method3"
      ]
    },
    {
      "cell_type": "code",
      "metadata": {
        "id": "ujB8vGrog20_",
        "outputId": "95c0b5ac-e9e1-40a4-9b56-f781c54bd4fa",
        "colab": {
          "base_uri": "https://localhost:8080/",
          "height": 72
        }
      },
      "source": [
        "''' LOGIC TO SEGREGATE THE COLUMNS INTO TWO DIFFERENT LIST '''\n",
        "\n",
        "col=list(AB_NYC_data.columns)\n",
        "intt=[]\n",
        "obb=[]\n",
        "for i in range(0,len(col)):\n",
        "   if (AB_NYC_data[col[i]]).dtype==object:\n",
        "     obb.append(col[i])\n",
        "   else:\n",
        "      intt.append(col[i])\n",
        "\n",
        "print(intt)\n",
        "print(obb)"
      ],
      "execution_count": null,
      "outputs": [
        {
          "output_type": "stream",
          "text": [
            "['id', 'host_id', 'latitude', 'longitude', 'price', 'minimum_nights', 'number_of_reviews', 'last_review', 'reviews_per_month', 'calculated_host_listings_count', 'availability_365']\n",
            "['name', 'host_name', 'neighbourhood_group', 'neighbourhood', 'room_type']\n"
          ],
          "name": "stdout"
        }
      ]
    },
    {
      "cell_type": "code",
      "metadata": {
        "id": "iB9KoB_Dg3gN",
        "outputId": "8dbedf07-9a4c-41c1-dfb0-5619b0e1c760",
        "colab": {
          "base_uri": "https://localhost:8080/",
          "height": 328
        }
      },
      "source": [
        "AB_NYC_numeric_cols_data=AB_NYC_data[intt]                         \n",
        "AB_NYC_numeric_cols_data.info()"
      ],
      "execution_count": null,
      "outputs": [
        {
          "output_type": "stream",
          "text": [
            "<class 'pandas.core.frame.DataFrame'>\n",
            "RangeIndex: 48895 entries, 0 to 48894\n",
            "Data columns (total 11 columns):\n",
            " #   Column                          Non-Null Count  Dtype         \n",
            "---  ------                          --------------  -----         \n",
            " 0   id                              48895 non-null  int64         \n",
            " 1   host_id                         48895 non-null  int64         \n",
            " 2   latitude                        48895 non-null  float64       \n",
            " 3   longitude                       48895 non-null  float64       \n",
            " 4   price                           48895 non-null  int64         \n",
            " 5   minimum_nights                  48895 non-null  int64         \n",
            " 6   number_of_reviews               48895 non-null  int64         \n",
            " 7   last_review                     38843 non-null  datetime64[ns]\n",
            " 8   reviews_per_month               38843 non-null  float64       \n",
            " 9   calculated_host_listings_count  48895 non-null  int64         \n",
            " 10  availability_365                48895 non-null  int64         \n",
            "dtypes: datetime64[ns](1), float64(3), int64(7)\n",
            "memory usage: 4.1 MB\n"
          ],
          "name": "stdout"
        }
      ]
    },
    {
      "cell_type": "markdown",
      "metadata": {
        "id": "lOZNRSzDRALS"
      },
      "source": [
        "## 8.Create a new dataset by considering only Non-numerical columns."
      ]
    },
    {
      "cell_type": "code",
      "metadata": {
        "id": "3eHAWLIYRGsE",
        "outputId": "86166b48-a605-4b42-ab8b-88110832937b",
        "colab": {
          "base_uri": "https://localhost:8080/",
          "height": 52
        }
      },
      "source": [
        "object_cols=[col for col in AB_NYC_data.columns if AB_NYC_data[col].dtypes in [\"object\"]]\n",
        "print(object_cols)\n",
        "print(len(object_cols))"
      ],
      "execution_count": null,
      "outputs": [
        {
          "output_type": "stream",
          "text": [
            "['name', 'host_name', 'neighbourhood_group', 'neighbourhood', 'room_type']\n",
            "5\n"
          ],
          "name": "stdout"
        }
      ]
    },
    {
      "cell_type": "code",
      "metadata": {
        "id": "XEciNZhgirc5",
        "outputId": "31fc8cdb-65db-47f3-92cb-fa272037f2ab",
        "colab": {
          "base_uri": "https://localhost:8080/",
          "height": 224
        }
      },
      "source": [
        "AB_NYC_data_object_cols_data=AB_NYC_data[object_cols]\n",
        "AB_NYC_data_object_cols_data.info()"
      ],
      "execution_count": null,
      "outputs": [
        {
          "output_type": "stream",
          "text": [
            "<class 'pandas.core.frame.DataFrame'>\n",
            "RangeIndex: 48895 entries, 0 to 48894\n",
            "Data columns (total 5 columns):\n",
            " #   Column               Non-Null Count  Dtype \n",
            "---  ------               --------------  ----- \n",
            " 0   name                 48869 non-null  object\n",
            " 1   host_name            48873 non-null  object\n",
            " 2   neighbourhood_group  48895 non-null  object\n",
            " 3   neighbourhood        48895 non-null  object\n",
            " 4   room_type            48895 non-null  object\n",
            "dtypes: object(5)\n",
            "memory usage: 1.9+ MB\n"
          ],
          "name": "stdout"
        }
      ]
    },
    {
      "cell_type": "markdown",
      "metadata": {
        "id": "poAtfhhoRHo7"
      },
      "source": [
        "##  9.Create a subset by considering only room_type=“Private room”"
      ]
    },
    {
      "cell_type": "code",
      "metadata": {
        "id": "gqjp7tggTegw",
        "outputId": "e4ac2ed9-ded3-44f2-c9d9-725f8a427a72",
        "colab": {
          "base_uri": "https://localhost:8080/",
          "height": 34
        }
      },
      "source": [
        "#Unique values inside a column\n",
        "AB_NYC_data[\"room_type\"].unique()"
      ],
      "execution_count": null,
      "outputs": [
        {
          "output_type": "execute_result",
          "data": {
            "text/plain": [
              "array(['Private room', 'Entire home/apt', 'Shared room'], dtype=object)"
            ]
          },
          "metadata": {
            "tags": []
          },
          "execution_count": 23
        }
      ]
    },
    {
      "cell_type": "code",
      "metadata": {
        "id": "3MUnnWUfjR7O",
        "outputId": "42bd6111-fa00-4920-b384-4e501e4a577f",
        "colab": {
          "base_uri": "https://localhost:8080/",
          "height": 34
        }
      },
      "source": [
        "private_room_data=AB_NYC_data[AB_NYC_data[\"room_type\"]==\"Private room\"]\n",
        "print(private_room_data.shape)"
      ],
      "execution_count": null,
      "outputs": [
        {
          "output_type": "stream",
          "text": [
            "(22326, 16)\n"
          ],
          "name": "stdout"
        }
      ]
    },
    {
      "cell_type": "markdown",
      "metadata": {
        "id": "uaWoYozgTiGM"
      },
      "source": [
        "## 10.Create a subset by considering only room_type=\"Private room\" and \"price\" < 100"
      ]
    },
    {
      "cell_type": "code",
      "metadata": {
        "id": "eeHNrYjVTmdE",
        "outputId": "96706e1a-744b-4067-c03b-49682478d107",
        "colab": {
          "base_uri": "https://localhost:8080/",
          "height": 415
        }
      },
      "source": [
        "AB_NYC_private_room=AB_NYC_data[(AB_NYC_data[\"room_type\"]==\"Private room\") & (AB_NYC_data[\"price\"]<100)]\n",
        "AB_NYC_private_room.info()"
      ],
      "execution_count": null,
      "outputs": [
        {
          "output_type": "stream",
          "text": [
            "<class 'pandas.core.frame.DataFrame'>\n",
            "Int64Index: 17258 entries, 6 to 48894\n",
            "Data columns (total 16 columns):\n",
            " #   Column                          Non-Null Count  Dtype         \n",
            "---  ------                          --------------  -----         \n",
            " 0   id                              17258 non-null  int64         \n",
            " 1   name                            17243 non-null  object        \n",
            " 2   host_id                         17258 non-null  int64         \n",
            " 3   host_name                       17250 non-null  object        \n",
            " 4   neighbourhood_group             17258 non-null  object        \n",
            " 5   neighbourhood                   17258 non-null  object        \n",
            " 6   latitude                        17258 non-null  float64       \n",
            " 7   longitude                       17258 non-null  float64       \n",
            " 8   room_type                       17258 non-null  object        \n",
            " 9   price                           17258 non-null  int64         \n",
            " 10  minimum_nights                  17258 non-null  int64         \n",
            " 11  number_of_reviews               17258 non-null  int64         \n",
            " 12  last_review                     14023 non-null  datetime64[ns]\n",
            " 13  reviews_per_month               14023 non-null  float64       \n",
            " 14  calculated_host_listings_count  17258 non-null  int64         \n",
            " 15  availability_365                17258 non-null  int64         \n",
            "dtypes: datetime64[ns](1), float64(3), int64(7), object(5)\n",
            "memory usage: 2.2+ MB\n"
          ],
          "name": "stdout"
        }
      ]
    },
    {
      "cell_type": "markdown",
      "metadata": {
        "id": "UXM9ileXTztL"
      },
      "source": [
        "## 11.Sort the data based on number_of_reviews. Both ascending and descending "
      ]
    },
    {
      "cell_type": "code",
      "metadata": {
        "id": "lx1Cf5BJT03m",
        "outputId": "3c6d2a34-9c16-4855-df45-d110ec957c6a",
        "colab": {
          "base_uri": "https://localhost:8080/",
          "height": 374
        }
      },
      "source": [
        "AB_NYC_data_sort=AB_NYC_data.sort_values(by=[\"number_of_reviews\"])\n",
        "AB_NYC_data_sort.head()"
      ],
      "execution_count": null,
      "outputs": [
        {
          "output_type": "execute_result",
          "data": {
            "text/html": [
              "<div>\n",
              "<style scoped>\n",
              "    .dataframe tbody tr th:only-of-type {\n",
              "        vertical-align: middle;\n",
              "    }\n",
              "\n",
              "    .dataframe tbody tr th {\n",
              "        vertical-align: top;\n",
              "    }\n",
              "\n",
              "    .dataframe thead th {\n",
              "        text-align: right;\n",
              "    }\n",
              "</style>\n",
              "<table border=\"1\" class=\"dataframe\">\n",
              "  <thead>\n",
              "    <tr style=\"text-align: right;\">\n",
              "      <th></th>\n",
              "      <th>id</th>\n",
              "      <th>name</th>\n",
              "      <th>host_id</th>\n",
              "      <th>host_name</th>\n",
              "      <th>neighbourhood_group</th>\n",
              "      <th>neighbourhood</th>\n",
              "      <th>latitude</th>\n",
              "      <th>longitude</th>\n",
              "      <th>room_type</th>\n",
              "      <th>price</th>\n",
              "      <th>minimum_nights</th>\n",
              "      <th>number_of_reviews</th>\n",
              "      <th>last_review</th>\n",
              "      <th>reviews_per_month</th>\n",
              "      <th>calculated_host_listings_count</th>\n",
              "      <th>availability_365</th>\n",
              "    </tr>\n",
              "  </thead>\n",
              "  <tbody>\n",
              "    <tr>\n",
              "      <th>48894</th>\n",
              "      <td>36487245</td>\n",
              "      <td>Trendy duplex in the very heart of Hell's Kitchen</td>\n",
              "      <td>68119814</td>\n",
              "      <td>Christophe</td>\n",
              "      <td>Manhattan</td>\n",
              "      <td>Hell's Kitchen</td>\n",
              "      <td>40.76404</td>\n",
              "      <td>-73.98933</td>\n",
              "      <td>Private room</td>\n",
              "      <td>90</td>\n",
              "      <td>7</td>\n",
              "      <td>0</td>\n",
              "      <td>NaT</td>\n",
              "      <td>NaN</td>\n",
              "      <td>1</td>\n",
              "      <td>23</td>\n",
              "    </tr>\n",
              "    <tr>\n",
              "      <th>28711</th>\n",
              "      <td>22204856</td>\n",
              "      <td>Room available in 3 BD Brooklyn apartment</td>\n",
              "      <td>1819657</td>\n",
              "      <td>Eleanor</td>\n",
              "      <td>Brooklyn</td>\n",
              "      <td>Clinton Hill</td>\n",
              "      <td>40.68381</td>\n",
              "      <td>-73.96786</td>\n",
              "      <td>Private room</td>\n",
              "      <td>55</td>\n",
              "      <td>2</td>\n",
              "      <td>0</td>\n",
              "      <td>NaT</td>\n",
              "      <td>NaN</td>\n",
              "      <td>1</td>\n",
              "      <td>0</td>\n",
              "    </tr>\n",
              "    <tr>\n",
              "      <th>15661</th>\n",
              "      <td>12650830</td>\n",
              "      <td>Quiet room in Bed-Stuy</td>\n",
              "      <td>68585649</td>\n",
              "      <td>Joseph</td>\n",
              "      <td>Brooklyn</td>\n",
              "      <td>Bedford-Stuyvesant</td>\n",
              "      <td>40.69186</td>\n",
              "      <td>-73.94038</td>\n",
              "      <td>Private room</td>\n",
              "      <td>30</td>\n",
              "      <td>80</td>\n",
              "      <td>0</td>\n",
              "      <td>NaT</td>\n",
              "      <td>NaN</td>\n",
              "      <td>1</td>\n",
              "      <td>0</td>\n",
              "    </tr>\n",
              "    <tr>\n",
              "      <th>40011</th>\n",
              "      <td>31076156</td>\n",
              "      <td>é•¿å²›è±ªåŽå…¬å¯“å•é—´å§å®¤ä½Žä»·çŸ­ç§Ÿäº¤é...</td>\n",
              "      <td>232169947</td>\n",
              "      <td>è¾£è¾£</td>\n",
              "      <td>Queens</td>\n",
              "      <td>Long Island City</td>\n",
              "      <td>40.74779</td>\n",
              "      <td>-73.93820</td>\n",
              "      <td>Private room</td>\n",
              "      <td>60</td>\n",
              "      <td>2</td>\n",
              "      <td>0</td>\n",
              "      <td>NaT</td>\n",
              "      <td>NaN</td>\n",
              "      <td>1</td>\n",
              "      <td>0</td>\n",
              "    </tr>\n",
              "    <tr>\n",
              "      <th>7707</th>\n",
              "      <td>5826468</td>\n",
              "      <td>Large 2 bed 2 bath w private patio!</td>\n",
              "      <td>27894798</td>\n",
              "      <td>Aya</td>\n",
              "      <td>Manhattan</td>\n",
              "      <td>East Harlem</td>\n",
              "      <td>40.79372</td>\n",
              "      <td>-73.94316</td>\n",
              "      <td>Entire home/apt</td>\n",
              "      <td>200</td>\n",
              "      <td>30</td>\n",
              "      <td>0</td>\n",
              "      <td>NaT</td>\n",
              "      <td>NaN</td>\n",
              "      <td>1</td>\n",
              "      <td>0</td>\n",
              "    </tr>\n",
              "  </tbody>\n",
              "</table>\n",
              "</div>"
            ],
            "text/plain": [
              "             id                                               name    host_id  \\\n",
              "48894  36487245  Trendy duplex in the very heart of Hell's Kitchen   68119814   \n",
              "28711  22204856          Room available in 3 BD Brooklyn apartment    1819657   \n",
              "15661  12650830                             Quiet room in Bed-Stuy   68585649   \n",
              "40011  31076156  é•¿å²›è±ªåŽå…¬å¯“å•é—´å§å®¤ä½Žä»·çŸ­ç§Ÿäº¤é...  232169947   \n",
              "7707    5826468                Large 2 bed 2 bath w private patio!   27894798   \n",
              "\n",
              "        host_name neighbourhood_group       neighbourhood  latitude  \\\n",
              "48894  Christophe           Manhattan      Hell's Kitchen  40.76404   \n",
              "28711     Eleanor            Brooklyn        Clinton Hill  40.68381   \n",
              "15661      Joseph            Brooklyn  Bedford-Stuyvesant  40.69186   \n",
              "40011      è¾£è¾£              Queens    Long Island City  40.74779   \n",
              "7707          Aya           Manhattan         East Harlem  40.79372   \n",
              "\n",
              "       longitude        room_type  price  minimum_nights  number_of_reviews  \\\n",
              "48894  -73.98933     Private room     90               7                  0   \n",
              "28711  -73.96786     Private room     55               2                  0   \n",
              "15661  -73.94038     Private room     30              80                  0   \n",
              "40011  -73.93820     Private room     60               2                  0   \n",
              "7707   -73.94316  Entire home/apt    200              30                  0   \n",
              "\n",
              "      last_review  reviews_per_month  calculated_host_listings_count  \\\n",
              "48894         NaT                NaN                               1   \n",
              "28711         NaT                NaN                               1   \n",
              "15661         NaT                NaN                               1   \n",
              "40011         NaT                NaN                               1   \n",
              "7707          NaT                NaN                               1   \n",
              "\n",
              "       availability_365  \n",
              "48894                23  \n",
              "28711                 0  \n",
              "15661                 0  \n",
              "40011                 0  \n",
              "7707                  0  "
            ]
          },
          "metadata": {
            "tags": []
          },
          "execution_count": 26
        }
      ]
    },
    {
      "cell_type": "code",
      "metadata": {
        "id": "JZ2WATWms4bj",
        "outputId": "fd083d98-ff85-4ca9-e9c2-b4dddb28dd1e",
        "colab": {
          "base_uri": "https://localhost:8080/",
          "height": 460
        }
      },
      "source": [
        "AB_NYC_data_sort=AB_NYC_data.sort_values(by=[\"number_of_reviews\"], ascending= False)\n",
        "AB_NYC_data_sort.head()"
      ],
      "execution_count": null,
      "outputs": [
        {
          "output_type": "execute_result",
          "data": {
            "text/html": [
              "<div>\n",
              "<style scoped>\n",
              "    .dataframe tbody tr th:only-of-type {\n",
              "        vertical-align: middle;\n",
              "    }\n",
              "\n",
              "    .dataframe tbody tr th {\n",
              "        vertical-align: top;\n",
              "    }\n",
              "\n",
              "    .dataframe thead th {\n",
              "        text-align: right;\n",
              "    }\n",
              "</style>\n",
              "<table border=\"1\" class=\"dataframe\">\n",
              "  <thead>\n",
              "    <tr style=\"text-align: right;\">\n",
              "      <th></th>\n",
              "      <th>id</th>\n",
              "      <th>name</th>\n",
              "      <th>host_id</th>\n",
              "      <th>host_name</th>\n",
              "      <th>neighbourhood_group</th>\n",
              "      <th>neighbourhood</th>\n",
              "      <th>latitude</th>\n",
              "      <th>longitude</th>\n",
              "      <th>room_type</th>\n",
              "      <th>price</th>\n",
              "      <th>minimum_nights</th>\n",
              "      <th>number_of_reviews</th>\n",
              "      <th>last_review</th>\n",
              "      <th>reviews_per_month</th>\n",
              "      <th>calculated_host_listings_count</th>\n",
              "      <th>availability_365</th>\n",
              "    </tr>\n",
              "  </thead>\n",
              "  <tbody>\n",
              "    <tr>\n",
              "      <th>11759</th>\n",
              "      <td>9145202</td>\n",
              "      <td>Room near JFK Queen Bed</td>\n",
              "      <td>47621202</td>\n",
              "      <td>Dona</td>\n",
              "      <td>Queens</td>\n",
              "      <td>Jamaica</td>\n",
              "      <td>40.66730</td>\n",
              "      <td>-73.76831</td>\n",
              "      <td>Private room</td>\n",
              "      <td>47</td>\n",
              "      <td>1</td>\n",
              "      <td>629</td>\n",
              "      <td>2019-07-05</td>\n",
              "      <td>14.58</td>\n",
              "      <td>2</td>\n",
              "      <td>333</td>\n",
              "    </tr>\n",
              "    <tr>\n",
              "      <th>2031</th>\n",
              "      <td>903972</td>\n",
              "      <td>Great Bedroom in Manhattan</td>\n",
              "      <td>4734398</td>\n",
              "      <td>Jj</td>\n",
              "      <td>Manhattan</td>\n",
              "      <td>Harlem</td>\n",
              "      <td>40.82085</td>\n",
              "      <td>-73.94025</td>\n",
              "      <td>Private room</td>\n",
              "      <td>49</td>\n",
              "      <td>1</td>\n",
              "      <td>607</td>\n",
              "      <td>2019-06-21</td>\n",
              "      <td>7.75</td>\n",
              "      <td>3</td>\n",
              "      <td>293</td>\n",
              "    </tr>\n",
              "    <tr>\n",
              "      <th>2030</th>\n",
              "      <td>903947</td>\n",
              "      <td>Beautiful Bedroom in Manhattan</td>\n",
              "      <td>4734398</td>\n",
              "      <td>Jj</td>\n",
              "      <td>Manhattan</td>\n",
              "      <td>Harlem</td>\n",
              "      <td>40.82124</td>\n",
              "      <td>-73.93838</td>\n",
              "      <td>Private room</td>\n",
              "      <td>49</td>\n",
              "      <td>1</td>\n",
              "      <td>597</td>\n",
              "      <td>2019-06-23</td>\n",
              "      <td>7.72</td>\n",
              "      <td>3</td>\n",
              "      <td>342</td>\n",
              "    </tr>\n",
              "    <tr>\n",
              "      <th>2015</th>\n",
              "      <td>891117</td>\n",
              "      <td>Private Bedroom in Manhattan</td>\n",
              "      <td>4734398</td>\n",
              "      <td>Jj</td>\n",
              "      <td>Manhattan</td>\n",
              "      <td>Harlem</td>\n",
              "      <td>40.82264</td>\n",
              "      <td>-73.94041</td>\n",
              "      <td>Private room</td>\n",
              "      <td>49</td>\n",
              "      <td>1</td>\n",
              "      <td>594</td>\n",
              "      <td>2019-06-15</td>\n",
              "      <td>7.57</td>\n",
              "      <td>3</td>\n",
              "      <td>339</td>\n",
              "    </tr>\n",
              "    <tr>\n",
              "      <th>13495</th>\n",
              "      <td>10101135</td>\n",
              "      <td>Room Near JFK Twin Beds</td>\n",
              "      <td>47621202</td>\n",
              "      <td>Dona</td>\n",
              "      <td>Queens</td>\n",
              "      <td>Jamaica</td>\n",
              "      <td>40.66939</td>\n",
              "      <td>-73.76975</td>\n",
              "      <td>Private room</td>\n",
              "      <td>47</td>\n",
              "      <td>1</td>\n",
              "      <td>576</td>\n",
              "      <td>2019-06-27</td>\n",
              "      <td>13.40</td>\n",
              "      <td>2</td>\n",
              "      <td>173</td>\n",
              "    </tr>\n",
              "  </tbody>\n",
              "</table>\n",
              "</div>"
            ],
            "text/plain": [
              "             id                            name   host_id host_name  \\\n",
              "11759   9145202         Room near JFK Queen Bed  47621202      Dona   \n",
              "2031     903972      Great Bedroom in Manhattan   4734398        Jj   \n",
              "2030     903947  Beautiful Bedroom in Manhattan   4734398        Jj   \n",
              "2015     891117    Private Bedroom in Manhattan   4734398        Jj   \n",
              "13495  10101135         Room Near JFK Twin Beds  47621202      Dona   \n",
              "\n",
              "      neighbourhood_group neighbourhood  latitude  longitude     room_type  \\\n",
              "11759              Queens       Jamaica  40.66730  -73.76831  Private room   \n",
              "2031            Manhattan        Harlem  40.82085  -73.94025  Private room   \n",
              "2030            Manhattan        Harlem  40.82124  -73.93838  Private room   \n",
              "2015            Manhattan        Harlem  40.82264  -73.94041  Private room   \n",
              "13495              Queens       Jamaica  40.66939  -73.76975  Private room   \n",
              "\n",
              "       price  minimum_nights  number_of_reviews last_review  \\\n",
              "11759     47               1                629  2019-07-05   \n",
              "2031      49               1                607  2019-06-21   \n",
              "2030      49               1                597  2019-06-23   \n",
              "2015      49               1                594  2019-06-15   \n",
              "13495     47               1                576  2019-06-27   \n",
              "\n",
              "       reviews_per_month  calculated_host_listings_count  availability_365  \n",
              "11759              14.58                               2               333  \n",
              "2031                7.75                               3               293  \n",
              "2030                7.72                               3               342  \n",
              "2015                7.57                               3               339  \n",
              "13495              13.40                               2               173  "
            ]
          },
          "metadata": {
            "tags": []
          },
          "execution_count": 27
        }
      ]
    },
    {
      "cell_type": "markdown",
      "metadata": {
        "id": "4u9oFWK5T61z"
      },
      "source": [
        "## 12.Sort the data by price descending and by number_of_reviews on a tie "
      ]
    },
    {
      "cell_type": "code",
      "metadata": {
        "id": "bNT987kLT85o",
        "outputId": "6b0658b1-8230-44b9-d681-00c6e21883ad",
        "colab": {
          "base_uri": "https://localhost:8080/",
          "height": 477
        }
      },
      "source": [
        "AB_NYC_data_sort2=AB_NYC_data.sort_values(by=[\"price\", \"number_of_reviews\"],ascending= [False, False])\n",
        "AB_NYC_data_sort2.head()"
      ],
      "execution_count": null,
      "outputs": [
        {
          "output_type": "execute_result",
          "data": {
            "text/html": [
              "<div>\n",
              "<style scoped>\n",
              "    .dataframe tbody tr th:only-of-type {\n",
              "        vertical-align: middle;\n",
              "    }\n",
              "\n",
              "    .dataframe tbody tr th {\n",
              "        vertical-align: top;\n",
              "    }\n",
              "\n",
              "    .dataframe thead th {\n",
              "        text-align: right;\n",
              "    }\n",
              "</style>\n",
              "<table border=\"1\" class=\"dataframe\">\n",
              "  <thead>\n",
              "    <tr style=\"text-align: right;\">\n",
              "      <th></th>\n",
              "      <th>id</th>\n",
              "      <th>name</th>\n",
              "      <th>host_id</th>\n",
              "      <th>host_name</th>\n",
              "      <th>neighbourhood_group</th>\n",
              "      <th>neighbourhood</th>\n",
              "      <th>latitude</th>\n",
              "      <th>longitude</th>\n",
              "      <th>room_type</th>\n",
              "      <th>price</th>\n",
              "      <th>minimum_nights</th>\n",
              "      <th>number_of_reviews</th>\n",
              "      <th>last_review</th>\n",
              "      <th>reviews_per_month</th>\n",
              "      <th>calculated_host_listings_count</th>\n",
              "      <th>availability_365</th>\n",
              "    </tr>\n",
              "  </thead>\n",
              "  <tbody>\n",
              "    <tr>\n",
              "      <th>17692</th>\n",
              "      <td>13894339</td>\n",
              "      <td>Luxury 1 bedroom apt. -stunning Manhattan views</td>\n",
              "      <td>5143901</td>\n",
              "      <td>Erin</td>\n",
              "      <td>Brooklyn</td>\n",
              "      <td>Greenpoint</td>\n",
              "      <td>40.73260</td>\n",
              "      <td>-73.95739</td>\n",
              "      <td>Entire home/apt</td>\n",
              "      <td>10000</td>\n",
              "      <td>5</td>\n",
              "      <td>5</td>\n",
              "      <td>2017-07-27</td>\n",
              "      <td>0.16</td>\n",
              "      <td>1</td>\n",
              "      <td>0</td>\n",
              "    </tr>\n",
              "    <tr>\n",
              "      <th>9151</th>\n",
              "      <td>7003697</td>\n",
              "      <td>Furnished room in Astoria apartment</td>\n",
              "      <td>20582832</td>\n",
              "      <td>Kathrine</td>\n",
              "      <td>Queens</td>\n",
              "      <td>Astoria</td>\n",
              "      <td>40.76810</td>\n",
              "      <td>-73.91651</td>\n",
              "      <td>Private room</td>\n",
              "      <td>10000</td>\n",
              "      <td>100</td>\n",
              "      <td>2</td>\n",
              "      <td>2016-02-13</td>\n",
              "      <td>0.04</td>\n",
              "      <td>1</td>\n",
              "      <td>0</td>\n",
              "    </tr>\n",
              "    <tr>\n",
              "      <th>29238</th>\n",
              "      <td>22436899</td>\n",
              "      <td>1-BR Lincoln Center</td>\n",
              "      <td>72390391</td>\n",
              "      <td>Jelena</td>\n",
              "      <td>Manhattan</td>\n",
              "      <td>Upper West Side</td>\n",
              "      <td>40.77213</td>\n",
              "      <td>-73.98665</td>\n",
              "      <td>Entire home/apt</td>\n",
              "      <td>10000</td>\n",
              "      <td>30</td>\n",
              "      <td>0</td>\n",
              "      <td>NaT</td>\n",
              "      <td>NaN</td>\n",
              "      <td>1</td>\n",
              "      <td>83</td>\n",
              "    </tr>\n",
              "    <tr>\n",
              "      <th>12342</th>\n",
              "      <td>9528920</td>\n",
              "      <td>Quiet, Clean, Lit @ LES &amp; Chinatown</td>\n",
              "      <td>3906464</td>\n",
              "      <td>Amy</td>\n",
              "      <td>Manhattan</td>\n",
              "      <td>Lower East Side</td>\n",
              "      <td>40.71355</td>\n",
              "      <td>-73.98507</td>\n",
              "      <td>Private room</td>\n",
              "      <td>9999</td>\n",
              "      <td>99</td>\n",
              "      <td>6</td>\n",
              "      <td>2016-01-01</td>\n",
              "      <td>0.14</td>\n",
              "      <td>1</td>\n",
              "      <td>83</td>\n",
              "    </tr>\n",
              "    <tr>\n",
              "      <th>6530</th>\n",
              "      <td>4737930</td>\n",
              "      <td>Spanish Harlem Apt</td>\n",
              "      <td>1235070</td>\n",
              "      <td>Olson</td>\n",
              "      <td>Manhattan</td>\n",
              "      <td>East Harlem</td>\n",
              "      <td>40.79264</td>\n",
              "      <td>-73.93898</td>\n",
              "      <td>Entire home/apt</td>\n",
              "      <td>9999</td>\n",
              "      <td>5</td>\n",
              "      <td>1</td>\n",
              "      <td>2015-01-02</td>\n",
              "      <td>0.02</td>\n",
              "      <td>1</td>\n",
              "      <td>0</td>\n",
              "    </tr>\n",
              "  </tbody>\n",
              "</table>\n",
              "</div>"
            ],
            "text/plain": [
              "             id                                             name   host_id  \\\n",
              "17692  13894339  Luxury 1 bedroom apt. -stunning Manhattan views   5143901   \n",
              "9151    7003697              Furnished room in Astoria apartment  20582832   \n",
              "29238  22436899                              1-BR Lincoln Center  72390391   \n",
              "12342   9528920              Quiet, Clean, Lit @ LES & Chinatown   3906464   \n",
              "6530    4737930                               Spanish Harlem Apt   1235070   \n",
              "\n",
              "      host_name neighbourhood_group    neighbourhood  latitude  longitude  \\\n",
              "17692      Erin            Brooklyn       Greenpoint  40.73260  -73.95739   \n",
              "9151   Kathrine              Queens          Astoria  40.76810  -73.91651   \n",
              "29238    Jelena           Manhattan  Upper West Side  40.77213  -73.98665   \n",
              "12342       Amy           Manhattan  Lower East Side  40.71355  -73.98507   \n",
              "6530      Olson           Manhattan      East Harlem  40.79264  -73.93898   \n",
              "\n",
              "             room_type  price  minimum_nights  number_of_reviews last_review  \\\n",
              "17692  Entire home/apt  10000               5                  5  2017-07-27   \n",
              "9151      Private room  10000             100                  2  2016-02-13   \n",
              "29238  Entire home/apt  10000              30                  0         NaT   \n",
              "12342     Private room   9999              99                  6  2016-01-01   \n",
              "6530   Entire home/apt   9999               5                  1  2015-01-02   \n",
              "\n",
              "       reviews_per_month  calculated_host_listings_count  availability_365  \n",
              "17692               0.16                               1                 0  \n",
              "9151                0.04                               1                 0  \n",
              "29238                NaN                               1                83  \n",
              "12342               0.14                               1                83  \n",
              "6530                0.02                               1                 0  "
            ]
          },
          "metadata": {
            "tags": []
          },
          "execution_count": 28
        }
      ]
    },
    {
      "cell_type": "markdown",
      "metadata": {
        "id": "sgt1m9cnT-oT"
      },
      "source": [
        "## 13.Sort the data by price descending and select first ten rows. "
      ]
    },
    {
      "cell_type": "code",
      "metadata": {
        "id": "SHTnIaPYUBLT",
        "outputId": "3ee89a79-bcc8-4b6e-c84f-174cb84e5dc4",
        "colab": {
          "base_uri": "https://localhost:8080/",
          "height": 645
        }
      },
      "source": [
        "AB_NYC_data_sort3=AB_NYC_data.sort_values(by=[\"price\"],ascending=[False])\n",
        "AB_NYC_data_sort3\n",
        "\n",
        "input_data_first_ten=AB_NYC_data_sort3.head(10)\n",
        "input_data_first_ten"
      ],
      "execution_count": null,
      "outputs": [
        {
          "output_type": "execute_result",
          "data": {
            "text/html": [
              "<div>\n",
              "<style scoped>\n",
              "    .dataframe tbody tr th:only-of-type {\n",
              "        vertical-align: middle;\n",
              "    }\n",
              "\n",
              "    .dataframe tbody tr th {\n",
              "        vertical-align: top;\n",
              "    }\n",
              "\n",
              "    .dataframe thead th {\n",
              "        text-align: right;\n",
              "    }\n",
              "</style>\n",
              "<table border=\"1\" class=\"dataframe\">\n",
              "  <thead>\n",
              "    <tr style=\"text-align: right;\">\n",
              "      <th></th>\n",
              "      <th>id</th>\n",
              "      <th>name</th>\n",
              "      <th>host_id</th>\n",
              "      <th>host_name</th>\n",
              "      <th>neighbourhood_group</th>\n",
              "      <th>neighbourhood</th>\n",
              "      <th>latitude</th>\n",
              "      <th>longitude</th>\n",
              "      <th>room_type</th>\n",
              "      <th>price</th>\n",
              "      <th>minimum_nights</th>\n",
              "      <th>number_of_reviews</th>\n",
              "      <th>last_review</th>\n",
              "      <th>reviews_per_month</th>\n",
              "      <th>calculated_host_listings_count</th>\n",
              "      <th>availability_365</th>\n",
              "    </tr>\n",
              "  </thead>\n",
              "  <tbody>\n",
              "    <tr>\n",
              "      <th>9151</th>\n",
              "      <td>7003697</td>\n",
              "      <td>Furnished room in Astoria apartment</td>\n",
              "      <td>20582832</td>\n",
              "      <td>Kathrine</td>\n",
              "      <td>Queens</td>\n",
              "      <td>Astoria</td>\n",
              "      <td>40.76810</td>\n",
              "      <td>-73.91651</td>\n",
              "      <td>Private room</td>\n",
              "      <td>10000</td>\n",
              "      <td>100</td>\n",
              "      <td>2</td>\n",
              "      <td>2016-02-13</td>\n",
              "      <td>0.04</td>\n",
              "      <td>1</td>\n",
              "      <td>0</td>\n",
              "    </tr>\n",
              "    <tr>\n",
              "      <th>17692</th>\n",
              "      <td>13894339</td>\n",
              "      <td>Luxury 1 bedroom apt. -stunning Manhattan views</td>\n",
              "      <td>5143901</td>\n",
              "      <td>Erin</td>\n",
              "      <td>Brooklyn</td>\n",
              "      <td>Greenpoint</td>\n",
              "      <td>40.73260</td>\n",
              "      <td>-73.95739</td>\n",
              "      <td>Entire home/apt</td>\n",
              "      <td>10000</td>\n",
              "      <td>5</td>\n",
              "      <td>5</td>\n",
              "      <td>2017-07-27</td>\n",
              "      <td>0.16</td>\n",
              "      <td>1</td>\n",
              "      <td>0</td>\n",
              "    </tr>\n",
              "    <tr>\n",
              "      <th>29238</th>\n",
              "      <td>22436899</td>\n",
              "      <td>1-BR Lincoln Center</td>\n",
              "      <td>72390391</td>\n",
              "      <td>Jelena</td>\n",
              "      <td>Manhattan</td>\n",
              "      <td>Upper West Side</td>\n",
              "      <td>40.77213</td>\n",
              "      <td>-73.98665</td>\n",
              "      <td>Entire home/apt</td>\n",
              "      <td>10000</td>\n",
              "      <td>30</td>\n",
              "      <td>0</td>\n",
              "      <td>NaT</td>\n",
              "      <td>NaN</td>\n",
              "      <td>1</td>\n",
              "      <td>83</td>\n",
              "    </tr>\n",
              "    <tr>\n",
              "      <th>40433</th>\n",
              "      <td>31340283</td>\n",
              "      <td>2br - The Heart of NYC: Manhattans Lower East ...</td>\n",
              "      <td>4382127</td>\n",
              "      <td>Matt</td>\n",
              "      <td>Manhattan</td>\n",
              "      <td>Lower East Side</td>\n",
              "      <td>40.71980</td>\n",
              "      <td>-73.98566</td>\n",
              "      <td>Entire home/apt</td>\n",
              "      <td>9999</td>\n",
              "      <td>30</td>\n",
              "      <td>0</td>\n",
              "      <td>NaT</td>\n",
              "      <td>NaN</td>\n",
              "      <td>1</td>\n",
              "      <td>365</td>\n",
              "    </tr>\n",
              "    <tr>\n",
              "      <th>12342</th>\n",
              "      <td>9528920</td>\n",
              "      <td>Quiet, Clean, Lit @ LES &amp; Chinatown</td>\n",
              "      <td>3906464</td>\n",
              "      <td>Amy</td>\n",
              "      <td>Manhattan</td>\n",
              "      <td>Lower East Side</td>\n",
              "      <td>40.71355</td>\n",
              "      <td>-73.98507</td>\n",
              "      <td>Private room</td>\n",
              "      <td>9999</td>\n",
              "      <td>99</td>\n",
              "      <td>6</td>\n",
              "      <td>2016-01-01</td>\n",
              "      <td>0.14</td>\n",
              "      <td>1</td>\n",
              "      <td>83</td>\n",
              "    </tr>\n",
              "    <tr>\n",
              "      <th>6530</th>\n",
              "      <td>4737930</td>\n",
              "      <td>Spanish Harlem Apt</td>\n",
              "      <td>1235070</td>\n",
              "      <td>Olson</td>\n",
              "      <td>Manhattan</td>\n",
              "      <td>East Harlem</td>\n",
              "      <td>40.79264</td>\n",
              "      <td>-73.93898</td>\n",
              "      <td>Entire home/apt</td>\n",
              "      <td>9999</td>\n",
              "      <td>5</td>\n",
              "      <td>1</td>\n",
              "      <td>2015-01-02</td>\n",
              "      <td>0.02</td>\n",
              "      <td>1</td>\n",
              "      <td>0</td>\n",
              "    </tr>\n",
              "    <tr>\n",
              "      <th>30268</th>\n",
              "      <td>23377410</td>\n",
              "      <td>Beautiful/Spacious 1 bed luxury flat-TriBeCa/Soho</td>\n",
              "      <td>18128455</td>\n",
              "      <td>Rum</td>\n",
              "      <td>Manhattan</td>\n",
              "      <td>Tribeca</td>\n",
              "      <td>40.72197</td>\n",
              "      <td>-74.00633</td>\n",
              "      <td>Entire home/apt</td>\n",
              "      <td>8500</td>\n",
              "      <td>30</td>\n",
              "      <td>2</td>\n",
              "      <td>2018-09-18</td>\n",
              "      <td>0.18</td>\n",
              "      <td>1</td>\n",
              "      <td>251</td>\n",
              "    </tr>\n",
              "    <tr>\n",
              "      <th>4377</th>\n",
              "      <td>2953058</td>\n",
              "      <td>Film Location</td>\n",
              "      <td>1177497</td>\n",
              "      <td>Jessica</td>\n",
              "      <td>Brooklyn</td>\n",
              "      <td>Clinton Hill</td>\n",
              "      <td>40.69137</td>\n",
              "      <td>-73.96723</td>\n",
              "      <td>Entire home/apt</td>\n",
              "      <td>8000</td>\n",
              "      <td>1</td>\n",
              "      <td>1</td>\n",
              "      <td>2016-09-15</td>\n",
              "      <td>0.03</td>\n",
              "      <td>11</td>\n",
              "      <td>365</td>\n",
              "    </tr>\n",
              "    <tr>\n",
              "      <th>29662</th>\n",
              "      <td>22779726</td>\n",
              "      <td>East 72nd Townhouse by (Hidden by Airbnb)</td>\n",
              "      <td>156158778</td>\n",
              "      <td>Sally</td>\n",
              "      <td>Manhattan</td>\n",
              "      <td>Upper East Side</td>\n",
              "      <td>40.76824</td>\n",
              "      <td>-73.95989</td>\n",
              "      <td>Entire home/apt</td>\n",
              "      <td>7703</td>\n",
              "      <td>1</td>\n",
              "      <td>0</td>\n",
              "      <td>NaT</td>\n",
              "      <td>NaN</td>\n",
              "      <td>12</td>\n",
              "      <td>146</td>\n",
              "    </tr>\n",
              "    <tr>\n",
              "      <th>42523</th>\n",
              "      <td>33007610</td>\n",
              "      <td>70' Luxury MotorYacht on the Hudson</td>\n",
              "      <td>7407743</td>\n",
              "      <td>Jack</td>\n",
              "      <td>Manhattan</td>\n",
              "      <td>Battery Park City</td>\n",
              "      <td>40.71162</td>\n",
              "      <td>-74.01693</td>\n",
              "      <td>Entire home/apt</td>\n",
              "      <td>7500</td>\n",
              "      <td>1</td>\n",
              "      <td>0</td>\n",
              "      <td>NaT</td>\n",
              "      <td>NaN</td>\n",
              "      <td>1</td>\n",
              "      <td>364</td>\n",
              "    </tr>\n",
              "  </tbody>\n",
              "</table>\n",
              "</div>"
            ],
            "text/plain": [
              "             id                                               name    host_id  \\\n",
              "9151    7003697                Furnished room in Astoria apartment   20582832   \n",
              "17692  13894339    Luxury 1 bedroom apt. -stunning Manhattan views    5143901   \n",
              "29238  22436899                                1-BR Lincoln Center   72390391   \n",
              "40433  31340283  2br - The Heart of NYC: Manhattans Lower East ...    4382127   \n",
              "12342   9528920                Quiet, Clean, Lit @ LES & Chinatown    3906464   \n",
              "6530    4737930                                 Spanish Harlem Apt    1235070   \n",
              "30268  23377410  Beautiful/Spacious 1 bed luxury flat-TriBeCa/Soho   18128455   \n",
              "4377    2953058                                      Film Location    1177497   \n",
              "29662  22779726          East 72nd Townhouse by (Hidden by Airbnb)  156158778   \n",
              "42523  33007610                70' Luxury MotorYacht on the Hudson    7407743   \n",
              "\n",
              "      host_name neighbourhood_group      neighbourhood  latitude  longitude  \\\n",
              "9151   Kathrine              Queens            Astoria  40.76810  -73.91651   \n",
              "17692      Erin            Brooklyn         Greenpoint  40.73260  -73.95739   \n",
              "29238    Jelena           Manhattan    Upper West Side  40.77213  -73.98665   \n",
              "40433      Matt           Manhattan    Lower East Side  40.71980  -73.98566   \n",
              "12342       Amy           Manhattan    Lower East Side  40.71355  -73.98507   \n",
              "6530      Olson           Manhattan        East Harlem  40.79264  -73.93898   \n",
              "30268       Rum           Manhattan            Tribeca  40.72197  -74.00633   \n",
              "4377    Jessica            Brooklyn       Clinton Hill  40.69137  -73.96723   \n",
              "29662     Sally           Manhattan    Upper East Side  40.76824  -73.95989   \n",
              "42523      Jack           Manhattan  Battery Park City  40.71162  -74.01693   \n",
              "\n",
              "             room_type  price  minimum_nights  number_of_reviews last_review  \\\n",
              "9151      Private room  10000             100                  2  2016-02-13   \n",
              "17692  Entire home/apt  10000               5                  5  2017-07-27   \n",
              "29238  Entire home/apt  10000              30                  0         NaT   \n",
              "40433  Entire home/apt   9999              30                  0         NaT   \n",
              "12342     Private room   9999              99                  6  2016-01-01   \n",
              "6530   Entire home/apt   9999               5                  1  2015-01-02   \n",
              "30268  Entire home/apt   8500              30                  2  2018-09-18   \n",
              "4377   Entire home/apt   8000               1                  1  2016-09-15   \n",
              "29662  Entire home/apt   7703               1                  0         NaT   \n",
              "42523  Entire home/apt   7500               1                  0         NaT   \n",
              "\n",
              "       reviews_per_month  calculated_host_listings_count  availability_365  \n",
              "9151                0.04                               1                 0  \n",
              "17692               0.16                               1                 0  \n",
              "29238                NaN                               1                83  \n",
              "40433                NaN                               1               365  \n",
              "12342               0.14                               1                83  \n",
              "6530                0.02                               1                 0  \n",
              "30268               0.18                               1               251  \n",
              "4377                0.03                              11               365  \n",
              "29662                NaN                              12               146  \n",
              "42523                NaN                               1               364  "
            ]
          },
          "metadata": {
            "tags": []
          },
          "execution_count": 29
        }
      ]
    },
    {
      "cell_type": "markdown",
      "metadata": {
        "id": "TI9pM3OPU1BP"
      },
      "source": [
        "## 14.Drop the id column from the data crate a new dataset."
      ]
    },
    {
      "cell_type": "code",
      "metadata": {
        "id": "262NHHE3U43g",
        "outputId": "86973bc8-b087-469b-e15a-a4ca0028b3d2",
        "colab": {
          "base_uri": "https://localhost:8080/",
          "height": 52
        }
      },
      "source": [
        "print(\"input data shape\", AB_NYC_data.shape)\n",
        "data_after_cols_drop=AB_NYC_data.drop([\"name\",\"neighbourhood_group\"], axis=1)\n",
        "print(\"data_after_cols_drop shape\", data_after_cols_drop.shape)"
      ],
      "execution_count": null,
      "outputs": [
        {
          "output_type": "stream",
          "text": [
            "input data shape (48895, 16)\n",
            "data_after_cols_drop shape (48895, 14)\n"
          ],
          "name": "stdout"
        }
      ]
    },
    {
      "cell_type": "markdown",
      "metadata": {
        "id": "KgA-j9MTU516"
      },
      "source": [
        "## 15.Create a new column in the data, discount_price = price*0.75"
      ]
    },
    {
      "cell_type": "code",
      "metadata": {
        "id": "4FchI85sVDHt",
        "outputId": "41bfbcb3-7f81-462d-ed03-afaec1003036",
        "colab": {
          "base_uri": "https://localhost:8080/",
          "height": 155
        }
      },
      "source": [
        "#Create a new column in the data, discount_price = price*0.75\n",
        "print(\"input data shape\", AB_NYC_data.shape)\n",
        "AB_NYC_data[\"discount_price\"]=AB_NYC_data[\"price\"]*0.75\n",
        "print(\"input data shape\", AB_NYC_data.shape)\n",
        "print(AB_NYC_data.columns)"
      ],
      "execution_count": null,
      "outputs": [
        {
          "output_type": "stream",
          "text": [
            "input data shape (48895, 16)\n",
            "input data shape (48895, 17)\n",
            "Index(['id', 'name', 'host_id', 'host_name', 'neighbourhood_group',\n",
            "       'neighbourhood', 'latitude', 'longitude', 'room_type', 'price',\n",
            "       'minimum_nights', 'number_of_reviews', 'last_review',\n",
            "       'reviews_per_month', 'calculated_host_listings_count',\n",
            "       'availability_365', 'discount_price'],\n",
            "      dtype='object')\n"
          ],
          "name": "stdout"
        }
      ]
    },
    {
      "cell_type": "markdown",
      "metadata": {
        "id": "1O4fYfmwVEIH"
      },
      "source": [
        "## 16.Shuffle the data - Create a new column , fill it with random numbers between 1 to 10, then sort the data based on this column. "
      ]
    },
    {
      "cell_type": "code",
      "metadata": {
        "id": "Qsz9AiGIv4iA",
        "outputId": "97cc4fc4-c89f-4b3b-a48f-bfc46528de9e",
        "colab": {
          "base_uri": "https://localhost:8080/",
          "height": 52
        }
      },
      "source": [
        "import numpy as np\n",
        "random_number=np.random.uniform(low=0, high=11, size=AB_NYC_data.shape[0] )\n",
        "print(random_number)\n",
        "print(len(random_number))"
      ],
      "execution_count": null,
      "outputs": [
        {
          "output_type": "stream",
          "text": [
            "[8.84388268 6.60829068 3.50673892 ... 8.97432482 4.1094464  3.04872334]\n",
            "48895\n"
          ],
          "name": "stdout"
        }
      ]
    },
    {
      "cell_type": "code",
      "metadata": {
        "id": "WKEKAMyLVHPQ",
        "outputId": "46426b11-d3b7-4ada-ec74-982efe195d53",
        "colab": {
          "base_uri": "https://localhost:8080/",
          "height": 1000
        }
      },
      "source": [
        "AB_NYC_data[\"random_number_col\"]=random_number\n",
        "print(\"Actual data \\n\", AB_NYC_data.head())\n",
        "AB_NYC_data1=AB_NYC_data.sort_values(by=\"random_number_col\")\n",
        "print(\"Data after shuffling \\n\", AB_NYC_data1.head())"
      ],
      "execution_count": null,
      "outputs": [
        {
          "output_type": "stream",
          "text": [
            "Actual data \n",
            "      id                                              name  host_id  \\\n",
            "0  2539                Clean & quiet apt home by the park     2787   \n",
            "1  2595                             Skylit Midtown Castle     2845   \n",
            "2  3647               THE VILLAGE OF HARLEM....NEW YORK !     4632   \n",
            "3  3831                   Cozy Entire Floor of Brownstone     4869   \n",
            "4  5022  Entire Apt: Spacious Studio/Loft by central park     7192   \n",
            "\n",
            "     host_name neighbourhood_group neighbourhood  latitude  longitude  \\\n",
            "0         John            Brooklyn    Kensington  40.64749  -73.97237   \n",
            "1     Jennifer           Manhattan       Midtown  40.75362  -73.98377   \n",
            "2    Elisabeth           Manhattan        Harlem  40.80902  -73.94190   \n",
            "3  LisaRoxanne            Brooklyn  Clinton Hill  40.68514  -73.95976   \n",
            "4        Laura           Manhattan   East Harlem  40.79851  -73.94399   \n",
            "\n",
            "         room_type  price  minimum_nights  number_of_reviews last_review  \\\n",
            "0     Private room    149               1                  9  2018-10-19   \n",
            "1  Entire home/apt    225               1                 45  2019-05-21   \n",
            "2     Private room    150               3                  0         NaT   \n",
            "3  Entire home/apt     89               1                270  2019-07-05   \n",
            "4  Entire home/apt     80              10                  9  2018-11-19   \n",
            "\n",
            "   reviews_per_month  calculated_host_listings_count  availability_365  \\\n",
            "0               0.21                               6               365   \n",
            "1               0.38                               2               355   \n",
            "2                NaN                               1               365   \n",
            "3               4.64                               1               194   \n",
            "4               0.10                               1                 0   \n",
            "\n",
            "   discount_price  random_number_col  \n",
            "0          111.75           8.843883  \n",
            "1          168.75           6.608291  \n",
            "2          112.50           3.506739  \n",
            "3           66.75           4.877774  \n",
            "4           60.00           2.961234  \n",
            "Data after shuffling \n",
            "              id                                  name    host_id host_name  \\\n",
            "1818     813554         Historic Park Slope Gem - 1br    4275254   Valeria   \n",
            "12681   9726043  Family apt w/ junglegym-bed for kids     292084   Liliana   \n",
            "34631  27469022       Quaint Apartment in East Harlem  207010341     Maria   \n",
            "27265  21540062                        DaDukes Marvel  139879568   Alberto   \n",
            "308       71384       Gigantic Private Brooklyn Loft!     365153       Ben   \n",
            "\n",
            "      neighbourhood_group     neighbourhood  latitude  longitude  \\\n",
            "1818             Brooklyn        Park Slope  40.67228  -73.97248   \n",
            "12681            Brooklyn        Kensington  40.64463  -73.97057   \n",
            "34631           Manhattan       East Harlem  40.79578  -73.93398   \n",
            "27265              Queens  Long Island City  40.76470  -73.93914   \n",
            "308              Brooklyn        Greenpoint  40.72898  -73.95552   \n",
            "\n",
            "             room_type  price  minimum_nights  number_of_reviews last_review  \\\n",
            "1818   Entire home/apt    185              30                 36  2019-05-28   \n",
            "12681  Entire home/apt     95               7                  5  2019-07-05   \n",
            "34631  Entire home/apt    145               5                  2  2018-09-03   \n",
            "27265     Private room     71               1                 63  2019-06-22   \n",
            "308    Entire home/apt    229               1                 50  2014-05-13   \n",
            "\n",
            "       reviews_per_month  calculated_host_listings_count  availability_365  \\\n",
            "1818                0.58                               1               358   \n",
            "12681               0.12                               1                59   \n",
            "34631               0.18                               2                 1   \n",
            "27265               3.19                               6               360   \n",
            "308                 0.50                               1               188   \n",
            "\n",
            "       discount_price  random_number_col  \n",
            "1818           138.75           0.000025  \n",
            "12681           71.25           0.000202  \n",
            "34631          108.75           0.000308  \n",
            "27265           53.25           0.000532  \n",
            "308            171.75           0.000792  \n"
          ],
          "name": "stdout"
        }
      ]
    },
    {
      "cell_type": "markdown",
      "metadata": {
        "id": "u7nIESQBVJRD"
      },
      "source": [
        "## 17.Are there any duplicate rows in the overall dataset?, if yes how many?"
      ]
    },
    {
      "cell_type": "code",
      "metadata": {
        "id": "rzN57R_cxPmX",
        "outputId": "38848efd-2ec5-4660-9fff-c926ac02c4cc",
        "colab": {
          "base_uri": "https://localhost:8080/",
          "height": 34
        }
      },
      "source": [
        "sum(AB_NYC_data.duplicated())"
      ],
      "execution_count": null,
      "outputs": [
        {
          "output_type": "execute_result",
          "data": {
            "text/plain": [
              "0"
            ]
          },
          "metadata": {
            "tags": []
          },
          "execution_count": 34
        }
      ]
    },
    {
      "cell_type": "markdown",
      "metadata": {
        "id": "vdW5QeWgVLRz"
      },
      "source": [
        "## 18.Are there any duplicates based on host_id?"
      ]
    },
    {
      "cell_type": "code",
      "metadata": {
        "id": "D_WGD9WlVKi0",
        "outputId": "554eb1b1-3605-4371-9d0d-99f389dd8d74",
        "colab": {
          "base_uri": "https://localhost:8080/",
          "height": 34
        }
      },
      "source": [
        "sum(AB_NYC_data.duplicated([\"host_id\"]))"
      ],
      "execution_count": null,
      "outputs": [
        {
          "output_type": "execute_result",
          "data": {
            "text/plain": [
              "11438"
            ]
          },
          "metadata": {
            "tags": []
          },
          "execution_count": 35
        }
      ]
    },
    {
      "cell_type": "markdown",
      "metadata": {
        "id": "cKtPVPQ_VP8y"
      },
      "source": [
        "## 19.Import the AB_NYC_2019_Reviews.csv data. Attach ratings data to the input data. "
      ]
    },
    {
      "cell_type": "code",
      "metadata": {
        "id": "TXPP7jUcVY0D",
        "outputId": "42d8da95-0fa5-447c-f372-1e3141889efe",
        "colab": {
          "base_uri": "https://localhost:8080/",
          "height": 34
        }
      },
      "source": [
        "#Import the AB_NYC_2019_Reviews.csv data. Attach ratings data to the input data.\n",
        "review_data=pd.read_csv(\"https://raw.githubusercontent.com/venkatareddykonasani/python_5days/master/Day2_Files/Datasets/AB_NYC_2019_Reviews.csv\")\n",
        "review_data.shape"
      ],
      "execution_count": null,
      "outputs": [
        {
          "output_type": "execute_result",
          "data": {
            "text/plain": [
              "(38843, 8)"
            ]
          },
          "metadata": {
            "tags": []
          },
          "execution_count": 36
        }
      ]
    },
    {
      "cell_type": "code",
      "metadata": {
        "id": "nXBMypPD0A-k",
        "outputId": "3fc4ff17-2c13-49d8-d64a-2720c0bd1d55",
        "colab": {
          "base_uri": "https://localhost:8080/",
          "height": 276
        }
      },
      "source": [
        "review_data.info()"
      ],
      "execution_count": null,
      "outputs": [
        {
          "output_type": "stream",
          "text": [
            "<class 'pandas.core.frame.DataFrame'>\n",
            "RangeIndex: 38843 entries, 0 to 38842\n",
            "Data columns (total 8 columns):\n",
            " #   Column             Non-Null Count  Dtype  \n",
            "---  ------             --------------  -----  \n",
            " 0   id                 38843 non-null  int64  \n",
            " 1   name               38837 non-null  object \n",
            " 2   host_id            38843 non-null  int64  \n",
            " 3   host_name          38827 non-null  object \n",
            " 4   number_of_reviews  38843 non-null  int64  \n",
            " 5   last_review        38843 non-null  object \n",
            " 6   reviews_per_month  38843 non-null  float64\n",
            " 7   Rating             38843 non-null  float64\n",
            "dtypes: float64(2), int64(3), object(3)\n",
            "memory usage: 2.4+ MB\n"
          ],
          "name": "stdout"
        }
      ]
    },
    {
      "cell_type": "code",
      "metadata": {
        "id": "sLBXVUtS0DAx"
      },
      "source": [
        "AB_NYC_data_review_l=pd.merge(AB_NYC_data,review_data, on=[\"id\"], how=\"left\")"
      ],
      "execution_count": null,
      "outputs": []
    },
    {
      "cell_type": "code",
      "metadata": {
        "id": "HSupf85u0NOt",
        "outputId": "2f343b5e-3bb7-4cd5-f0d1-8d05f088cd9b",
        "colab": {
          "base_uri": "https://localhost:8080/",
          "height": 69
        }
      },
      "source": [
        "print(\"input_data shape\", AB_NYC_data.shape)\n",
        "print(\"review_data shape\", review_data.shape)\n",
        "print(\"input_and_review_l shape\", AB_NYC_data_review_l.shape)"
      ],
      "execution_count": null,
      "outputs": [
        {
          "output_type": "stream",
          "text": [
            "input_data shape (48895, 18)\n",
            "review_data shape (38843, 8)\n",
            "input_and_review_l shape (48895, 25)\n"
          ],
          "name": "stdout"
        }
      ]
    },
    {
      "cell_type": "markdown",
      "metadata": {
        "id": "h5HB2OFCVTIz"
      },
      "source": [
        "## 20.Export the above merged data into a csv file"
      ]
    },
    {
      "cell_type": "code",
      "metadata": {
        "id": "7TsZiJGWVROV"
      },
      "source": [
        "AB_NYC_data_review_l.to_csv(\"AB_NYC_data_review_l.csv\")"
      ],
      "execution_count": null,
      "outputs": []
    }
  ]
}